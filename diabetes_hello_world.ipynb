{
 "cells": [
  {
   "cell_type": "code",
   "execution_count": 8,
   "metadata": {
    "collapsed": true
   },
   "outputs": [],
   "source": [
    "import h2o\n",
    "from h2o.automl import H2OAutoML\n",
    "import random, os, sys\n",
    "from datetime import datetime\n",
    "import pandas as pd\n",
    "import logging\n",
    "import csv\n",
    "import optparse\n",
    "import time\n",
    "import json\n",
    "from distutils.util import strtobool\n",
    "import psutil\n",
    "import numpy as np"
   ]
  },
  {
   "cell_type": "code",
   "execution_count": 9,
   "metadata": {},
   "outputs": [
    {
     "name": "stdout",
     "output_type": "stream",
     "text": [
      "3\n"
     ]
    }
   ],
   "source": [
    "pct_memory=0.5\n",
    "virtual_memory=psutil.virtual_memory()\n",
    "min_mem_size=int(round(int(pct_memory*virtual_memory.available)/1073741824,0))\n",
    "print(min_mem_size)"
   ]
  },
  {
   "cell_type": "code",
   "execution_count": 10,
   "metadata": {},
   "outputs": [
    {
     "name": "stdout",
     "output_type": "stream",
     "text": [
      "Checking whether there is an H2O instance running at http://localhost:34946..... not found.\n",
      "Attempting to start a local H2O server...\n",
      "  Java Version: openjdk version \"1.8.0_121\"; OpenJDK Runtime Environment (Zulu 8.20.0.5-macosx) (build 1.8.0_121-b15); OpenJDK 64-Bit Server VM (Zulu 8.20.0.5-macosx) (build 25.121-b15, mixed mode)\n",
      "  Starting server from /Users/bear/anaconda/lib/python3.6/site-packages/h2o/backend/bin/h2o.jar\n",
      "  Ice root: /var/folders/lh/42j8mfjx069d1bkc2wlf2pw40000gn/T/tmpajf7ztxb\n",
      "  JVM stdout: /var/folders/lh/42j8mfjx069d1bkc2wlf2pw40000gn/T/tmpajf7ztxb/h2o_bear_started_from_python.out\n",
      "  JVM stderr: /var/folders/lh/42j8mfjx069d1bkc2wlf2pw40000gn/T/tmpajf7ztxb/h2o_bear_started_from_python.err\n",
      "  Server is running at http://127.0.0.1:34946\n",
      "Connecting to H2O server at http://127.0.0.1:34946... successful.\n"
     ]
    },
    {
     "data": {
      "text/html": [
       "<div style=\"overflow:auto\"><table style=\"width:50%\"><tr><td>H2O cluster uptime:</td>\n",
       "<td>01 secs</td></tr>\n",
       "<tr><td>H2O cluster timezone:</td>\n",
       "<td>America/New_York</td></tr>\n",
       "<tr><td>H2O data parsing timezone:</td>\n",
       "<td>UTC</td></tr>\n",
       "<tr><td>H2O cluster version:</td>\n",
       "<td>3.22.1.3</td></tr>\n",
       "<tr><td>H2O cluster version age:</td>\n",
       "<td>14 days, 19 hours and 5 minutes </td></tr>\n",
       "<tr><td>H2O cluster name:</td>\n",
       "<td>H2O_from_python_bear_1nb42r</td></tr>\n",
       "<tr><td>H2O cluster total nodes:</td>\n",
       "<td>1</td></tr>\n",
       "<tr><td>H2O cluster free memory:</td>\n",
       "<td>3.556 Gb</td></tr>\n",
       "<tr><td>H2O cluster total cores:</td>\n",
       "<td>8</td></tr>\n",
       "<tr><td>H2O cluster allowed cores:</td>\n",
       "<td>8</td></tr>\n",
       "<tr><td>H2O cluster status:</td>\n",
       "<td>accepting new members, healthy</td></tr>\n",
       "<tr><td>H2O connection url:</td>\n",
       "<td>http://127.0.0.1:34946</td></tr>\n",
       "<tr><td>H2O connection proxy:</td>\n",
       "<td>None</td></tr>\n",
       "<tr><td>H2O internal security:</td>\n",
       "<td>False</td></tr>\n",
       "<tr><td>H2O API Extensions:</td>\n",
       "<td>XGBoost, Algos, AutoML, Core V3, Core V4</td></tr>\n",
       "<tr><td>Python version:</td>\n",
       "<td>3.6.5 final</td></tr></table></div>"
      ],
      "text/plain": [
       "--------------------------  ----------------------------------------\n",
       "H2O cluster uptime:         01 secs\n",
       "H2O cluster timezone:       America/New_York\n",
       "H2O data parsing timezone:  UTC\n",
       "H2O cluster version:        3.22.1.3\n",
       "H2O cluster version age:    14 days, 19 hours and 5 minutes\n",
       "H2O cluster name:           H2O_from_python_bear_1nb42r\n",
       "H2O cluster total nodes:    1\n",
       "H2O cluster free memory:    3.556 Gb\n",
       "H2O cluster total cores:    8\n",
       "H2O cluster allowed cores:  8\n",
       "H2O cluster status:         accepting new members, healthy\n",
       "H2O connection url:         http://127.0.0.1:34946\n",
       "H2O connection proxy:\n",
       "H2O internal security:      False\n",
       "H2O API Extensions:         XGBoost, Algos, AutoML, Core V3, Core V4\n",
       "Python version:             3.6.5 final\n",
       "--------------------------  ----------------------------------------"
      ]
     },
     "metadata": {},
     "output_type": "display_data"
    }
   ],
   "source": [
    "# 65535 Highest port no\n",
    "port_no=random.randint(5555,55555)\n",
    "h2o.init(strict_version_check=False,min_mem_size_GB=min_mem_size,port=port_no) # start h2o\n"
   ]
  },
  {
   "cell_type": "code",
   "execution_count": 11,
   "metadata": {},
   "outputs": [
    {
     "name": "stdout",
     "output_type": "stream",
     "text": [
      "Parse progress: |█████████████████████████████████████████████████████████| 100%\n"
     ]
    }
   ],
   "source": [
    "# Import data and manage data types\n",
    "train_path = \"data/diabetes_train.csv\"\n",
    "train = h2o.import_file(train_path)"
   ]
  },
  {
   "cell_type": "code",
   "execution_count": 12,
   "metadata": {},
   "outputs": [
    {
     "data": {
      "text/html": [
       "<table>\n",
       "<thead>\n",
       "<tr><th style=\"text-align: right;\">              id</th><th style=\"text-align: right;\">  patient_nbr</th><th>race           </th><th>gender  </th><th>age     </th><th>weight  </th><th style=\"text-align: right;\">  admission_type_id</th><th style=\"text-align: right;\">  discharge_disposition_id</th><th style=\"text-align: right;\">  admission_source_id</th><th style=\"text-align: right;\">  time_in_hospital</th><th>payer_code  </th><th>medical_specialty       </th><th style=\"text-align: right;\">  num_lab_procedures</th><th style=\"text-align: right;\">  num_procedures</th><th style=\"text-align: right;\">  num_medications</th><th style=\"text-align: right;\">  number_outpatient</th><th style=\"text-align: right;\">  number_emergency</th><th style=\"text-align: right;\">  number_inpatient</th><th style=\"text-align: right;\">  diag_1</th><th style=\"text-align: right;\">  diag_2</th><th style=\"text-align: right;\">  diag_3</th><th style=\"text-align: right;\">  number_diagnoses</th><th>max_glu_serum  </th><th>A1Cresult  </th><th>metformin  </th><th>repaglinide  </th><th>nateglinide  </th><th>chlorpropamide  </th><th>glimepiride  </th><th>acetohexamide  </th><th>glipizide  </th><th>glyburide  </th><th>tolbutamide  </th><th>pioglitazone  </th><th>rosiglitazone  </th><th>acarbose  </th><th>miglitol  </th><th>troglitazone  </th><th>tolazamide  </th><th>examide  </th><th>citoglipton  </th><th>insulin  </th><th>glyburide-metformin  </th><th>glipizide-metformin  </th><th>glimepiride-pioglitazone  </th><th>metformin-rosiglitazone  </th><th>metformin-pioglitazone  </th><th>change  </th><th>diabetesMed  </th><th>readmitted  </th></tr>\n",
       "</thead>\n",
       "<tbody>\n",
       "<tr><td style=\"text-align: right;\">     2.27839e+06</td><td style=\"text-align: right;\">  8.22216e+06</td><td>Caucasian      </td><td>Female  </td><td>[0-10)  </td><td>?       </td><td style=\"text-align: right;\">                  6</td><td style=\"text-align: right;\">                        25</td><td style=\"text-align: right;\">                    1</td><td style=\"text-align: right;\">                 1</td><td>?           </td><td>Pediatrics-Endocrinology</td><td style=\"text-align: right;\">                  41</td><td style=\"text-align: right;\">               0</td><td style=\"text-align: right;\">                1</td><td style=\"text-align: right;\">                  0</td><td style=\"text-align: right;\">                 0</td><td style=\"text-align: right;\">                 0</td><td style=\"text-align: right;\">  250.83</td><td style=\"text-align: right;\">  nan   </td><td style=\"text-align: right;\">   nan  </td><td style=\"text-align: right;\">                 1</td><td>None           </td><td>None       </td><td>No         </td><td>No           </td><td>No           </td><td>No              </td><td>No           </td><td>No             </td><td>No         </td><td>No         </td><td>No           </td><td>No            </td><td>No             </td><td>No        </td><td>No        </td><td>No            </td><td>No          </td><td>No       </td><td>No           </td><td>No       </td><td>No                   </td><td>No                   </td><td>No                        </td><td>No                       </td><td>No                      </td><td>No      </td><td>No           </td><td>NO          </td></tr>\n",
       "<tr><td style=\"text-align: right;\"> 64410          </td><td style=\"text-align: right;\">  8.60479e+07</td><td>AfricanAmerican</td><td>Female  </td><td>[20-30) </td><td>?       </td><td style=\"text-align: right;\">                  1</td><td style=\"text-align: right;\">                         1</td><td style=\"text-align: right;\">                    7</td><td style=\"text-align: right;\">                 2</td><td>?           </td><td>?                       </td><td style=\"text-align: right;\">                  11</td><td style=\"text-align: right;\">               5</td><td style=\"text-align: right;\">               13</td><td style=\"text-align: right;\">                  2</td><td style=\"text-align: right;\">                 0</td><td style=\"text-align: right;\">                 1</td><td style=\"text-align: right;\">  648   </td><td style=\"text-align: right;\">  250   </td><td style=\"text-align: right;\">   nan  </td><td style=\"text-align: right;\">                 6</td><td>None           </td><td>None       </td><td>No         </td><td>No           </td><td>No           </td><td>No              </td><td>No           </td><td>No             </td><td>Steady     </td><td>No         </td><td>No           </td><td>No            </td><td>No             </td><td>No        </td><td>No        </td><td>No            </td><td>No          </td><td>No       </td><td>No           </td><td>No       </td><td>No                   </td><td>No                   </td><td>No                        </td><td>No                       </td><td>No                      </td><td>No      </td><td>Yes          </td><td>NO          </td></tr>\n",
       "<tr><td style=\"text-align: right;\">500364          </td><td style=\"text-align: right;\">  8.24424e+07</td><td>Caucasian      </td><td>Male    </td><td>[30-40) </td><td>?       </td><td style=\"text-align: right;\">                  1</td><td style=\"text-align: right;\">                         1</td><td style=\"text-align: right;\">                    7</td><td style=\"text-align: right;\">                 2</td><td>?           </td><td>?                       </td><td style=\"text-align: right;\">                  44</td><td style=\"text-align: right;\">               1</td><td style=\"text-align: right;\">               16</td><td style=\"text-align: right;\">                  0</td><td style=\"text-align: right;\">                 0</td><td style=\"text-align: right;\">                 0</td><td style=\"text-align: right;\">    8   </td><td style=\"text-align: right;\">  250.43</td><td style=\"text-align: right;\">   403  </td><td style=\"text-align: right;\">                 7</td><td>None           </td><td>None       </td><td>No         </td><td>No           </td><td>No           </td><td>No              </td><td>No           </td><td>No             </td><td>No         </td><td>No         </td><td>No           </td><td>No            </td><td>No             </td><td>No        </td><td>No        </td><td>No            </td><td>No          </td><td>No       </td><td>No           </td><td>Up       </td><td>No                   </td><td>No                   </td><td>No                        </td><td>No                       </td><td>No                      </td><td>Ch      </td><td>Yes          </td><td>NO          </td></tr>\n",
       "<tr><td style=\"text-align: right;\"> 16680          </td><td style=\"text-align: right;\">  4.25193e+07</td><td>Caucasian      </td><td>Male    </td><td>[40-50) </td><td>?       </td><td style=\"text-align: right;\">                  1</td><td style=\"text-align: right;\">                         1</td><td style=\"text-align: right;\">                    7</td><td style=\"text-align: right;\">                 1</td><td>?           </td><td>?                       </td><td style=\"text-align: right;\">                  51</td><td style=\"text-align: right;\">               0</td><td style=\"text-align: right;\">                8</td><td style=\"text-align: right;\">                  0</td><td style=\"text-align: right;\">                 0</td><td style=\"text-align: right;\">                 0</td><td style=\"text-align: right;\">  197   </td><td style=\"text-align: right;\">  157   </td><td style=\"text-align: right;\">   250  </td><td style=\"text-align: right;\">                 5</td><td>None           </td><td>None       </td><td>No         </td><td>No           </td><td>No           </td><td>No              </td><td>No           </td><td>No             </td><td>Steady     </td><td>No         </td><td>No           </td><td>No            </td><td>No             </td><td>No        </td><td>No        </td><td>No            </td><td>No          </td><td>No       </td><td>No           </td><td>Steady   </td><td>No                   </td><td>No                   </td><td>No                        </td><td>No                       </td><td>No                      </td><td>Ch      </td><td>Yes          </td><td>NO          </td></tr>\n",
       "<tr><td style=\"text-align: right;\"> 55842          </td><td style=\"text-align: right;\">  8.42598e+07</td><td>Caucasian      </td><td>Male    </td><td>[60-70) </td><td>?       </td><td style=\"text-align: right;\">                  3</td><td style=\"text-align: right;\">                         1</td><td style=\"text-align: right;\">                    2</td><td style=\"text-align: right;\">                 4</td><td>?           </td><td>?                       </td><td style=\"text-align: right;\">                  70</td><td style=\"text-align: right;\">               1</td><td style=\"text-align: right;\">               21</td><td style=\"text-align: right;\">                  0</td><td style=\"text-align: right;\">                 0</td><td style=\"text-align: right;\">                 0</td><td style=\"text-align: right;\">  414   </td><td style=\"text-align: right;\">  411   </td><td style=\"text-align: right;\">   nan  </td><td style=\"text-align: right;\">                 7</td><td>None           </td><td>None       </td><td>Steady     </td><td>No           </td><td>No           </td><td>No              </td><td>Steady       </td><td>No             </td><td>No         </td><td>No         </td><td>No           </td><td>No            </td><td>No             </td><td>No        </td><td>No        </td><td>No            </td><td>No          </td><td>No       </td><td>No           </td><td>Steady   </td><td>No                   </td><td>No                   </td><td>No                        </td><td>No                       </td><td>No                      </td><td>Ch      </td><td>Yes          </td><td>NO          </td></tr>\n",
       "<tr><td style=\"text-align: right;\"> 12522          </td><td style=\"text-align: right;\">  4.83308e+07</td><td>Caucasian      </td><td>Female  </td><td>[80-90) </td><td>?       </td><td style=\"text-align: right;\">                  2</td><td style=\"text-align: right;\">                         1</td><td style=\"text-align: right;\">                    4</td><td style=\"text-align: right;\">                13</td><td>?           </td><td>?                       </td><td style=\"text-align: right;\">                  68</td><td style=\"text-align: right;\">               2</td><td style=\"text-align: right;\">               28</td><td style=\"text-align: right;\">                  0</td><td style=\"text-align: right;\">                 0</td><td style=\"text-align: right;\">                 0</td><td style=\"text-align: right;\">  398   </td><td style=\"text-align: right;\">  427   </td><td style=\"text-align: right;\">    38  </td><td style=\"text-align: right;\">                 8</td><td>None           </td><td>None       </td><td>No         </td><td>No           </td><td>No           </td><td>No              </td><td>No           </td><td>No             </td><td>Steady     </td><td>No         </td><td>No           </td><td>No            </td><td>No             </td><td>No        </td><td>No        </td><td>No            </td><td>No          </td><td>No       </td><td>No           </td><td>Steady   </td><td>No                   </td><td>No                   </td><td>No                        </td><td>No                       </td><td>No                      </td><td>Ch      </td><td>Yes          </td><td>NO          </td></tr>\n",
       "<tr><td style=\"text-align: right;\"> 15738          </td><td style=\"text-align: right;\">  6.35559e+07</td><td>Caucasian      </td><td>Female  </td><td>[90-100)</td><td>?       </td><td style=\"text-align: right;\">                  3</td><td style=\"text-align: right;\">                         3</td><td style=\"text-align: right;\">                    4</td><td style=\"text-align: right;\">                12</td><td>?           </td><td>InternalMedicine        </td><td style=\"text-align: right;\">                  33</td><td style=\"text-align: right;\">               3</td><td style=\"text-align: right;\">               18</td><td style=\"text-align: right;\">                  0</td><td style=\"text-align: right;\">                 0</td><td style=\"text-align: right;\">                 0</td><td style=\"text-align: right;\">  434   </td><td style=\"text-align: right;\">  198   </td><td style=\"text-align: right;\">   486  </td><td style=\"text-align: right;\">                 8</td><td>None           </td><td>None       </td><td>No         </td><td>No           </td><td>No           </td><td>No              </td><td>No           </td><td>No             </td><td>No         </td><td>No         </td><td>No           </td><td>No            </td><td>Steady         </td><td>No        </td><td>No        </td><td>No            </td><td>No          </td><td>No       </td><td>No           </td><td>Steady   </td><td>No                   </td><td>No                   </td><td>No                        </td><td>No                       </td><td>No                      </td><td>Ch      </td><td>Yes          </td><td>NO          </td></tr>\n",
       "<tr><td style=\"text-align: right;\"> 36900          </td><td style=\"text-align: right;\">  7.73912e+07</td><td>AfricanAmerican</td><td>Male    </td><td>[60-70) </td><td>?       </td><td style=\"text-align: right;\">                  2</td><td style=\"text-align: right;\">                         1</td><td style=\"text-align: right;\">                    4</td><td style=\"text-align: right;\">                 7</td><td>?           </td><td>?                       </td><td style=\"text-align: right;\">                  62</td><td style=\"text-align: right;\">               0</td><td style=\"text-align: right;\">               11</td><td style=\"text-align: right;\">                  0</td><td style=\"text-align: right;\">                 0</td><td style=\"text-align: right;\">                 0</td><td style=\"text-align: right;\">  157   </td><td style=\"text-align: right;\">  288   </td><td style=\"text-align: right;\">   197  </td><td style=\"text-align: right;\">                 7</td><td>None           </td><td>None       </td><td>No         </td><td>No           </td><td>No           </td><td>No              </td><td>No           </td><td>No             </td><td>No         </td><td>Up         </td><td>No           </td><td>No            </td><td>No             </td><td>No        </td><td>No        </td><td>No            </td><td>No          </td><td>No       </td><td>No           </td><td>Steady   </td><td>No                   </td><td>No                   </td><td>No                        </td><td>No                       </td><td>No                      </td><td>Ch      </td><td>Yes          </td><td><30         </td></tr>\n",
       "<tr><td style=\"text-align: right;\"> 40926          </td><td style=\"text-align: right;\">  8.55049e+07</td><td>Caucasian      </td><td>Female  </td><td>[40-50) </td><td>?       </td><td style=\"text-align: right;\">                  1</td><td style=\"text-align: right;\">                         3</td><td style=\"text-align: right;\">                    7</td><td style=\"text-align: right;\">                 7</td><td>?           </td><td>Family/GeneralPractice  </td><td style=\"text-align: right;\">                  60</td><td style=\"text-align: right;\">               0</td><td style=\"text-align: right;\">               15</td><td style=\"text-align: right;\">                  0</td><td style=\"text-align: right;\">                 1</td><td style=\"text-align: right;\">                 0</td><td style=\"text-align: right;\">  428   </td><td style=\"text-align: right;\">  250.43</td><td style=\"text-align: right;\">   250.6</td><td style=\"text-align: right;\">                 8</td><td>None           </td><td>None       </td><td>Steady     </td><td>Up           </td><td>No           </td><td>No              </td><td>No           </td><td>No             </td><td>No         </td><td>No         </td><td>No           </td><td>No            </td><td>No             </td><td>No        </td><td>No        </td><td>No            </td><td>No          </td><td>No       </td><td>No           </td><td>Down     </td><td>No                   </td><td>No                   </td><td>No                        </td><td>No                       </td><td>No                      </td><td>Ch      </td><td>Yes          </td><td><30         </td></tr>\n",
       "<tr><td style=\"text-align: right;\"> 42570          </td><td style=\"text-align: right;\">  7.75863e+07</td><td>Caucasian      </td><td>Male    </td><td>[80-90) </td><td>?       </td><td style=\"text-align: right;\">                  1</td><td style=\"text-align: right;\">                         6</td><td style=\"text-align: right;\">                    7</td><td style=\"text-align: right;\">                10</td><td>?           </td><td>Family/GeneralPractice  </td><td style=\"text-align: right;\">                  55</td><td style=\"text-align: right;\">               1</td><td style=\"text-align: right;\">               31</td><td style=\"text-align: right;\">                  0</td><td style=\"text-align: right;\">                 0</td><td style=\"text-align: right;\">                 0</td><td style=\"text-align: right;\">  428   </td><td style=\"text-align: right;\">  411   </td><td style=\"text-align: right;\">   427  </td><td style=\"text-align: right;\">                 8</td><td>None           </td><td>None       </td><td>No         </td><td>No           </td><td>No           </td><td>No              </td><td>No           </td><td>No             </td><td>No         </td><td>No         </td><td>No           </td><td>No            </td><td>No             </td><td>No        </td><td>No        </td><td>No            </td><td>No          </td><td>No       </td><td>No           </td><td>Steady   </td><td>No                   </td><td>No                   </td><td>No                        </td><td>No                       </td><td>No                      </td><td>No      </td><td>Yes          </td><td>NO          </td></tr>\n",
       "</tbody>\n",
       "</table>"
      ]
     },
     "metadata": {},
     "output_type": "display_data"
    },
    {
     "data": {
      "text/plain": []
     },
     "execution_count": 12,
     "metadata": {},
     "output_type": "execute_result"
    }
   ],
   "source": [
    "train.head()"
   ]
  },
  {
   "cell_type": "code",
   "execution_count": 13,
   "metadata": {},
   "outputs": [
    {
     "name": "stdout",
     "output_type": "stream",
     "text": [
      "Rows:50001\n",
      "Cols:50\n",
      "\n",
      "\n"
     ]
    },
    {
     "data": {
      "text/html": [
       "<table>\n",
       "<thead>\n",
       "<tr><th>       </th><th>id               </th><th>patient_nbr       </th><th>race           </th><th>gender  </th><th>age     </th><th>weight  </th><th>admission_type_id  </th><th>discharge_disposition_id  </th><th>admission_source_id  </th><th>time_in_hospital  </th><th>payer_code  </th><th>medical_specialty       </th><th>num_lab_procedures  </th><th>num_procedures    </th><th>num_medications   </th><th>number_outpatient  </th><th>number_emergency   </th><th>number_inpatient  </th><th>diag_1            </th><th>diag_2            </th><th>diag_3            </th><th>number_diagnoses  </th><th>max_glu_serum  </th><th>A1Cresult  </th><th>metformin  </th><th>repaglinide  </th><th>nateglinide  </th><th>chlorpropamide  </th><th>glimepiride  </th><th>acetohexamide  </th><th>glipizide  </th><th>glyburide  </th><th>tolbutamide  </th><th>pioglitazone  </th><th>rosiglitazone  </th><th>acarbose  </th><th>miglitol  </th><th>troglitazone  </th><th>tolazamide  </th><th>examide  </th><th>citoglipton  </th><th>insulin  </th><th>glyburide-metformin  </th><th>glipizide-metformin  </th><th>glimepiride-pioglitazone  </th><th>metformin-rosiglitazone  </th><th>metformin-pioglitazone  </th><th>change  </th><th>diabetesMed  </th><th>readmitted  </th></tr>\n",
       "</thead>\n",
       "<tbody>\n",
       "<tr><td>type   </td><td>int              </td><td>int               </td><td>enum           </td><td>enum    </td><td>enum    </td><td>enum    </td><td>int                </td><td>int                       </td><td>int                  </td><td>int               </td><td>enum        </td><td>enum                    </td><td>int                 </td><td>int               </td><td>int               </td><td>int                </td><td>int                </td><td>int               </td><td>real              </td><td>real              </td><td>real              </td><td>int               </td><td>enum           </td><td>enum       </td><td>enum       </td><td>enum         </td><td>enum         </td><td>enum            </td><td>enum         </td><td>enum           </td><td>enum       </td><td>enum       </td><td>enum         </td><td>enum          </td><td>enum           </td><td>enum      </td><td>enum      </td><td>enum          </td><td>enum        </td><td>enum     </td><td>enum         </td><td>enum     </td><td>enum                 </td><td>enum                 </td><td>enum                      </td><td>enum                     </td><td>enum                    </td><td>enum    </td><td>enum         </td><td>enum        </td></tr>\n",
       "<tr><td>mins   </td><td>12522.0          </td><td>135.0             </td><td>               </td><td>        </td><td>        </td><td>        </td><td>1.0                </td><td>1.0                       </td><td>1.0                  </td><td>1.0               </td><td>            </td><td>                        </td><td>1.0                 </td><td>0.0               </td><td>1.0               </td><td>0.0                </td><td>0.0                </td><td>0.0               </td><td>3.0               </td><td>8.0               </td><td>5.0               </td><td>1.0               </td><td>               </td><td>           </td><td>           </td><td>             </td><td>             </td><td>                </td><td>             </td><td>               </td><td>           </td><td>           </td><td>             </td><td>              </td><td>               </td><td>          </td><td>          </td><td>              </td><td>            </td><td>         </td><td>             </td><td>         </td><td>                     </td><td>                     </td><td>                          </td><td>                         </td><td>                        </td><td>        </td><td>             </td><td>            </td></tr>\n",
       "<tr><td>mean   </td><td>118350344.8944621</td><td>43491484.558948815</td><td>               </td><td>        </td><td>        </td><td>        </td><td>2.102177956440871  </td><td>4.167336653266933         </td><td>5.74982500349993     </td><td>4.4368312633747315</td><td>            </td><td>                        </td><td>42.90460190796182   </td><td>1.385032299354013 </td><td>15.681846363072736</td><td>0.25887482250355004</td><td>0.13165736685266294</td><td>0.523189536209276 </td><td>493.62482470614606</td><td>432.29717529593415</td><td>412.4333165829146 </td><td>7.069218615627688 </td><td>               </td><td>           </td><td>           </td><td>             </td><td>             </td><td>                </td><td>             </td><td>               </td><td>           </td><td>           </td><td>             </td><td>              </td><td>               </td><td>          </td><td>          </td><td>              </td><td>            </td><td>         </td><td>             </td><td>         </td><td>                     </td><td>                     </td><td>                          </td><td>                         </td><td>                        </td><td>        </td><td>             </td><td>            </td></tr>\n",
       "<tr><td>maxs   </td><td>240277404.0      </td><td>115218477.0       </td><td>               </td><td>        </td><td>        </td><td>        </td><td>8.0                </td><td>28.0                      </td><td>22.0                 </td><td>14.0              </td><td>            </td><td>                        </td><td>132.0               </td><td>6.0               </td><td>81.0              </td><td>36.0               </td><td>28.0               </td><td>21.0              </td><td>999.0             </td><td>999.0             </td><td>999.0             </td><td>9.0               </td><td>               </td><td>           </td><td>           </td><td>             </td><td>             </td><td>                </td><td>             </td><td>               </td><td>           </td><td>           </td><td>             </td><td>              </td><td>               </td><td>          </td><td>          </td><td>              </td><td>            </td><td>         </td><td>             </td><td>         </td><td>                     </td><td>                     </td><td>                          </td><td>                         </td><td>                        </td><td>        </td><td>             </td><td>            </td></tr>\n",
       "<tr><td>sigma  </td><td>60444491.42445576</td><td>35065949.89381691 </td><td>               </td><td>        </td><td>        </td><td>        </td><td>1.4867613986147448 </td><td>5.808736341446589         </td><td>4.316877484869778    </td><td>3.0317477848441454</td><td>            </td><td>                        </td><td>19.066150608395485  </td><td>1.6987840249592443</td><td>8.459927673383218 </td><td>0.9949384332461385 </td><td>0.636463660455315  </td><td>1.156783140720553 </td><td>208.26118899894746</td><td>180.2259649013558 </td><td>177.02506045996856</td><td>2.02268848007454  </td><td>               </td><td>           </td><td>           </td><td>             </td><td>             </td><td>                </td><td>             </td><td>               </td><td>           </td><td>           </td><td>             </td><td>              </td><td>               </td><td>          </td><td>          </td><td>              </td><td>            </td><td>         </td><td>             </td><td>         </td><td>                     </td><td>                     </td><td>                          </td><td>                         </td><td>                        </td><td>        </td><td>             </td><td>            </td></tr>\n",
       "<tr><td>zeros  </td><td>0                </td><td>0                 </td><td>               </td><td>        </td><td>        </td><td>        </td><td>0                  </td><td>0                         </td><td>0                    </td><td>0                 </td><td>            </td><td>                        </td><td>0                   </td><td>21844             </td><td>0                 </td><td>43811              </td><td>45948              </td><td>35748             </td><td>0                 </td><td>0                 </td><td>0                 </td><td>0                 </td><td>               </td><td>           </td><td>           </td><td>             </td><td>             </td><td>                </td><td>             </td><td>               </td><td>           </td><td>           </td><td>             </td><td>              </td><td>               </td><td>          </td><td>          </td><td>              </td><td>            </td><td>         </td><td>             </td><td>         </td><td>                     </td><td>                     </td><td>                          </td><td>                         </td><td>                        </td><td>        </td><td>             </td><td>            </td></tr>\n",
       "<tr><td>missing</td><td>0                </td><td>0                 </td><td>0              </td><td>0       </td><td>0       </td><td>0       </td><td>0                  </td><td>0                         </td><td>0                    </td><td>0                 </td><td>0           </td><td>0                       </td><td>0                   </td><td>0                 </td><td>0                 </td><td>0                  </td><td>0                  </td><td>0                 </td><td>912               </td><td>1426              </td><td>3435              </td><td>0                 </td><td>0              </td><td>0          </td><td>0          </td><td>0            </td><td>0            </td><td>0               </td><td>0            </td><td>0              </td><td>0          </td><td>0          </td><td>0            </td><td>0             </td><td>0              </td><td>0         </td><td>0         </td><td>0             </td><td>0           </td><td>0        </td><td>0            </td><td>0        </td><td>0                    </td><td>0                    </td><td>0                         </td><td>0                        </td><td>0                       </td><td>0       </td><td>0            </td><td>0           </td></tr>\n",
       "<tr><td>0      </td><td>2278392.0        </td><td>8222157.0         </td><td>Caucasian      </td><td>Female  </td><td>[0-10)  </td><td>?       </td><td>6.0                </td><td>25.0                      </td><td>1.0                  </td><td>1.0               </td><td>?           </td><td>Pediatrics-Endocrinology</td><td>41.0                </td><td>0.0               </td><td>1.0               </td><td>0.0                </td><td>0.0                </td><td>0.0               </td><td>250.83            </td><td>nan               </td><td>nan               </td><td>1.0               </td><td>None           </td><td>None       </td><td>No         </td><td>No           </td><td>No           </td><td>No              </td><td>No           </td><td>No             </td><td>No         </td><td>No         </td><td>No           </td><td>No            </td><td>No             </td><td>No        </td><td>No        </td><td>No            </td><td>No          </td><td>No       </td><td>No           </td><td>No       </td><td>No                   </td><td>No                   </td><td>No                        </td><td>No                       </td><td>No                      </td><td>No      </td><td>No           </td><td>NO          </td></tr>\n",
       "<tr><td>1      </td><td>64410.0          </td><td>86047875.0        </td><td>AfricanAmerican</td><td>Female  </td><td>[20-30) </td><td>?       </td><td>1.0                </td><td>1.0                       </td><td>7.0                  </td><td>2.0               </td><td>?           </td><td>?                       </td><td>11.0                </td><td>5.0               </td><td>13.0              </td><td>2.0                </td><td>0.0                </td><td>1.0               </td><td>648.0             </td><td>250.0             </td><td>nan               </td><td>6.0               </td><td>None           </td><td>None       </td><td>No         </td><td>No           </td><td>No           </td><td>No              </td><td>No           </td><td>No             </td><td>Steady     </td><td>No         </td><td>No           </td><td>No            </td><td>No             </td><td>No        </td><td>No        </td><td>No            </td><td>No          </td><td>No       </td><td>No           </td><td>No       </td><td>No                   </td><td>No                   </td><td>No                        </td><td>No                       </td><td>No                      </td><td>No      </td><td>Yes          </td><td>NO          </td></tr>\n",
       "<tr><td>2      </td><td>500364.0         </td><td>82442376.0        </td><td>Caucasian      </td><td>Male    </td><td>[30-40) </td><td>?       </td><td>1.0                </td><td>1.0                       </td><td>7.0                  </td><td>2.0               </td><td>?           </td><td>?                       </td><td>44.0                </td><td>1.0               </td><td>16.0              </td><td>0.0                </td><td>0.0                </td><td>0.0               </td><td>8.0               </td><td>250.43            </td><td>403.0             </td><td>7.0               </td><td>None           </td><td>None       </td><td>No         </td><td>No           </td><td>No           </td><td>No              </td><td>No           </td><td>No             </td><td>No         </td><td>No         </td><td>No           </td><td>No            </td><td>No             </td><td>No        </td><td>No        </td><td>No            </td><td>No          </td><td>No       </td><td>No           </td><td>Up       </td><td>No                   </td><td>No                   </td><td>No                        </td><td>No                       </td><td>No                      </td><td>Ch      </td><td>Yes          </td><td>NO          </td></tr>\n",
       "<tr><td>3      </td><td>16680.0          </td><td>42519267.0        </td><td>Caucasian      </td><td>Male    </td><td>[40-50) </td><td>?       </td><td>1.0                </td><td>1.0                       </td><td>7.0                  </td><td>1.0               </td><td>?           </td><td>?                       </td><td>51.0                </td><td>0.0               </td><td>8.0               </td><td>0.0                </td><td>0.0                </td><td>0.0               </td><td>197.0             </td><td>157.0             </td><td>250.0             </td><td>5.0               </td><td>None           </td><td>None       </td><td>No         </td><td>No           </td><td>No           </td><td>No              </td><td>No           </td><td>No             </td><td>Steady     </td><td>No         </td><td>No           </td><td>No            </td><td>No             </td><td>No        </td><td>No        </td><td>No            </td><td>No          </td><td>No       </td><td>No           </td><td>Steady   </td><td>No                   </td><td>No                   </td><td>No                        </td><td>No                       </td><td>No                      </td><td>Ch      </td><td>Yes          </td><td>NO          </td></tr>\n",
       "<tr><td>4      </td><td>55842.0          </td><td>84259809.0        </td><td>Caucasian      </td><td>Male    </td><td>[60-70) </td><td>?       </td><td>3.0                </td><td>1.0                       </td><td>2.0                  </td><td>4.0               </td><td>?           </td><td>?                       </td><td>70.0                </td><td>1.0               </td><td>21.0              </td><td>0.0                </td><td>0.0                </td><td>0.0               </td><td>414.0             </td><td>411.0             </td><td>nan               </td><td>7.0               </td><td>None           </td><td>None       </td><td>Steady     </td><td>No           </td><td>No           </td><td>No              </td><td>Steady       </td><td>No             </td><td>No         </td><td>No         </td><td>No           </td><td>No            </td><td>No             </td><td>No        </td><td>No        </td><td>No            </td><td>No          </td><td>No       </td><td>No           </td><td>Steady   </td><td>No                   </td><td>No                   </td><td>No                        </td><td>No                       </td><td>No                      </td><td>Ch      </td><td>Yes          </td><td>NO          </td></tr>\n",
       "<tr><td>5      </td><td>12522.0          </td><td>48330783.0        </td><td>Caucasian      </td><td>Female  </td><td>[80-90) </td><td>?       </td><td>2.0                </td><td>1.0                       </td><td>4.0                  </td><td>13.0              </td><td>?           </td><td>?                       </td><td>68.0                </td><td>2.0               </td><td>28.0              </td><td>0.0                </td><td>0.0                </td><td>0.0               </td><td>398.0             </td><td>427.0             </td><td>38.0              </td><td>8.0               </td><td>None           </td><td>None       </td><td>No         </td><td>No           </td><td>No           </td><td>No              </td><td>No           </td><td>No             </td><td>Steady     </td><td>No         </td><td>No           </td><td>No            </td><td>No             </td><td>No        </td><td>No        </td><td>No            </td><td>No          </td><td>No       </td><td>No           </td><td>Steady   </td><td>No                   </td><td>No                   </td><td>No                        </td><td>No                       </td><td>No                      </td><td>Ch      </td><td>Yes          </td><td>NO          </td></tr>\n",
       "<tr><td>6      </td><td>15738.0          </td><td>63555939.0        </td><td>Caucasian      </td><td>Female  </td><td>[90-100)</td><td>?       </td><td>3.0                </td><td>3.0                       </td><td>4.0                  </td><td>12.0              </td><td>?           </td><td>InternalMedicine        </td><td>33.0                </td><td>3.0               </td><td>18.0              </td><td>0.0                </td><td>0.0                </td><td>0.0               </td><td>434.0             </td><td>198.0             </td><td>486.0             </td><td>8.0               </td><td>None           </td><td>None       </td><td>No         </td><td>No           </td><td>No           </td><td>No              </td><td>No           </td><td>No             </td><td>No         </td><td>No         </td><td>No           </td><td>No            </td><td>Steady         </td><td>No        </td><td>No        </td><td>No            </td><td>No          </td><td>No       </td><td>No           </td><td>Steady   </td><td>No                   </td><td>No                   </td><td>No                        </td><td>No                       </td><td>No                      </td><td>Ch      </td><td>Yes          </td><td>NO          </td></tr>\n",
       "<tr><td>7      </td><td>36900.0          </td><td>77391171.0        </td><td>AfricanAmerican</td><td>Male    </td><td>[60-70) </td><td>?       </td><td>2.0                </td><td>1.0                       </td><td>4.0                  </td><td>7.0               </td><td>?           </td><td>?                       </td><td>62.0                </td><td>0.0               </td><td>11.0              </td><td>0.0                </td><td>0.0                </td><td>0.0               </td><td>157.0             </td><td>288.0             </td><td>197.0             </td><td>7.0               </td><td>None           </td><td>None       </td><td>No         </td><td>No           </td><td>No           </td><td>No              </td><td>No           </td><td>No             </td><td>No         </td><td>Up         </td><td>No           </td><td>No            </td><td>No             </td><td>No        </td><td>No        </td><td>No            </td><td>No          </td><td>No       </td><td>No           </td><td>Steady   </td><td>No                   </td><td>No                   </td><td>No                        </td><td>No                       </td><td>No                      </td><td>Ch      </td><td>Yes          </td><td><30         </td></tr>\n",
       "<tr><td>8      </td><td>40926.0          </td><td>85504905.0        </td><td>Caucasian      </td><td>Female  </td><td>[40-50) </td><td>?       </td><td>1.0                </td><td>3.0                       </td><td>7.0                  </td><td>7.0               </td><td>?           </td><td>Family/GeneralPractice  </td><td>60.0                </td><td>0.0               </td><td>15.0              </td><td>0.0                </td><td>1.0                </td><td>0.0               </td><td>428.0             </td><td>250.43            </td><td>250.6             </td><td>8.0               </td><td>None           </td><td>None       </td><td>Steady     </td><td>Up           </td><td>No           </td><td>No              </td><td>No           </td><td>No             </td><td>No         </td><td>No         </td><td>No           </td><td>No            </td><td>No             </td><td>No        </td><td>No        </td><td>No            </td><td>No          </td><td>No       </td><td>No           </td><td>Down     </td><td>No                   </td><td>No                   </td><td>No                        </td><td>No                       </td><td>No                      </td><td>Ch      </td><td>Yes          </td><td><30         </td></tr>\n",
       "<tr><td>9      </td><td>42570.0          </td><td>77586282.0        </td><td>Caucasian      </td><td>Male    </td><td>[80-90) </td><td>?       </td><td>1.0                </td><td>6.0                       </td><td>7.0                  </td><td>10.0              </td><td>?           </td><td>Family/GeneralPractice  </td><td>55.0                </td><td>1.0               </td><td>31.0              </td><td>0.0                </td><td>0.0                </td><td>0.0               </td><td>428.0             </td><td>411.0             </td><td>427.0             </td><td>8.0               </td><td>None           </td><td>None       </td><td>No         </td><td>No           </td><td>No           </td><td>No              </td><td>No           </td><td>No             </td><td>No         </td><td>No         </td><td>No           </td><td>No            </td><td>No             </td><td>No        </td><td>No        </td><td>No            </td><td>No          </td><td>No       </td><td>No           </td><td>Steady   </td><td>No                   </td><td>No                   </td><td>No                        </td><td>No                       </td><td>No                      </td><td>No      </td><td>Yes          </td><td>NO          </td></tr>\n",
       "</tbody>\n",
       "</table>"
      ]
     },
     "metadata": {},
     "output_type": "display_data"
    }
   ],
   "source": [
    "train.describe()"
   ]
  },
  {
   "cell_type": "code",
   "execution_count": 14,
   "metadata": {
    "collapsed": true
   },
   "outputs": [],
   "source": [
    "for j in [\"admission_type_id\", \"discharge_disposition_id\", \"admission_source_id\",\n",
    "          \"diag_1\", \"diag_2\", \"diag_3\"]:\n",
    "    train[j] = (train[j].ascharacter()).asfactor()\n",
    "train = h2o.assign(train, \"diabetes_train\")"
   ]
  },
  {
   "cell_type": "code",
   "execution_count": null,
   "metadata": {
    "collapsed": true
   },
   "outputs": [],
   "source": [
    "# Set target and predictor variables\n",
    "y = \"readmitted\"\n",
    "x = train.col_names\n",
    "x.remove(y)\n",
    "x.remove(\"id\")\n",
    "x.remove(\"patient_nbr\")"
   ]
  },
  {
   "cell_type": "code",
   "execution_count": null,
   "metadata": {},
   "outputs": [
    {
     "name": "stdout",
     "output_type": "stream",
     "text": [
      "AutoML progress: |██████████████████"
     ]
    }
   ],
   "source": [
    "# Use Auto ML to train models\n",
    "from h2o.automl import H2OAutoML\n",
    "aml = H2OAutoML(max_runtime_secs = 333)\n",
    "aml.train(x = x, y = y, training_frame = train)"
   ]
  },
  {
   "cell_type": "code",
   "execution_count": null,
   "metadata": {
    "collapsed": true
   },
   "outputs": [],
   "source": [
    "aml.leaderboard"
   ]
  },
  {
   "cell_type": "code",
   "execution_count": null,
   "metadata": {
    "collapsed": true
   },
   "outputs": [],
   "source": [
    "aml.leader"
   ]
  }
 ],
 "metadata": {
  "kernelspec": {
   "display_name": "Python 3",
   "language": "python",
   "name": "python3"
  },
  "language_info": {
   "codemirror_mode": {
    "name": "ipython",
    "version": 3
   },
   "file_extension": ".py",
   "mimetype": "text/x-python",
   "name": "python",
   "nbconvert_exporter": "python",
   "pygments_lexer": "ipython3",
   "version": "3.6.5"
  }
 },
 "nbformat": 4,
 "nbformat_minor": 2
}
