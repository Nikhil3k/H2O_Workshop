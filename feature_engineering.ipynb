{
 "cells": [
  {
   "cell_type": "markdown",
   "metadata": {},
   "source": [
    "# Best Practices - Feature Engineering\n",
    "\n",
    "This notebook walks through recommended feature engineering techniques that can be used to improve model performance.\n",
    "\n",
    "**Steps**\n",
    "\n",
    "1. Import and clean data\n",
    "2. Train baseline model\n",
    "3. Convert text features to word-embeddings\n",
    "4. Perform target encoding on categorical features\n",
    "5. Add anomaly score\n",
    "6. Evaluate improvement to model\n",
    "7. Analyze final model\n",
    "\n",
    "## Step 1. Import and Clean Data\n",
    "\n",
    "We will start by importing the raw lending club data into our H2O-3 cluster."
   ]
  },
  {
   "cell_type": "code",
   "execution_count": 1,
   "metadata": {},
   "outputs": [],
   "source": [
    "import h2o\n",
    "from h2o.automl import H2OAutoML\n",
    "import random, os, sys\n",
    "from datetime import datetime\n",
    "import pandas as pd\n",
    "import logging\n",
    "import csv\n",
    "import optparse\n",
    "import time\n",
    "import json\n",
    "from distutils.util import strtobool\n",
    "import psutil\n",
    "import numpy as np"
   ]
  },
  {
   "cell_type": "code",
   "execution_count": 2,
   "metadata": {},
   "outputs": [
    {
     "name": "stdout",
     "output_type": "stream",
     "text": [
      "3\n"
     ]
    }
   ],
   "source": [
    "pct_memory=0.5\n",
    "virtual_memory=psutil.virtual_memory()\n",
    "min_mem_size=int(round(int(pct_memory*virtual_memory.available)/1073741824,0))\n",
    "print(min_mem_size)"
   ]
  },
  {
   "cell_type": "code",
   "execution_count": 3,
   "metadata": {},
   "outputs": [
    {
     "name": "stdout",
     "output_type": "stream",
     "text": [
      "Checking whether there is an H2O instance running at http://localhost:38097..... not found.\n",
      "Attempting to start a local H2O server...\n",
      "  Java Version: openjdk version \"1.8.0_121\"; OpenJDK Runtime Environment (Zulu 8.20.0.5-macosx) (build 1.8.0_121-b15); OpenJDK 64-Bit Server VM (Zulu 8.20.0.5-macosx) (build 25.121-b15, mixed mode)\n",
      "  Starting server from /Users/bear/anaconda/lib/python3.6/site-packages/h2o/backend/bin/h2o.jar\n",
      "  Ice root: /var/folders/lh/42j8mfjx069d1bkc2wlf2pw40000gn/T/tmpa4ix23d8\n",
      "  JVM stdout: /var/folders/lh/42j8mfjx069d1bkc2wlf2pw40000gn/T/tmpa4ix23d8/h2o_bear_started_from_python.out\n",
      "  JVM stderr: /var/folders/lh/42j8mfjx069d1bkc2wlf2pw40000gn/T/tmpa4ix23d8/h2o_bear_started_from_python.err\n",
      "  Server is running at http://127.0.0.1:38097\n",
      "Connecting to H2O server at http://127.0.0.1:38097... successful.\n"
     ]
    },
    {
     "data": {
      "text/html": [
       "<div style=\"overflow:auto\"><table style=\"width:50%\"><tr><td>H2O cluster uptime:</td>\n",
       "<td>01 secs</td></tr>\n",
       "<tr><td>H2O cluster timezone:</td>\n",
       "<td>America/New_York</td></tr>\n",
       "<tr><td>H2O data parsing timezone:</td>\n",
       "<td>UTC</td></tr>\n",
       "<tr><td>H2O cluster version:</td>\n",
       "<td>3.22.1.3</td></tr>\n",
       "<tr><td>H2O cluster version age:</td>\n",
       "<td>14 days, 19 hours and 12 minutes </td></tr>\n",
       "<tr><td>H2O cluster name:</td>\n",
       "<td>H2O_from_python_bear_oabidw</td></tr>\n",
       "<tr><td>H2O cluster total nodes:</td>\n",
       "<td>1</td></tr>\n",
       "<tr><td>H2O cluster free memory:</td>\n",
       "<td>3.556 Gb</td></tr>\n",
       "<tr><td>H2O cluster total cores:</td>\n",
       "<td>8</td></tr>\n",
       "<tr><td>H2O cluster allowed cores:</td>\n",
       "<td>8</td></tr>\n",
       "<tr><td>H2O cluster status:</td>\n",
       "<td>accepting new members, healthy</td></tr>\n",
       "<tr><td>H2O connection url:</td>\n",
       "<td>http://127.0.0.1:38097</td></tr>\n",
       "<tr><td>H2O connection proxy:</td>\n",
       "<td>None</td></tr>\n",
       "<tr><td>H2O internal security:</td>\n",
       "<td>False</td></tr>\n",
       "<tr><td>H2O API Extensions:</td>\n",
       "<td>XGBoost, Algos, AutoML, Core V3, Core V4</td></tr>\n",
       "<tr><td>Python version:</td>\n",
       "<td>3.6.5 final</td></tr></table></div>"
      ],
      "text/plain": [
       "--------------------------  ----------------------------------------\n",
       "H2O cluster uptime:         01 secs\n",
       "H2O cluster timezone:       America/New_York\n",
       "H2O data parsing timezone:  UTC\n",
       "H2O cluster version:        3.22.1.3\n",
       "H2O cluster version age:    14 days, 19 hours and 12 minutes\n",
       "H2O cluster name:           H2O_from_python_bear_oabidw\n",
       "H2O cluster total nodes:    1\n",
       "H2O cluster free memory:    3.556 Gb\n",
       "H2O cluster total cores:    8\n",
       "H2O cluster allowed cores:  8\n",
       "H2O cluster status:         accepting new members, healthy\n",
       "H2O connection url:         http://127.0.0.1:38097\n",
       "H2O connection proxy:\n",
       "H2O internal security:      False\n",
       "H2O API Extensions:         XGBoost, Algos, AutoML, Core V3, Core V4\n",
       "Python version:             3.6.5 final\n",
       "--------------------------  ----------------------------------------"
      ]
     },
     "metadata": {},
     "output_type": "display_data"
    }
   ],
   "source": [
    "# 65535 Highest port no\n",
    "port_no=random.randint(5555,55555)\n",
    "h2o.init(strict_version_check=False,min_mem_size_GB=min_mem_size,port=port_no) # start h2o\n"
   ]
  },
  {
   "cell_type": "code",
   "execution_count": 4,
   "metadata": {},
   "outputs": [
    {
     "name": "stdout",
     "output_type": "stream",
     "text": [
      "Parse progress: |█████████████████████████████████████████████████████████| 100%\n"
     ]
    }
   ],
   "source": [
    "data_path = \"data/LoanStats3a.csv\"\n",
    "data = h2o.import_file(data_path, destination_frame = \"loan_raw\")"
   ]
  },
  {
   "cell_type": "code",
   "execution_count": 5,
   "metadata": {},
   "outputs": [
    {
     "data": {
      "text/html": [
       "<table>\n",
       "<thead>\n",
       "<tr><th style=\"text-align: right;\">         id</th><th style=\"text-align: right;\">  member_id</th><th style=\"text-align: right;\">  loan_amnt</th><th style=\"text-align: right;\">  funded_amnt</th><th style=\"text-align: right;\">  funded_amnt_inv</th><th>term     </th><th>int_rate  </th><th style=\"text-align: right;\">  installment</th><th>grade  </th><th>sub_grade  </th><th>emp_title                </th><th>emp_length  </th><th>home_ownership  </th><th style=\"text-align: right;\">  annual_inc</th><th>verification_status     </th><th>issue_d            </th><th>loan_status  </th><th>pymnt_plan  </th><th>url                                                                 </th><th>desc                                                                                                                                                                                                                                                                                                                                                                                                                                                                                                                                                                                                        </th><th>purpose           </th><th>title                                </th><th>zip_code  </th><th>addr_state  </th><th style=\"text-align: right;\">  dti</th><th style=\"text-align: right;\">  delinq_2yrs</th><th>earliest_cr_line   </th><th style=\"text-align: right;\">  inq_last_6mths</th><th>mths_since_last_delinq  </th><th>mths_since_last_record  </th><th style=\"text-align: right;\">  open_acc</th><th style=\"text-align: right;\">  pub_rec</th><th style=\"text-align: right;\">  revol_bal</th><th>revol_util  </th><th style=\"text-align: right;\">  total_acc</th><th>initial_list_status  </th><th style=\"text-align: right;\">  out_prncp</th><th style=\"text-align: right;\">  out_prncp_inv</th><th style=\"text-align: right;\">  total_pymnt</th><th style=\"text-align: right;\">  total_pymnt_inv</th><th style=\"text-align: right;\">  total_rec_prncp</th><th style=\"text-align: right;\">  total_rec_int</th><th style=\"text-align: right;\">  total_rec_late_fee</th><th style=\"text-align: right;\">  recoveries</th><th style=\"text-align: right;\">  collection_recovery_fee</th><th>last_pymnt_d       </th><th style=\"text-align: right;\">  last_pymnt_amnt</th><th>next_pymnt_d       </th><th>last_credit_pull_d  </th><th style=\"text-align: right;\">  collections_12_mths_ex_med</th><th>mths_since_last_major_derog  </th><th style=\"text-align: right;\">  policy_code</th></tr>\n",
       "</thead>\n",
       "<tbody>\n",
       "<tr><td style=\"text-align: right;\">1.0775e+06 </td><td style=\"text-align: right;\">1.2966e+06 </td><td style=\"text-align: right;\">       5000</td><td style=\"text-align: right;\">         5000</td><td style=\"text-align: right;\">             4975</td><td>36 months</td><td>10.65%    </td><td style=\"text-align: right;\">       162.87</td><td>B      </td><td>B2         </td><td>                         </td><td>10+ years   </td><td>RENT            </td><td style=\"text-align: right;\">       24000</td><td>VERIFIED - income       </td><td>2011-12-01 00:00:00</td><td>Fully Paid   </td><td>n           </td><td>https://www.lendingclub.com/browse/loanDetail.action?loan_id=1077501</td><td>Borrower added on 12/22/11 > I need to upgrade my business technologies.<br>                                                                                                                                                                                                                                                                                                                                                                                                                                                                                                                                </td><td>credit_card       </td><td>Computer                             </td><td>860xx     </td><td>AZ          </td><td style=\"text-align: right;\">27.65</td><td style=\"text-align: right;\">            0</td><td>1985-01-01 00:00:00</td><td style=\"text-align: right;\">               1</td><td>                        </td><td>                        </td><td style=\"text-align: right;\">         3</td><td style=\"text-align: right;\">        0</td><td style=\"text-align: right;\">      13648</td><td>83.7%       </td><td style=\"text-align: right;\">          9</td><td>f                    </td><td style=\"text-align: right;\">       0   </td><td style=\"text-align: right;\">           0   </td><td style=\"text-align: right;\">      5861.07</td><td style=\"text-align: right;\">          5831.78</td><td style=\"text-align: right;\">          5000   </td><td style=\"text-align: right;\">         861.07</td><td style=\"text-align: right;\">                0   </td><td style=\"text-align: right;\">        0   </td><td style=\"text-align: right;\">                     0   </td><td>2015-01-01 00:00:00</td><td style=\"text-align: right;\">           171.62</td><td>                   </td><td>2015-01-01 00:00:00 </td><td style=\"text-align: right;\">                           0</td><td>                             </td><td style=\"text-align: right;\">            1</td></tr>\n",
       "<tr><td style=\"text-align: right;\">1.07743e+06</td><td style=\"text-align: right;\">1.31417e+06</td><td style=\"text-align: right;\">       2500</td><td style=\"text-align: right;\">         2500</td><td style=\"text-align: right;\">             2500</td><td>60 months</td><td>15.27%    </td><td style=\"text-align: right;\">        59.83</td><td>C      </td><td>C4         </td><td>Ryder                    </td><td>< 1 year    </td><td>RENT            </td><td style=\"text-align: right;\">       30000</td><td>VERIFIED - income source</td><td>2011-12-01 00:00:00</td><td>Charged Off  </td><td>n           </td><td>https://www.lendingclub.com/browse/loanDetail.action?loan_id=1077430</td><td>Borrower added on 12/22/11 > I plan to use this money to finance the motorcycle i am looking at. I plan to have it paid off as soon as possible/when i sell my old bike. I only need this money because the deal im looking at is to good to pass up.<br><br>  Borrower added on 12/22/11 > I plan to use this money to finance the motorcycle i am looking at. I plan to have it paid off as soon as possible/when i sell my old bike.I only need this money because the deal im looking at is to good to pass up. I have finished college with an associates degree in business and its takingmeplaces<br></td><td>car               </td><td>bike                                 </td><td>309xx     </td><td>GA          </td><td style=\"text-align: right;\"> 1   </td><td style=\"text-align: right;\">            0</td><td>1999-04-01 00:00:00</td><td style=\"text-align: right;\">               5</td><td>                        </td><td>                        </td><td style=\"text-align: right;\">         3</td><td style=\"text-align: right;\">        0</td><td style=\"text-align: right;\">       1687</td><td>9.4%        </td><td style=\"text-align: right;\">          4</td><td>f                    </td><td style=\"text-align: right;\">       0   </td><td style=\"text-align: right;\">           0   </td><td style=\"text-align: right;\">      1008.71</td><td style=\"text-align: right;\">          1008.71</td><td style=\"text-align: right;\">           456.46</td><td style=\"text-align: right;\">         435.17</td><td style=\"text-align: right;\">                0   </td><td style=\"text-align: right;\">      117.08</td><td style=\"text-align: right;\">                     1.11</td><td>2013-04-01 00:00:00</td><td style=\"text-align: right;\">           119.66</td><td>                   </td><td>2013-09-01 00:00:00 </td><td style=\"text-align: right;\">                           0</td><td>                             </td><td style=\"text-align: right;\">            1</td></tr>\n",
       "<tr><td style=\"text-align: right;\">1.07718e+06</td><td style=\"text-align: right;\">1.31352e+06</td><td style=\"text-align: right;\">       2400</td><td style=\"text-align: right;\">         2400</td><td style=\"text-align: right;\">             2400</td><td>36 months</td><td>15.96%    </td><td style=\"text-align: right;\">        84.33</td><td>C      </td><td>C5         </td><td>                         </td><td>10+ years   </td><td>RENT            </td><td style=\"text-align: right;\">       12252</td><td>not verified            </td><td>2011-12-01 00:00:00</td><td>Fully Paid   </td><td>n           </td><td>https://www.lendingclub.com/browse/loanDetail.action?loan_id=1077175</td><td>                                                                                                                                                                                                                                                                                                                                                                                                                                                                                                                                                                                                            </td><td>small_business    </td><td>real estate business                 </td><td>606xx     </td><td>IL          </td><td style=\"text-align: right;\"> 8.72</td><td style=\"text-align: right;\">            0</td><td>2001-11-01 00:00:00</td><td style=\"text-align: right;\">               2</td><td>                        </td><td>                        </td><td style=\"text-align: right;\">         2</td><td style=\"text-align: right;\">        0</td><td style=\"text-align: right;\">       2956</td><td>98.5%       </td><td style=\"text-align: right;\">         10</td><td>f                    </td><td style=\"text-align: right;\">       0   </td><td style=\"text-align: right;\">           0   </td><td style=\"text-align: right;\">      3003.65</td><td style=\"text-align: right;\">          3003.65</td><td style=\"text-align: right;\">          2400   </td><td style=\"text-align: right;\">         603.65</td><td style=\"text-align: right;\">                0   </td><td style=\"text-align: right;\">        0   </td><td style=\"text-align: right;\">                     0   </td><td>2014-06-01 00:00:00</td><td style=\"text-align: right;\">           649.91</td><td>                   </td><td>2015-06-01 00:00:00 </td><td style=\"text-align: right;\">                           0</td><td>                             </td><td style=\"text-align: right;\">            1</td></tr>\n",
       "<tr><td style=\"text-align: right;\">1.07686e+06</td><td style=\"text-align: right;\">1.27718e+06</td><td style=\"text-align: right;\">      10000</td><td style=\"text-align: right;\">        10000</td><td style=\"text-align: right;\">            10000</td><td>36 months</td><td>13.49%    </td><td style=\"text-align: right;\">       339.31</td><td>C      </td><td>C1         </td><td>AIR RESOURCES BOARD      </td><td>10+ years   </td><td>RENT            </td><td style=\"text-align: right;\">       49200</td><td>VERIFIED - income source</td><td>2011-12-01 00:00:00</td><td>Fully Paid   </td><td>n           </td><td>https://www.lendingclub.com/browse/loanDetail.action?loan_id=1076863</td><td>Borrower added on 12/21/11 > to pay for property tax (borrow from friend, need to pay back) & central A/C need to be replace. I'm very sorry to let my loan expired last time.<br>                                                                                                                                                                                                                                                                                                                                                                                                                          </td><td>other             </td><td>personel                             </td><td>917xx     </td><td>CA          </td><td style=\"text-align: right;\">20   </td><td style=\"text-align: right;\">            0</td><td>1996-02-01 00:00:00</td><td style=\"text-align: right;\">               1</td><td>35                      </td><td>                        </td><td style=\"text-align: right;\">        10</td><td style=\"text-align: right;\">        0</td><td style=\"text-align: right;\">       5598</td><td>21%         </td><td style=\"text-align: right;\">         37</td><td>f                    </td><td style=\"text-align: right;\">       0   </td><td style=\"text-align: right;\">           0   </td><td style=\"text-align: right;\">     12226.3 </td><td style=\"text-align: right;\">         12226.3 </td><td style=\"text-align: right;\">         10000   </td><td style=\"text-align: right;\">        2209.33</td><td style=\"text-align: right;\">               16.97</td><td style=\"text-align: right;\">        0   </td><td style=\"text-align: right;\">                     0   </td><td>2015-01-01 00:00:00</td><td style=\"text-align: right;\">           357.48</td><td>                   </td><td>2015-01-01 00:00:00 </td><td style=\"text-align: right;\">                           0</td><td>                             </td><td style=\"text-align: right;\">            1</td></tr>\n",
       "<tr><td style=\"text-align: right;\">1.07536e+06</td><td style=\"text-align: right;\">1.31175e+06</td><td style=\"text-align: right;\">       3000</td><td style=\"text-align: right;\">         3000</td><td style=\"text-align: right;\">             3000</td><td>60 months</td><td>12.69%    </td><td style=\"text-align: right;\">        67.79</td><td>B      </td><td>B5         </td><td>University Medical Group </td><td>1 year      </td><td>RENT            </td><td style=\"text-align: right;\">       80000</td><td>VERIFIED - income source</td><td>2011-12-01 00:00:00</td><td>Current      </td><td>n           </td><td>https://www.lendingclub.com/browse/loanDetail.action?loan_id=1075358</td><td>Borrower added on 12/21/11 > I plan on combining three large interest bills together and freeing up some extra each month to pay toward other bills.  I've always been a good payor but have found myself needing to make adjustments to my budget due to a medical scare. My job is very stable, I love it.<br>                                                                                                                                                                                                                                                                                            </td><td>other             </td><td>Personal                             </td><td>972xx     </td><td>OR          </td><td style=\"text-align: right;\">17.94</td><td style=\"text-align: right;\">            0</td><td>1996-01-01 00:00:00</td><td style=\"text-align: right;\">               0</td><td>38                      </td><td>                        </td><td style=\"text-align: right;\">        15</td><td style=\"text-align: right;\">        0</td><td style=\"text-align: right;\">      27783</td><td>53.9%       </td><td style=\"text-align: right;\">         38</td><td>f                    </td><td style=\"text-align: right;\">    1168.04</td><td style=\"text-align: right;\">        1168.04</td><td style=\"text-align: right;\">      2767.64</td><td style=\"text-align: right;\">          2767.64</td><td style=\"text-align: right;\">          1831.96</td><td style=\"text-align: right;\">         935.68</td><td style=\"text-align: right;\">                0   </td><td style=\"text-align: right;\">        0   </td><td style=\"text-align: right;\">                     0   </td><td>2015-06-01 00:00:00</td><td style=\"text-align: right;\">            67.79</td><td>2015-07-01 00:00:00</td><td>2015-06-01 00:00:00 </td><td style=\"text-align: right;\">                           0</td><td>                             </td><td style=\"text-align: right;\">            1</td></tr>\n",
       "<tr><td style=\"text-align: right;\">1.07527e+06</td><td style=\"text-align: right;\">1.31144e+06</td><td style=\"text-align: right;\">       5000</td><td style=\"text-align: right;\">         5000</td><td style=\"text-align: right;\">             5000</td><td>36 months</td><td>7.90%     </td><td style=\"text-align: right;\">       156.46</td><td>A      </td><td>A4         </td><td>Veolia Transportaton     </td><td>3 years     </td><td>RENT            </td><td style=\"text-align: right;\">       36000</td><td>VERIFIED - income source</td><td>2011-12-01 00:00:00</td><td>Fully Paid   </td><td>n           </td><td>https://www.lendingclub.com/browse/loanDetail.action?loan_id=1075269</td><td>                                                                                                                                                                                                                                                                                                                                                                                                                                                                                                                                                                                                            </td><td>wedding           </td><td>My wedding loan I promise to pay back</td><td>852xx     </td><td>AZ          </td><td style=\"text-align: right;\">11.2 </td><td style=\"text-align: right;\">            0</td><td>2004-11-01 00:00:00</td><td style=\"text-align: right;\">               3</td><td>                        </td><td>                        </td><td style=\"text-align: right;\">         9</td><td style=\"text-align: right;\">        0</td><td style=\"text-align: right;\">       7963</td><td>28.3%       </td><td style=\"text-align: right;\">         12</td><td>f                    </td><td style=\"text-align: right;\">       0   </td><td style=\"text-align: right;\">           0   </td><td style=\"text-align: right;\">      5631.38</td><td style=\"text-align: right;\">          5631.38</td><td style=\"text-align: right;\">          5000   </td><td style=\"text-align: right;\">         631.38</td><td style=\"text-align: right;\">                0   </td><td style=\"text-align: right;\">        0   </td><td style=\"text-align: right;\">                     0   </td><td>2015-01-01 00:00:00</td><td style=\"text-align: right;\">           161.03</td><td>                   </td><td>2015-06-01 00:00:00 </td><td style=\"text-align: right;\">                           0</td><td>                             </td><td style=\"text-align: right;\">            1</td></tr>\n",
       "<tr><td style=\"text-align: right;\">1.06964e+06</td><td style=\"text-align: right;\">1.30474e+06</td><td style=\"text-align: right;\">       7000</td><td style=\"text-align: right;\">         7000</td><td style=\"text-align: right;\">             7000</td><td>60 months</td><td>15.96%    </td><td style=\"text-align: right;\">       170.08</td><td>C      </td><td>C5         </td><td>Southern Star Photography</td><td>8 years     </td><td>RENT            </td><td style=\"text-align: right;\">       47004</td><td>not verified            </td><td>2011-12-01 00:00:00</td><td>Current      </td><td>n           </td><td>https://www.lendingclub.com/browse/loanDetail.action?loan_id=1069639</td><td>Borrower added on 12/18/11 > I am planning on using the funds to pay off two retail credit cards with 24.99% interest rates, as well as a major bank credit card with a 18.99% rate.  I pay all my bills on time, looking for a lower combined payment and lower monthly payment.<br>                                                                                                                                                                                                                                                                                                                       </td><td>debt_consolidation</td><td>Loan                                 </td><td>280xx     </td><td>NC          </td><td style=\"text-align: right;\">23.51</td><td style=\"text-align: right;\">            0</td><td>2005-07-01 00:00:00</td><td style=\"text-align: right;\">               1</td><td>                        </td><td>                        </td><td style=\"text-align: right;\">         7</td><td style=\"text-align: right;\">        0</td><td style=\"text-align: right;\">      17726</td><td>85.6%       </td><td style=\"text-align: right;\">         11</td><td>f                    </td><td style=\"text-align: right;\">    2853.21</td><td style=\"text-align: right;\">        2853.21</td><td style=\"text-align: right;\">      6946.28</td><td style=\"text-align: right;\">          6946.28</td><td style=\"text-align: right;\">          4146.8 </td><td style=\"text-align: right;\">        2799.48</td><td style=\"text-align: right;\">                0   </td><td style=\"text-align: right;\">        0   </td><td style=\"text-align: right;\">                     0   </td><td>2015-06-01 00:00:00</td><td style=\"text-align: right;\">           170.08</td><td>2015-08-01 00:00:00</td><td>2015-06-01 00:00:00 </td><td style=\"text-align: right;\">                           0</td><td>                             </td><td style=\"text-align: right;\">            1</td></tr>\n",
       "<tr><td style=\"text-align: right;\">1.07205e+06</td><td style=\"text-align: right;\">1.28869e+06</td><td style=\"text-align: right;\">       3000</td><td style=\"text-align: right;\">         3000</td><td style=\"text-align: right;\">             3000</td><td>36 months</td><td>18.64%    </td><td style=\"text-align: right;\">       109.43</td><td>E      </td><td>E1         </td><td>MKC Accounting           </td><td>9 years     </td><td>RENT            </td><td style=\"text-align: right;\">       48000</td><td>VERIFIED - income source</td><td>2011-12-01 00:00:00</td><td>Fully Paid   </td><td>n           </td><td>https://www.lendingclub.com/browse/loanDetail.action?loan_id=1072053</td><td>Borrower added on 12/16/11 > Downpayment for a car.<br>                                                                                                                                                                                                                                                                                                                                                                                                                                                                                                                                                     </td><td>car               </td><td>Car Downpayment                      </td><td>900xx     </td><td>CA          </td><td style=\"text-align: right;\"> 5.35</td><td style=\"text-align: right;\">            0</td><td>2007-01-01 00:00:00</td><td style=\"text-align: right;\">               2</td><td>                        </td><td>                        </td><td style=\"text-align: right;\">         4</td><td style=\"text-align: right;\">        0</td><td style=\"text-align: right;\">       8221</td><td>87.5%       </td><td style=\"text-align: right;\">          4</td><td>f                    </td><td style=\"text-align: right;\">       0   </td><td style=\"text-align: right;\">           0   </td><td style=\"text-align: right;\">      3938.14</td><td style=\"text-align: right;\">          3938.14</td><td style=\"text-align: right;\">          3000   </td><td style=\"text-align: right;\">         938.14</td><td style=\"text-align: right;\">                0   </td><td style=\"text-align: right;\">        0   </td><td style=\"text-align: right;\">                     0   </td><td>2015-01-01 00:00:00</td><td style=\"text-align: right;\">           111.34</td><td>                   </td><td>2014-12-01 00:00:00 </td><td style=\"text-align: right;\">                           0</td><td>                             </td><td style=\"text-align: right;\">            1</td></tr>\n",
       "<tr><td style=\"text-align: right;\">1.0718e+06 </td><td style=\"text-align: right;\">1.30696e+06</td><td style=\"text-align: right;\">       5600</td><td style=\"text-align: right;\">         5600</td><td style=\"text-align: right;\">             5600</td><td>60 months</td><td>21.28%    </td><td style=\"text-align: right;\">       152.39</td><td>F      </td><td>F2         </td><td>                         </td><td>4 years     </td><td>OWN             </td><td style=\"text-align: right;\">       40000</td><td>VERIFIED - income source</td><td>2011-12-01 00:00:00</td><td>Charged Off  </td><td>n           </td><td>https://www.lendingclub.com/browse/loanDetail.action?loan_id=1071795</td><td>Borrower added on 12/21/11 > I own a small home-based judgment collection business. I have 5 years experience collecting debts. I am now going from a home office to a small office. I also plan to buy a small debt portfolio (eg. $10K for $1M of debt) <br>My score is not A+ because I own my home and have no mortgage.<br>                                                                                                                                                                                                                                                                            </td><td>small_business    </td><td>Expand Business & Buy Debt Portfolio </td><td>958xx     </td><td>CA          </td><td style=\"text-align: right;\"> 5.55</td><td style=\"text-align: right;\">            0</td><td>2004-04-01 00:00:00</td><td style=\"text-align: right;\">               2</td><td>                        </td><td>                        </td><td style=\"text-align: right;\">        11</td><td style=\"text-align: right;\">        0</td><td style=\"text-align: right;\">       5210</td><td>32.6%       </td><td style=\"text-align: right;\">         13</td><td>f                    </td><td style=\"text-align: right;\">       0   </td><td style=\"text-align: right;\">           0   </td><td style=\"text-align: right;\">       646.02</td><td style=\"text-align: right;\">           646.02</td><td style=\"text-align: right;\">           162.02</td><td style=\"text-align: right;\">         294.94</td><td style=\"text-align: right;\">                0   </td><td style=\"text-align: right;\">      189.06</td><td style=\"text-align: right;\">                     2.09</td><td>2012-04-01 00:00:00</td><td style=\"text-align: right;\">           152.39</td><td>                   </td><td>2012-08-01 00:00:00 </td><td style=\"text-align: right;\">                           0</td><td>                             </td><td style=\"text-align: right;\">            1</td></tr>\n",
       "<tr><td style=\"text-align: right;\">1.07157e+06</td><td style=\"text-align: right;\">1.30672e+06</td><td style=\"text-align: right;\">       5375</td><td style=\"text-align: right;\">         5375</td><td style=\"text-align: right;\">             5350</td><td>60 months</td><td>12.69%    </td><td style=\"text-align: right;\">       121.45</td><td>B      </td><td>B5         </td><td>Starbucks                </td><td>< 1 year    </td><td>RENT            </td><td style=\"text-align: right;\">       15000</td><td>VERIFIED - income       </td><td>2011-12-01 00:00:00</td><td>Charged Off  </td><td>n           </td><td>https://www.lendingclub.com/browse/loanDetail.action?loan_id=1071570</td><td>Borrower added on 12/16/11 > I'm trying to build up my credit history. I live with my brother and have no car payment or credit cards. I am in community college and work full time. Im going to use the money to make some repairs around the house and get some maintenance done on my car.<br><br>  Borrower added on 12/20/11 > $1000 down only $4375 to go. Thanks to everyone that invested so far, looking forward to surprising my brother with the fixes around the house.<br>                                                                                                                     </td><td>other             </td><td>Building my credit history.          </td><td>774xx     </td><td>TX          </td><td style=\"text-align: right;\">18.08</td><td style=\"text-align: right;\">            0</td><td>2004-09-01 00:00:00</td><td style=\"text-align: right;\">               0</td><td>                        </td><td>                        </td><td style=\"text-align: right;\">         2</td><td style=\"text-align: right;\">        0</td><td style=\"text-align: right;\">       9279</td><td>36.5%       </td><td style=\"text-align: right;\">          3</td><td>f                    </td><td style=\"text-align: right;\">       0   </td><td style=\"text-align: right;\">           0   </td><td style=\"text-align: right;\">      1476.19</td><td style=\"text-align: right;\">          1469.34</td><td style=\"text-align: right;\">           673.48</td><td style=\"text-align: right;\">         533.42</td><td style=\"text-align: right;\">                0   </td><td style=\"text-align: right;\">      269.29</td><td style=\"text-align: right;\">                     2.52</td><td>2012-11-01 00:00:00</td><td style=\"text-align: right;\">           121.45</td><td>                   </td><td>2013-03-01 00:00:00 </td><td style=\"text-align: right;\">                           0</td><td>                             </td><td style=\"text-align: right;\">            1</td></tr>\n",
       "</tbody>\n",
       "</table>"
      ]
     },
     "metadata": {},
     "output_type": "display_data"
    },
    {
     "data": {
      "text/plain": []
     },
     "execution_count": 5,
     "metadata": {},
     "output_type": "execute_result"
    }
   ],
   "source": [
    "data.head()"
   ]
  },
  {
   "cell_type": "markdown",
   "metadata": {},
   "source": [
    "Our dataset is still in the raw form.  We will first need to create our target variable which indicates if the loan was fully paid off.  There are, however, loans that are still currently being paid off.  We will want to remove these loans from our data since we do not know if they will be fully paid off or not in the future."
   ]
  },
  {
   "cell_type": "code",
   "execution_count": 6,
   "metadata": {
    "scrolled": true
   },
   "outputs": [
    {
     "data": {
      "text/html": [
       "<table>\n",
       "<thead>\n",
       "<tr><th>loan_status                                             </th><th style=\"text-align: right;\">  Count</th></tr>\n",
       "</thead>\n",
       "<tbody>\n",
       "<tr><td>Charged Off                                             </td><td style=\"text-align: right;\">   5435</td></tr>\n",
       "<tr><td>Current                                                 </td><td style=\"text-align: right;\">   3351</td></tr>\n",
       "<tr><td>Default                                                 </td><td style=\"text-align: right;\">      7</td></tr>\n",
       "<tr><td>Does not meet the credit policy.  Status:Charged Off    </td><td style=\"text-align: right;\">    761</td></tr>\n",
       "<tr><td>Does not meet the credit policy.  Status:Current        </td><td style=\"text-align: right;\">     53</td></tr>\n",
       "<tr><td>Does not meet the credit policy.  Status:Fully Paid     </td><td style=\"text-align: right;\">   1933</td></tr>\n",
       "<tr><td>Does not meet the credit policy.  Status:In Grace Period</td><td style=\"text-align: right;\">      2</td></tr>\n",
       "<tr><td>Fully Paid                                              </td><td style=\"text-align: right;\">  30843</td></tr>\n",
       "<tr><td>In Grace Period                                         </td><td style=\"text-align: right;\">     60</td></tr>\n",
       "<tr><td>Late (16-30 days)                                       </td><td style=\"text-align: right;\">     16</td></tr>\n",
       "</tbody>\n",
       "</table>"
      ]
     },
     "metadata": {},
     "output_type": "display_data"
    },
    {
     "data": {
      "text/plain": []
     },
     "execution_count": 6,
     "metadata": {},
     "output_type": "execute_result"
    }
   ],
   "source": [
    "data[\"loan_status\"].table()"
   ]
  },
  {
   "cell_type": "code",
   "execution_count": 7,
   "metadata": {},
   "outputs": [],
   "source": [
    "# Drop all loans that are still in progess and therefore cannot be deemed good/bad loans\n",
    "to_remove = [\"Current\", \"In Grace Period\", \"Late (16-30 days)\", \"Late (31-120 days)\"]\n",
    "data = data[data[\"loan_status\"].isin(to_remove).logical_negation(), :]"
   ]
  },
  {
   "cell_type": "code",
   "execution_count": 8,
   "metadata": {
    "collapsed": true
   },
   "outputs": [],
   "source": [
    "# Make target column\n",
    "data[\"bad_loan\"] = (data[\"loan_status\"] == \"Fully Paid\").logical_negation()\n",
    "data[\"bad_loan\"] = data[\"bad_loan\"].asfactor()"
   ]
  },
  {
   "cell_type": "markdown",
   "metadata": {},
   "source": [
    "Now we have a binary target column called `bad_loan` indicate if the loan was not fully paid off."
   ]
  },
  {
   "cell_type": "code",
   "execution_count": 9,
   "metadata": {},
   "outputs": [
    {
     "data": {
      "text/html": [
       "<table>\n",
       "<thead>\n",
       "<tr><th style=\"text-align: right;\">  bad_loan</th><th style=\"text-align: right;\">  Count</th></tr>\n",
       "</thead>\n",
       "<tbody>\n",
       "<tr><td style=\"text-align: right;\">         0</td><td style=\"text-align: right;\">  30843</td></tr>\n",
       "<tr><td style=\"text-align: right;\">         1</td><td style=\"text-align: right;\">   8194</td></tr>\n",
       "</tbody>\n",
       "</table>"
      ]
     },
     "metadata": {},
     "output_type": "display_data"
    },
    {
     "data": {
      "text/plain": []
     },
     "execution_count": 9,
     "metadata": {},
     "output_type": "execute_result"
    }
   ],
   "source": [
    "data[\"bad_loan\"].table()"
   ]
  },
  {
   "cell_type": "markdown",
   "metadata": {},
   "source": [
    "We will now do some data cleaning.  The columns `revol_util` and `emp_length` are being treated as categoricals instead of numeric because the unit of measure is included.  Machine learning algorithms will treat this as a categorical and will not understand that 8 years is closer to 9 years than 1 year.  To recitify this, we will use H2O to remove the units of measure and convert the column to numeric."
   ]
  },
  {
   "cell_type": "code",
   "execution_count": 10,
   "metadata": {},
   "outputs": [
    {
     "data": {
      "text/html": [
       "<table>\n",
       "<thead>\n",
       "<tr><th>revol_util  </th><th>emp_length  </th></tr>\n",
       "</thead>\n",
       "<tbody>\n",
       "<tr><td>83.7%       </td><td>10+ years   </td></tr>\n",
       "<tr><td>9.4%        </td><td>< 1 year    </td></tr>\n",
       "<tr><td>98.5%       </td><td>10+ years   </td></tr>\n",
       "<tr><td>21%         </td><td>10+ years   </td></tr>\n",
       "<tr><td>28.3%       </td><td>3 years     </td></tr>\n",
       "<tr><td>87.5%       </td><td>9 years     </td></tr>\n",
       "<tr><td>32.6%       </td><td>4 years     </td></tr>\n",
       "<tr><td>36.5%       </td><td>< 1 year    </td></tr>\n",
       "<tr><td>20.6%       </td><td>5 years     </td></tr>\n",
       "<tr><td>67.1%       </td><td>10+ years   </td></tr>\n",
       "</tbody>\n",
       "</table>"
      ]
     },
     "metadata": {},
     "output_type": "display_data"
    },
    {
     "data": {
      "text/plain": []
     },
     "execution_count": 10,
     "metadata": {},
     "output_type": "execute_result"
    }
   ],
   "source": [
    "data[[\"revol_util\", \"emp_length\"]]"
   ]
  },
  {
   "cell_type": "code",
   "execution_count": 11,
   "metadata": {},
   "outputs": [
    {
     "data": {
      "text/html": [
       "<table>\n",
       "<thead>\n",
       "<tr><th style=\"text-align: right;\">  revol_util</th></tr>\n",
       "</thead>\n",
       "<tbody>\n",
       "<tr><td style=\"text-align: right;\">         943</td></tr>\n",
       "<tr><td style=\"text-align: right;\">        1012</td></tr>\n",
       "<tr><td style=\"text-align: right;\">        1105</td></tr>\n",
       "<tr><td style=\"text-align: right;\">         191</td></tr>\n",
       "<tr><td style=\"text-align: right;\">         277</td></tr>\n",
       "<tr><td style=\"text-align: right;\">         981</td></tr>\n",
       "<tr><td style=\"text-align: right;\">         336</td></tr>\n",
       "<tr><td style=\"text-align: right;\">         381</td></tr>\n",
       "<tr><td style=\"text-align: right;\">         187</td></tr>\n",
       "<tr><td style=\"text-align: right;\">         744</td></tr>\n",
       "</tbody>\n",
       "</table>"
      ]
     },
     "metadata": {},
     "output_type": "display_data"
    }
   ],
   "source": [
    "# Data cleaning of revol_util\n",
    "\n",
    "data[\"revol_util\"] = data[\"revol_util\"].gsub(pattern = \"%\", replacement = \"\")\n",
    "data[\"revol_util\"] = data[\"revol_util\"].trim() \n",
    "data[\"revol_util\"] = data[\"revol_util\"].asnumeric() \n",
    "data[\"revol_util\"].show()"
   ]
  },
  {
   "cell_type": "code",
   "execution_count": 12,
   "metadata": {},
   "outputs": [
    {
     "data": {
      "text/html": [
       "<table>\n",
       "<thead>\n",
       "<tr><th style=\"text-align: right;\">  emp_length</th></tr>\n",
       "</thead>\n",
       "<tbody>\n",
       "<tr><td style=\"text-align: right;\">          10</td></tr>\n",
       "<tr><td style=\"text-align: right;\">           0</td></tr>\n",
       "<tr><td style=\"text-align: right;\">          10</td></tr>\n",
       "<tr><td style=\"text-align: right;\">          10</td></tr>\n",
       "<tr><td style=\"text-align: right;\">           3</td></tr>\n",
       "<tr><td style=\"text-align: right;\">           9</td></tr>\n",
       "<tr><td style=\"text-align: right;\">           4</td></tr>\n",
       "<tr><td style=\"text-align: right;\">           0</td></tr>\n",
       "<tr><td style=\"text-align: right;\">           5</td></tr>\n",
       "<tr><td style=\"text-align: right;\">          10</td></tr>\n",
       "</tbody>\n",
       "</table>"
      ]
     },
     "metadata": {},
     "output_type": "display_data"
    }
   ],
   "source": [
    "# Data cleaning of emp_length\n",
    "data[\"emp_length\"] = data[\"emp_length\"].ascharacter()\n",
    "data[\"emp_length\"] = data[\"emp_length\"].gsub(pattern = \"([ ]*+[a-zA-Z].*)|(n/a)\", replacement = \"\") \n",
    "data[\"emp_length\"] = data[\"emp_length\"].trim()\n",
    "data[\"emp_length\"] = data[\"emp_length\"].gsub(pattern = \"< 1\", replacement = \"0\")\n",
    "data[\"emp_length\"] = data[\"emp_length\"].gsub(pattern = \"10\\\\+\", replacement = \"10\")\n",
    "data[\"emp_length\"] = data[\"emp_length\"].asnumeric()\n",
    "data[\"emp_length\"].show()"
   ]
  },
  {
   "cell_type": "markdown",
   "metadata": {},
   "source": [
    "Our last cleaning step will be to remove all columns that are not relevant to our use case.  Some columns we will not use because they have data leakage. Data leakage means the column has information that we will not know at the time a person applies for a loan."
   ]
  },
  {
   "cell_type": "code",
   "execution_count": 13,
   "metadata": {
    "collapsed": true
   },
   "outputs": [],
   "source": [
    "# Filter to relevant columns\n",
    "cols = [\"purpose\", \"desc\", \"addr_state\", \"term\", \"emp_length\", \"home_ownership\", \"annual_inc\", \"dti\", \"delinq_2yrs\", \n",
    "        \"revol_util\", \"total_acc\", \"bad_loan\", \"issue_d\", \"earliest_cr_line\", \"verification_status\"]"
   ]
  },
  {
   "cell_type": "code",
   "execution_count": 14,
   "metadata": {},
   "outputs": [
    {
     "data": {
      "text/html": [
       "<table>\n",
       "<thead>\n",
       "<tr><th>purpose           </th><th>desc                                                                                                                                                                                                                                                                                                                                                                                                                                                                                                                                                                                                        </th><th>addr_state  </th><th>term     </th><th style=\"text-align: right;\">  emp_length</th><th>home_ownership  </th><th style=\"text-align: right;\">  annual_inc</th><th style=\"text-align: right;\">  dti</th><th style=\"text-align: right;\">  delinq_2yrs</th><th style=\"text-align: right;\">  revol_util</th><th style=\"text-align: right;\">  total_acc</th><th style=\"text-align: right;\">  bad_loan</th><th>issue_d            </th><th>earliest_cr_line   </th><th>verification_status     </th></tr>\n",
       "</thead>\n",
       "<tbody>\n",
       "<tr><td>credit_card       </td><td>Borrower added on 12/22/11 > I need to upgrade my business technologies.<br>                                                                                                                                                                                                                                                                                                                                                                                                                                                                                                                                </td><td>AZ          </td><td>36 months</td><td style=\"text-align: right;\">          10</td><td>RENT            </td><td style=\"text-align: right;\">       24000</td><td style=\"text-align: right;\">27.65</td><td style=\"text-align: right;\">            0</td><td style=\"text-align: right;\">         943</td><td style=\"text-align: right;\">          9</td><td style=\"text-align: right;\">         0</td><td>2011-12-01 00:00:00</td><td>1985-01-01 00:00:00</td><td>VERIFIED - income       </td></tr>\n",
       "<tr><td>car               </td><td>Borrower added on 12/22/11 > I plan to use this money to finance the motorcycle i am looking at. I plan to have it paid off as soon as possible/when i sell my old bike. I only need this money because the deal im looking at is to good to pass up.<br><br>  Borrower added on 12/22/11 > I plan to use this money to finance the motorcycle i am looking at. I plan to have it paid off as soon as possible/when i sell my old bike.I only need this money because the deal im looking at is to good to pass up. I have finished college with an associates degree in business and its takingmeplaces<br></td><td>GA          </td><td>60 months</td><td style=\"text-align: right;\">           0</td><td>RENT            </td><td style=\"text-align: right;\">       30000</td><td style=\"text-align: right;\"> 1   </td><td style=\"text-align: right;\">            0</td><td style=\"text-align: right;\">        1012</td><td style=\"text-align: right;\">          4</td><td style=\"text-align: right;\">         1</td><td>2011-12-01 00:00:00</td><td>1999-04-01 00:00:00</td><td>VERIFIED - income source</td></tr>\n",
       "<tr><td>small_business    </td><td>                                                                                                                                                                                                                                                                                                                                                                                                                                                                                                                                                                                                            </td><td>IL          </td><td>36 months</td><td style=\"text-align: right;\">          10</td><td>RENT            </td><td style=\"text-align: right;\">       12252</td><td style=\"text-align: right;\"> 8.72</td><td style=\"text-align: right;\">            0</td><td style=\"text-align: right;\">        1105</td><td style=\"text-align: right;\">         10</td><td style=\"text-align: right;\">         0</td><td>2011-12-01 00:00:00</td><td>2001-11-01 00:00:00</td><td>not verified            </td></tr>\n",
       "<tr><td>other             </td><td>Borrower added on 12/21/11 > to pay for property tax (borrow from friend, need to pay back) & central A/C need to be replace. I'm very sorry to let my loan expired last time.<br>                                                                                                                                                                                                                                                                                                                                                                                                                          </td><td>CA          </td><td>36 months</td><td style=\"text-align: right;\">          10</td><td>RENT            </td><td style=\"text-align: right;\">       49200</td><td style=\"text-align: right;\">20   </td><td style=\"text-align: right;\">            0</td><td style=\"text-align: right;\">         191</td><td style=\"text-align: right;\">         37</td><td style=\"text-align: right;\">         0</td><td>2011-12-01 00:00:00</td><td>1996-02-01 00:00:00</td><td>VERIFIED - income source</td></tr>\n",
       "<tr><td>wedding           </td><td>                                                                                                                                                                                                                                                                                                                                                                                                                                                                                                                                                                                                            </td><td>AZ          </td><td>36 months</td><td style=\"text-align: right;\">           3</td><td>RENT            </td><td style=\"text-align: right;\">       36000</td><td style=\"text-align: right;\">11.2 </td><td style=\"text-align: right;\">            0</td><td style=\"text-align: right;\">         277</td><td style=\"text-align: right;\">         12</td><td style=\"text-align: right;\">         0</td><td>2011-12-01 00:00:00</td><td>2004-11-01 00:00:00</td><td>VERIFIED - income source</td></tr>\n",
       "<tr><td>car               </td><td>Borrower added on 12/16/11 > Downpayment for a car.<br>                                                                                                                                                                                                                                                                                                                                                                                                                                                                                                                                                     </td><td>CA          </td><td>36 months</td><td style=\"text-align: right;\">           9</td><td>RENT            </td><td style=\"text-align: right;\">       48000</td><td style=\"text-align: right;\"> 5.35</td><td style=\"text-align: right;\">            0</td><td style=\"text-align: right;\">         981</td><td style=\"text-align: right;\">          4</td><td style=\"text-align: right;\">         0</td><td>2011-12-01 00:00:00</td><td>2007-01-01 00:00:00</td><td>VERIFIED - income source</td></tr>\n",
       "<tr><td>small_business    </td><td>Borrower added on 12/21/11 > I own a small home-based judgment collection business. I have 5 years experience collecting debts. I am now going from a home office to a small office. I also plan to buy a small debt portfolio (eg. $10K for $1M of debt) <br>My score is not A+ because I own my home and have no mortgage.<br>                                                                                                                                                                                                                                                                            </td><td>CA          </td><td>60 months</td><td style=\"text-align: right;\">           4</td><td>OWN             </td><td style=\"text-align: right;\">       40000</td><td style=\"text-align: right;\"> 5.55</td><td style=\"text-align: right;\">            0</td><td style=\"text-align: right;\">         336</td><td style=\"text-align: right;\">         13</td><td style=\"text-align: right;\">         1</td><td>2011-12-01 00:00:00</td><td>2004-04-01 00:00:00</td><td>VERIFIED - income source</td></tr>\n",
       "<tr><td>other             </td><td>Borrower added on 12/16/11 > I'm trying to build up my credit history. I live with my brother and have no car payment or credit cards. I am in community college and work full time. Im going to use the money to make some repairs around the house and get some maintenance done on my car.<br><br>  Borrower added on 12/20/11 > $1000 down only $4375 to go. Thanks to everyone that invested so far, looking forward to surprising my brother with the fixes around the house.<br>                                                                                                                     </td><td>TX          </td><td>60 months</td><td style=\"text-align: right;\">           0</td><td>RENT            </td><td style=\"text-align: right;\">       15000</td><td style=\"text-align: right;\">18.08</td><td style=\"text-align: right;\">            0</td><td style=\"text-align: right;\">         381</td><td style=\"text-align: right;\">          3</td><td style=\"text-align: right;\">         1</td><td>2011-12-01 00:00:00</td><td>2004-09-01 00:00:00</td><td>VERIFIED - income       </td></tr>\n",
       "<tr><td>debt_consolidation</td><td>Borrower added on 12/15/11 > I had recived a loan from Citi Financial about a year ago, I was paying 29.99 intrest, so the refinance is to cut that rate since cleaning up my credit I have been paying everything on time as shown on my credit report<br>                                                                                                                                                                                                                                                                                                                                                 </td><td>AZ          </td><td>60 months</td><td style=\"text-align: right;\">           5</td><td>OWN             </td><td style=\"text-align: right;\">       72000</td><td style=\"text-align: right;\">16.12</td><td style=\"text-align: right;\">            0</td><td style=\"text-align: right;\">         187</td><td style=\"text-align: right;\">         23</td><td style=\"text-align: right;\">         0</td><td>2011-12-01 00:00:00</td><td>1998-01-01 00:00:00</td><td>not verified            </td></tr>\n",
       "<tr><td>debt_consolidation</td><td>                                                                                                                                                                                                                                                                                                                                                                                                                                                                                                                                                                                                            </td><td>CA          </td><td>36 months</td><td style=\"text-align: right;\">          10</td><td>OWN             </td><td style=\"text-align: right;\">       75000</td><td style=\"text-align: right;\">10.78</td><td style=\"text-align: right;\">            0</td><td style=\"text-align: right;\">         744</td><td style=\"text-align: right;\">         34</td><td style=\"text-align: right;\">         0</td><td>2011-12-01 00:00:00</td><td>1989-10-01 00:00:00</td><td>VERIFIED - income source</td></tr>\n",
       "</tbody>\n",
       "</table>"
      ]
     },
     "metadata": {},
     "output_type": "display_data"
    },
    {
     "data": {
      "text/plain": []
     },
     "execution_count": 14,
     "metadata": {},
     "output_type": "execute_result"
    }
   ],
   "source": [
    "data = data[cols]\n",
    "data.head()"
   ]
  },
  {
   "cell_type": "markdown",
   "metadata": {},
   "source": [
    "## Step 2. Train Baseline Model\n",
    "\n",
    "We will train an initial model.  The goal of our initial model is to provide a baseline AUC that we will try to beat with our feature engineering. \n",
    "\n",
    "We will start by splitting the data into training and testing by time.  Our testing data will consist of the last two months of data (2011/11 and 2011/12)."
   ]
  },
  {
   "cell_type": "code",
   "execution_count": 15,
   "metadata": {
    "collapsed": true
   },
   "outputs": [],
   "source": [
    "is_train = ~((data[\"issue_d\"].year() == 2011) and (data[\"issue_d\"].month() >= 11))\n",
    "\n",
    "train = data[is_train == 1]\n",
    "test = data[is_train == 0]"
   ]
  },
  {
   "cell_type": "code",
   "execution_count": 16,
   "metadata": {
    "collapsed": true
   },
   "outputs": [],
   "source": [
    "target = \"bad_loan\"\n",
    "predictors = list(set(train.col_names) - set([target]))"
   ]
  },
  {
   "cell_type": "code",
   "execution_count": 17,
   "metadata": {},
   "outputs": [
    {
     "name": "stdout",
     "output_type": "stream",
     "text": [
      "gbm Model Build progress: |███████████████████████████████████████████████| 100%\n"
     ]
    }
   ],
   "source": [
    "# Train initial GBM model\n",
    "from h2o.estimators import H2OGradientBoostingEstimator\n",
    "\n",
    "gbm_baseline = H2OGradientBoostingEstimator(seed = 1234, model_id = \"gbm_baseline.hex\", \n",
    "                                            ntrees = 500, \n",
    "                                            stopping_rounds = 10, score_tree_interval = 5, # early stopping\n",
    "                                            stopping_metric = \"AUC\",\n",
    "                                            nfolds = 5 # 5-fold cross validation\n",
    "                                           )\n",
    "gbm_baseline.train(x = predictors, y = target, training_frame = train)"
   ]
  },
  {
   "cell_type": "code",
   "execution_count": 18,
   "metadata": {},
   "outputs": [
    {
     "name": "stdout",
     "output_type": "stream",
     "text": [
      "AUC on CV: 0.719\n"
     ]
    }
   ],
   "source": [
    "print(\"AUC on CV: \" + str(round(gbm_baseline.auc(xval = True), 3)))"
   ]
  },
  {
   "cell_type": "code",
   "execution_count": 19,
   "metadata": {},
   "outputs": [
    {
     "data": {
      "image/png": "[encoded data removed]",
      "text/plain": [
       "<Figure size 1008x720 with 1 Axes>"
      ]
     },
     "metadata": {},
     "output_type": "display_data"
    }
   ],
   "source": [
    "gbm_baseline.varimp_plot()"
   ]
  },
  {
   "cell_type": "markdown",
   "metadata": {},
   "source": [
    "## Step 3. Convert Text to Word Embeddings\n",
    "\n",
    "Our dataset has a text column called `desc`.  We will convert this string to word embeddings so that it can be more useful to our supervised learning model."
   ]
  },
  {
   "cell_type": "code",
   "execution_count": 20,
   "metadata": {
    "scrolled": true
   },
   "outputs": [
    {
     "data": {
      "text/html": [
       "<table>\n",
       "<thead>\n",
       "<tr><th>desc                                                                                                                                                                                                                                                                                                                                                                                                                                                                                                                                                                                                        </th></tr>\n",
       "</thead>\n",
       "<tbody>\n",
       "<tr><td>Borrower added on 12/22/11 > I need to upgrade my business technologies.<br>                                                                                                                                                                                                                                                                                                                                                                                                                                                                                                                                </td></tr>\n",
       "<tr><td>Borrower added on 12/22/11 > I plan to use this money to finance the motorcycle i am looking at. I plan to have it paid off as soon as possible/when i sell my old bike. I only need this money because the deal im looking at is to good to pass up.<br><br>  Borrower added on 12/22/11 > I plan to use this money to finance the motorcycle i am looking at. I plan to have it paid off as soon as possible/when i sell my old bike.I only need this money because the deal im looking at is to good to pass up. I have finished college with an associates degree in business and its takingmeplaces<br></td></tr>\n",
       "<tr><td>                                                                                                                                                                                                                                                                                                                                                                                                                                                                                                                                                                                                            </td></tr>\n",
       "<tr><td>Borrower added on 12/21/11 > to pay for property tax (borrow from friend, need to pay back) & central A/C need to be replace. I'm very sorry to let my loan expired last time.<br>                                                                                                                                                                                                                                                                                                                                                                                                                          </td></tr>\n",
       "<tr><td>                                                                                                                                                                                                                                                                                                                                                                                                                                                                                                                                                                                                            </td></tr>\n",
       "<tr><td>Borrower added on 12/16/11 > Downpayment for a car.<br>                                                                                                                                                                                                                                                                                                                                                                                                                                                                                                                                                     </td></tr>\n",
       "<tr><td>Borrower added on 12/21/11 > I own a small home-based judgment collection business. I have 5 years experience collecting debts. I am now going from a home office to a small office. I also plan to buy a small debt portfolio (eg. $10K for $1M of debt) <br>My score is not A+ because I own my home and have no mortgage.<br>                                                                                                                                                                                                                                                                            </td></tr>\n",
       "<tr><td>Borrower added on 12/16/11 > I'm trying to build up my credit history. I live with my brother and have no car payment or credit cards. I am in community college and work full time. Im going to use the money to make some repairs around the house and get some maintenance done on my car.<br><br>  Borrower added on 12/20/11 > $1000 down only $4375 to go. Thanks to everyone that invested so far, looking forward to surprising my brother with the fixes around the house.<br>                                                                                                                     </td></tr>\n",
       "<tr><td>Borrower added on 12/15/11 > I had recived a loan from Citi Financial about a year ago, I was paying 29.99 intrest, so the refinance is to cut that rate since cleaning up my credit I have been paying everything on time as shown on my credit report<br>                                                                                                                                                                                                                                                                                                                                                 </td></tr>\n",
       "<tr><td>                                                                                                                                                                                                                                                                                                                                                                                                                                                                                                                                                                                                            </td></tr>\n",
       "</tbody>\n",
       "</table>"
      ]
     },
     "metadata": {},
     "output_type": "display_data"
    },
    {
     "data": {
      "text/plain": []
     },
     "execution_count": 20,
     "metadata": {},
     "output_type": "execute_result"
    }
   ],
   "source": [
    "data[\"desc\"]"
   ]
  },
  {
   "cell_type": "markdown",
   "metadata": {},
   "source": [
    "We will first examine the performance of our model if we remove the `desc` variable from the model.  "
   ]
  },
  {
   "cell_type": "code",
   "execution_count": 21,
   "metadata": {},
   "outputs": [
    {
     "name": "stdout",
     "output_type": "stream",
     "text": [
      "gbm Model Build progress: |███████████████████████████████████████████████| 100%\n"
     ]
    }
   ],
   "source": [
    "# Train initial GBM model\n",
    "gbm_no_desc = H2OGradientBoostingEstimator(seed = 1234, model_id = \"gbm_baseline.hex\", \n",
    "                                           ntrees = 500, \n",
    "                                           stopping_rounds = 10, score_tree_interval = 5, # early stopping\n",
    "                                           stopping_metric = \"AUC\",\n",
    "                                           nfolds = 5 # 5-fold cross validation\n",
    "                                          )\n",
    "gbm_no_desc.train(x = list(set(predictors) - set([\"desc\"])), y = target, training_frame = train)"
   ]
  },
  {
   "cell_type": "code",
   "execution_count": 22,
   "metadata": {},
   "outputs": [
    {
     "name": "stdout",
     "output_type": "stream",
     "text": [
      "AUC on CV - Baseline: 0.719\n",
      "AUC on CV - without Desc: 0.721\n"
     ]
    }
   ],
   "source": [
    "print(\"AUC on CV - Baseline: \" + str(round(gbm_baseline.auc(xval = True), 3)))\n",
    "print(\"AUC on CV - without Desc: \" + str(round(gbm_no_desc.auc(xval = True), 3)))"
   ]
  },
  {
   "cell_type": "markdown",
   "metadata": {},
   "source": [
    "The performance of our model is much better if we do not use `desc` as a predictor.  This could be because the algorithm has a hard time understanding the text. We will instead convert it to numeric vectors by using the Word2Vec algorithm.\n",
    "\n",
    "Our first step will be to tokenize the `desc` column.  This splits the descriptions by word.  Our function will also:\n",
    "\n",
    "* convert all words to lowercase\n",
    "* remove words with numbers\n",
    "* remove words with only 1 letter\n",
    "* remove stop words (stop words are defined by the nltk package)"
   ]
  },
  {
   "cell_type": "code",
   "execution_count": 23,
   "metadata": {},
   "outputs": [
    {
     "data": {
      "text/plain": [
       "['i', 'me', 'my', 'myself', 'we']"
      ]
     },
     "execution_count": 23,
     "metadata": {},
     "output_type": "execute_result"
    }
   ],
   "source": [
    "from nltk.corpus import stopwords\n",
    "STOP_WORDS = stopwords.words('english')\n",
    "STOP_WORDS[0:5]"
   ]
  },
  {
   "cell_type": "code",
   "execution_count": 24,
   "metadata": {
    "collapsed": true
   },
   "outputs": [],
   "source": [
    "def tokenize(sentences, stop_word = STOP_WORDS):\n",
    "    tokenized = sentences.tokenize(\"\\\\W+\")\n",
    "    tokenized_lower = tokenized.tolower()\n",
    "    tokenized_filtered = tokenized_lower[(tokenized_lower.nchar() >= 2) | (tokenized_lower.isna()),:]\n",
    "    tokenized_words = tokenized_filtered[tokenized_filtered.grep(\"[0-9]\",invert=True,output_logical=True),:]\n",
    "    tokenized_words = tokenized_words[(tokenized_words.isna()) | (~ tokenized_words.isin(STOP_WORDS)),:]\n",
    "    return tokenized_words"
   ]
  },
  {
   "cell_type": "code",
   "execution_count": 25,
   "metadata": {},
   "outputs": [],
   "source": [
    "# Break desc into sequence of words\n",
    "desc = tokenize(train[\"desc\"].ascharacter())"
   ]
  },
  {
   "cell_type": "markdown",
   "metadata": {},
   "source": [
    "Now we have our the tokenized `desc`, we can train our Word2Vec model.  This will learn the word embeddings that will represent each word."
   ]
  },
  {
   "cell_type": "code",
   "execution_count": 26,
   "metadata": {},
   "outputs": [
    {
     "name": "stdout",
     "output_type": "stream",
     "text": [
      "word2vec Model Build progress: |██████████████████████████████████████████| 100%\n"
     ]
    }
   ],
   "source": [
    "from h2o.estimators.word2vec import H2OWord2vecEstimator\n",
    "\n",
    "# This takes time to run - left commented out\n",
    "w2v_model = H2OWord2vecEstimator(vec_size = 100, model_id = \"w2v.hex\")\n",
    "w2v_model.train(training_frame=desc)"
   ]
  },
  {
   "cell_type": "markdown",
   "metadata": {},
   "source": [
    "We can use the Word2Vec model to find synonyms.  Synonyms are defined as words with small cosine distance between their word embeddings.  Words that have similar word embeddings should have similar meanings.  \n",
    "\n",
    "We can test the understanding of our Word2Vec model by finding synonyms for the words `wedding` and `car`."
   ]
  },
  {
   "cell_type": "code",
   "execution_count": 27,
   "metadata": {},
   "outputs": [
    {
     "data": {
      "text/plain": [
       "OrderedDict([('honeymoon', 0.8058181405067444),\n",
       "             ('ceremony', 0.7579385638237),\n",
       "             ('reception', 0.7306615114212036),\n",
       "             ('venue', 0.7148143649101257),\n",
       "             ('flowers', 0.7052299380302429)])"
      ]
     },
     "execution_count": 27,
     "metadata": {},
     "output_type": "execute_result"
    }
   ],
   "source": [
    "# Sanity check - find synonyms for the word 'wedding'\n",
    "w2v_model.find_synonyms(\"wedding\", count = 5)"
   ]
  },
  {
   "cell_type": "code",
   "execution_count": 28,
   "metadata": {},
   "outputs": [
    {
     "data": {
      "text/plain": [
       "OrderedDict([('prius', 0.7367169260978699),\n",
       "             ('auto', 0.7254950404167175),\n",
       "             ('vehicle', 0.6898690462112427),\n",
       "             ('tahoe', 0.6756600141525269),\n",
       "             ('chevy', 0.6553258299827576)])"
      ]
     },
     "execution_count": 28,
     "metadata": {},
     "output_type": "execute_result"
    }
   ],
   "source": [
    "# Sanity check - find synonyms for the word 'car'\n",
    "w2v_model.find_synonyms(\"car\", count = 5)"
   ]
  },
  {
   "cell_type": "markdown",
   "metadata": {},
   "source": [
    "Now we can add the word embeddings as new features in our data.  There are multiple words for each description so we will need to aggregate our word embeddings so that there is a single vector of word embeddings per loan.  We will do this by averaging the word embeddings using the `aggregate_method = \"AVERAGE\"`."
   ]
  },
  {
   "cell_type": "code",
   "execution_count": 29,
   "metadata": {
    "collapsed": true
   },
   "outputs": [],
   "source": [
    "# Calculate a vector for each desc\n",
    "train_desc_vecs = w2v_model.transform(desc, aggregate_method = \"AVERAGE\")"
   ]
  },
  {
   "cell_type": "code",
   "execution_count": 30,
   "metadata": {},
   "outputs": [
    {
     "data": {
      "text/html": [
       "<table>\n",
       "<thead>\n",
       "<tr><th style=\"text-align: right;\">         C1</th><th style=\"text-align: right;\">          C2</th><th style=\"text-align: right;\">         C3</th><th style=\"text-align: right;\">         C4</th><th style=\"text-align: right;\">          C5</th><th style=\"text-align: right;\">         C6</th><th style=\"text-align: right;\">         C7</th><th style=\"text-align: right;\">         C8</th><th style=\"text-align: right;\">         C9</th><th style=\"text-align: right;\">         C10</th><th style=\"text-align: right;\">         C11</th><th style=\"text-align: right;\">        C12</th><th style=\"text-align: right;\">         C13</th><th style=\"text-align: right;\">        C14</th><th style=\"text-align: right;\">          C15</th><th style=\"text-align: right;\">         C16</th><th style=\"text-align: right;\">       C17</th><th style=\"text-align: right;\">         C18</th><th style=\"text-align: right;\">        C19</th><th style=\"text-align: right;\">        C20</th><th style=\"text-align: right;\">        C21</th><th style=\"text-align: right;\">       C22</th><th style=\"text-align: right;\">        C23</th><th style=\"text-align: right;\">        C24</th><th style=\"text-align: right;\">       C25</th><th style=\"text-align: right;\">       C26</th><th style=\"text-align: right;\">       C27</th><th style=\"text-align: right;\">         C28</th><th style=\"text-align: right;\">         C29</th><th style=\"text-align: right;\">        C30</th><th style=\"text-align: right;\">        C31</th><th style=\"text-align: right;\">         C32</th><th style=\"text-align: right;\">        C33</th><th style=\"text-align: right;\">        C34</th><th style=\"text-align: right;\">        C35</th><th style=\"text-align: right;\">         C36</th><th style=\"text-align: right;\">         C37</th><th style=\"text-align: right;\">         C38</th><th style=\"text-align: right;\">         C39</th><th style=\"text-align: right;\">        C40</th><th style=\"text-align: right;\">        C41</th><th style=\"text-align: right;\">        C42</th><th style=\"text-align: right;\">        C43</th><th style=\"text-align: right;\">         C44</th><th style=\"text-align: right;\">        C45</th><th style=\"text-align: right;\">        C46</th><th style=\"text-align: right;\">       C47</th><th style=\"text-align: right;\">         C48</th><th style=\"text-align: right;\">        C49</th><th style=\"text-align: right;\">         C50</th><th style=\"text-align: right;\">        C51</th><th style=\"text-align: right;\">        C52</th><th style=\"text-align: right;\">        C53</th><th style=\"text-align: right;\">         C54</th><th style=\"text-align: right;\">         C55</th><th style=\"text-align: right;\">         C56</th><th style=\"text-align: right;\">         C57</th><th style=\"text-align: right;\">        C58</th><th style=\"text-align: right;\">         C59</th><th style=\"text-align: right;\">        C60</th><th style=\"text-align: right;\">        C61</th><th style=\"text-align: right;\">        C62</th><th style=\"text-align: right;\">        C63</th><th style=\"text-align: right;\">        C64</th><th style=\"text-align: right;\">        C65</th><th style=\"text-align: right;\">         C66</th><th style=\"text-align: right;\">         C67</th><th style=\"text-align: right;\">         C68</th><th style=\"text-align: right;\">         C69</th><th style=\"text-align: right;\">        C70</th><th style=\"text-align: right;\">        C71</th><th style=\"text-align: right;\">         C72</th><th style=\"text-align: right;\">         C73</th><th style=\"text-align: right;\">       C74</th><th style=\"text-align: right;\">         C75</th><th style=\"text-align: right;\">         C76</th><th style=\"text-align: right;\">        C77</th><th style=\"text-align: right;\">        C78</th><th style=\"text-align: right;\">        C79</th><th style=\"text-align: right;\">         C80</th><th style=\"text-align: right;\">        C81</th><th style=\"text-align: right;\">        C82</th><th style=\"text-align: right;\">        C83</th><th style=\"text-align: right;\">        C84</th><th style=\"text-align: right;\">        C85</th><th style=\"text-align: right;\">         C86</th><th style=\"text-align: right;\">       C87</th><th style=\"text-align: right;\">         C88</th><th style=\"text-align: right;\">       C89</th><th style=\"text-align: right;\">         C90</th><th style=\"text-align: right;\">        C91</th><th style=\"text-align: right;\">        C92</th><th style=\"text-align: right;\">        C93</th><th style=\"text-align: right;\">         C94</th><th style=\"text-align: right;\">         C95</th><th style=\"text-align: right;\">         C96</th><th style=\"text-align: right;\">        C97</th><th style=\"text-align: right;\">        C98</th><th style=\"text-align: right;\">          C99</th><th style=\"text-align: right;\">        C100</th></tr>\n",
       "</thead>\n",
       "<tbody>\n",
       "<tr><td style=\"text-align: right;\">  0.051485 </td><td style=\"text-align: right;\">  0.0298678 </td><td style=\"text-align: right;\"> -0.191229 </td><td style=\"text-align: right;\">  0.154879 </td><td style=\"text-align: right;\"> -0.0526432 </td><td style=\"text-align: right;\">  0.0386019</td><td style=\"text-align: right;\">  0.0301266</td><td style=\"text-align: right;\">  0.239592 </td><td style=\"text-align: right;\">  0.166909 </td><td style=\"text-align: right;\"> -0.0344579 </td><td style=\"text-align: right;\">  0.0357199 </td><td style=\"text-align: right;\"> -0.0544445</td><td style=\"text-align: right;\"> -0.00240069</td><td style=\"text-align: right;\">  0.0792925</td><td style=\"text-align: right;\">  0.0403511  </td><td style=\"text-align: right;\"> -0.0444389 </td><td style=\"text-align: right;\"> -0.173893</td><td style=\"text-align: right;\"> -0.282712  </td><td style=\"text-align: right;\"> -0.101402 </td><td style=\"text-align: right;\"> -0.144146 </td><td style=\"text-align: right;\">  0.162886 </td><td style=\"text-align: right;\">  0.193998</td><td style=\"text-align: right;\">  0.0313054</td><td style=\"text-align: right;\"> -0.140226 </td><td style=\"text-align: right;\">  0.314232</td><td style=\"text-align: right;\">  0.170582</td><td style=\"text-align: right;\">  0.269805</td><td style=\"text-align: right;\">  0.0100003 </td><td style=\"text-align: right;\">  0.137856  </td><td style=\"text-align: right;\">  0.0811185</td><td style=\"text-align: right;\"> -0.076493 </td><td style=\"text-align: right;\">  0.0244586 </td><td style=\"text-align: right;\"> -0.0724299</td><td style=\"text-align: right;\">  0.0444752</td><td style=\"text-align: right;\">  0.0353887</td><td style=\"text-align: right;\"> -0.0263754 </td><td style=\"text-align: right;\"> -0.151983  </td><td style=\"text-align: right;\">  0.0663266 </td><td style=\"text-align: right;\">  0.0303797 </td><td style=\"text-align: right;\">  0.252639 </td><td style=\"text-align: right;\"> -0.174482 </td><td style=\"text-align: right;\"> -0.133098 </td><td style=\"text-align: right;\"> -0.10586  </td><td style=\"text-align: right;\"> -0.00841798</td><td style=\"text-align: right;\"> -0.0288888</td><td style=\"text-align: right;\">  0.205538 </td><td style=\"text-align: right;\"> -0.159181</td><td style=\"text-align: right;\"> -0.019627  </td><td style=\"text-align: right;\"> -0.0305828</td><td style=\"text-align: right;\">  0.00401825</td><td style=\"text-align: right;\">  0.148619 </td><td style=\"text-align: right;\"> -0.198437 </td><td style=\"text-align: right;\"> -0.0853358</td><td style=\"text-align: right;\"> -0.109941  </td><td style=\"text-align: right;\">  0.0384075 </td><td style=\"text-align: right;\"> -0.0212695 </td><td style=\"text-align: right;\">  0.17375   </td><td style=\"text-align: right;\"> -0.311412 </td><td style=\"text-align: right;\">  0.0885101 </td><td style=\"text-align: right;\"> -0.0161093</td><td style=\"text-align: right;\">  0.0860277</td><td style=\"text-align: right;\">  0.0110224</td><td style=\"text-align: right;\"> -0.0272963</td><td style=\"text-align: right;\">  0.26974  </td><td style=\"text-align: right;\"> -0.103293 </td><td style=\"text-align: right;\"> -0.0137629 </td><td style=\"text-align: right;\">  0.13608   </td><td style=\"text-align: right;\"> -0.0349647 </td><td style=\"text-align: right;\"> -0.0595904 </td><td style=\"text-align: right;\">  0.0638347</td><td style=\"text-align: right;\"> -0.174014 </td><td style=\"text-align: right;\">  0.118617  </td><td style=\"text-align: right;\">  0.0161443 </td><td style=\"text-align: right;\">  0.237723</td><td style=\"text-align: right;\">  0.14144   </td><td style=\"text-align: right;\"> -0.0257815 </td><td style=\"text-align: right;\"> -0.0910862</td><td style=\"text-align: right;\">  0.0359916</td><td style=\"text-align: right;\"> -0.0291356</td><td style=\"text-align: right;\"> -0.082513  </td><td style=\"text-align: right;\">  0.0953601</td><td style=\"text-align: right;\"> -0.172926 </td><td style=\"text-align: right;\"> -0.0229632</td><td style=\"text-align: right;\">  0.0609323</td><td style=\"text-align: right;\">  0.0869217</td><td style=\"text-align: right;\">  0.0445849 </td><td style=\"text-align: right;\"> -0.179878</td><td style=\"text-align: right;\">  0.0115228 </td><td style=\"text-align: right;\"> -0.294365</td><td style=\"text-align: right;\">  0.0832127 </td><td style=\"text-align: right;\"> -0.100902 </td><td style=\"text-align: right;\">  0.036608 </td><td style=\"text-align: right;\"> -0.146624 </td><td style=\"text-align: right;\"> -0.0322084 </td><td style=\"text-align: right;\"> -0.0361164 </td><td style=\"text-align: right;\"> -0.019737  </td><td style=\"text-align: right;\"> -0.0565529</td><td style=\"text-align: right;\">  0.0377979</td><td style=\"text-align: right;\">  0.0391956  </td><td style=\"text-align: right;\">  0.00344873</td></tr>\n",
       "<tr><td style=\"text-align: right;\"> -0.0247435</td><td style=\"text-align: right;\"> -0.00345412</td><td style=\"text-align: right;\"> -0.0387461</td><td style=\"text-align: right;\">  0.0570247</td><td style=\"text-align: right;\">  0.0111559 </td><td style=\"text-align: right;\">  0.0447889</td><td style=\"text-align: right;\"> -0.146599 </td><td style=\"text-align: right;\">  0.104003 </td><td style=\"text-align: right;\">  0.202629 </td><td style=\"text-align: right;\"> -0.19627   </td><td style=\"text-align: right;\">  0.042132  </td><td style=\"text-align: right;\"> -0.0497085</td><td style=\"text-align: right;\">  0.0456759 </td><td style=\"text-align: right;\"> -0.08616  </td><td style=\"text-align: right;\">  0.0795356  </td><td style=\"text-align: right;\">  0.0689691 </td><td style=\"text-align: right;\"> -0.310117</td><td style=\"text-align: right;\"> -0.0996072 </td><td style=\"text-align: right;\"> -0.12398  </td><td style=\"text-align: right;\"> -0.0643707</td><td style=\"text-align: right;\">  0.0494289</td><td style=\"text-align: right;\">  0.188151</td><td style=\"text-align: right;\">  0.0930717</td><td style=\"text-align: right;\">  0.0752697</td><td style=\"text-align: right;\">  0.346037</td><td style=\"text-align: right;\">  0.145925</td><td style=\"text-align: right;\">  0.297809</td><td style=\"text-align: right;\"> -0.0954304 </td><td style=\"text-align: right;\">  0.18664   </td><td style=\"text-align: right;\">  0.140234 </td><td style=\"text-align: right;\"> -0.136054 </td><td style=\"text-align: right;\">  0.0500368 </td><td style=\"text-align: right;\">  0.176985 </td><td style=\"text-align: right;\"> -0.0402791</td><td style=\"text-align: right;\"> -0.192139 </td><td style=\"text-align: right;\"> -0.122685  </td><td style=\"text-align: right;\"> -0.111858  </td><td style=\"text-align: right;\">  0.0507381 </td><td style=\"text-align: right;\">  0.153893  </td><td style=\"text-align: right;\">  0.238544 </td><td style=\"text-align: right;\">  0.0125035</td><td style=\"text-align: right;\"> -0.0377817</td><td style=\"text-align: right;\"> -0.163201 </td><td style=\"text-align: right;\"> -0.0490543 </td><td style=\"text-align: right;\">  0.0608103</td><td style=\"text-align: right;\">  0.152608 </td><td style=\"text-align: right;\"> -0.165874</td><td style=\"text-align: right;\"> -0.0128221 </td><td style=\"text-align: right;\"> -0.0213045</td><td style=\"text-align: right;\"> -0.0162853 </td><td style=\"text-align: right;\">  0.0973797</td><td style=\"text-align: right;\"> -0.112968 </td><td style=\"text-align: right;\"> -0.128557 </td><td style=\"text-align: right;\"> -0.00195039</td><td style=\"text-align: right;\"> -0.0535953 </td><td style=\"text-align: right;\">  0.0894354 </td><td style=\"text-align: right;\">  0.00388779</td><td style=\"text-align: right;\"> -0.107261 </td><td style=\"text-align: right;\">  0.0837807 </td><td style=\"text-align: right;\"> -0.22233  </td><td style=\"text-align: right;\"> -0.0607478</td><td style=\"text-align: right;\">  0.0760062</td><td style=\"text-align: right;\"> -0.0141491</td><td style=\"text-align: right;\">  0.179519 </td><td style=\"text-align: right;\"> -0.17633  </td><td style=\"text-align: right;\"> -0.0136841 </td><td style=\"text-align: right;\">  0.0276303 </td><td style=\"text-align: right;\"> -0.00607329</td><td style=\"text-align: right;\">  0.0599132 </td><td style=\"text-align: right;\">  0.0401342</td><td style=\"text-align: right;\"> -0.0402511</td><td style=\"text-align: right;\">  0.00733609</td><td style=\"text-align: right;\">  0.134636  </td><td style=\"text-align: right;\">  0.163513</td><td style=\"text-align: right;\">  0.0843371 </td><td style=\"text-align: right;\"> -0.0428041 </td><td style=\"text-align: right;\"> -0.0520351</td><td style=\"text-align: right;\">  0.0279385</td><td style=\"text-align: right;\"> -0.064075 </td><td style=\"text-align: right;\">  0.0290362 </td><td style=\"text-align: right;\">  0.107247 </td><td style=\"text-align: right;\"> -0.215349 </td><td style=\"text-align: right;\">  0.0165443</td><td style=\"text-align: right;\"> -0.0270307</td><td style=\"text-align: right;\">  0.0157693</td><td style=\"text-align: right;\">  0.0106068 </td><td style=\"text-align: right;\"> -0.121554</td><td style=\"text-align: right;\"> -0.00976224</td><td style=\"text-align: right;\"> -0.183343</td><td style=\"text-align: right;\"> -0.0161634 </td><td style=\"text-align: right;\">  0.0308064</td><td style=\"text-align: right;\">  0.176824 </td><td style=\"text-align: right;\"> -0.0780756</td><td style=\"text-align: right;\">  0.0172795 </td><td style=\"text-align: right;\">  0.118937  </td><td style=\"text-align: right;\"> -0.00897894</td><td style=\"text-align: right;\"> -0.0384528</td><td style=\"text-align: right;\"> -0.0496187</td><td style=\"text-align: right;\">  0.0444964  </td><td style=\"text-align: right;\">  0.0269089 </td></tr>\n",
       "<tr><td style=\"text-align: right;\">  0.0420468</td><td style=\"text-align: right;\"> -0.00852445</td><td style=\"text-align: right;\"> -0.164501 </td><td style=\"text-align: right;\">  0.0995192</td><td style=\"text-align: right;\">  0.0400135 </td><td style=\"text-align: right;\">  0.0327618</td><td style=\"text-align: right;\"> -0.0010096</td><td style=\"text-align: right;\">  0.187264 </td><td style=\"text-align: right;\">  0.214742 </td><td style=\"text-align: right;\">  0.00120483</td><td style=\"text-align: right;\">  0.00183723</td><td style=\"text-align: right;\"> -0.0698497</td><td style=\"text-align: right;\">  0.0304956 </td><td style=\"text-align: right;\">  0.0335321</td><td style=\"text-align: right;\">  0.0350048  </td><td style=\"text-align: right;\"> -0.00728006</td><td style=\"text-align: right;\"> -0.228504</td><td style=\"text-align: right;\"> -0.22442   </td><td style=\"text-align: right;\"> -0.197575 </td><td style=\"text-align: right;\"> -0.177928 </td><td style=\"text-align: right;\">  0.0802895</td><td style=\"text-align: right;\">  0.212112</td><td style=\"text-align: right;\">  0.0962902</td><td style=\"text-align: right;\"> -0.0877248</td><td style=\"text-align: right;\">  0.271526</td><td style=\"text-align: right;\">  0.183337</td><td style=\"text-align: right;\">  0.21304 </td><td style=\"text-align: right;\"> -0.0422453 </td><td style=\"text-align: right;\">  0.108149  </td><td style=\"text-align: right;\">  0.164954 </td><td style=\"text-align: right;\"> -0.0542541</td><td style=\"text-align: right;\">  0.0432352 </td><td style=\"text-align: right;\"> -0.0748903</td><td style=\"text-align: right;\">  0.0671117</td><td style=\"text-align: right;\">  0.0372047</td><td style=\"text-align: right;\">  0.00706794</td><td style=\"text-align: right;\"> -0.0978306 </td><td style=\"text-align: right;\">  0.0219846 </td><td style=\"text-align: right;\"> -0.0298402 </td><td style=\"text-align: right;\">  0.130788 </td><td style=\"text-align: right;\"> -0.119137 </td><td style=\"text-align: right;\"> -0.0708701</td><td style=\"text-align: right;\"> -0.125623 </td><td style=\"text-align: right;\"> -0.0281574 </td><td style=\"text-align: right;\"> -0.0385592</td><td style=\"text-align: right;\">  0.206474 </td><td style=\"text-align: right;\"> -0.154879</td><td style=\"text-align: right;\"> -0.01896   </td><td style=\"text-align: right;\">  0.0193065</td><td style=\"text-align: right;\">  0.0237693 </td><td style=\"text-align: right;\">  0.0772381</td><td style=\"text-align: right;\"> -0.179355 </td><td style=\"text-align: right;\"> -0.0455756</td><td style=\"text-align: right;\"> -0.0375914 </td><td style=\"text-align: right;\"> -0.0303199 </td><td style=\"text-align: right;\">  0.00288408</td><td style=\"text-align: right;\">  0.128632  </td><td style=\"text-align: right;\"> -0.246131 </td><td style=\"text-align: right;\">  0.0309093 </td><td style=\"text-align: right;\"> -0.0758558</td><td style=\"text-align: right;\">  0.0195414</td><td style=\"text-align: right;\">  0.0324733</td><td style=\"text-align: right;\">  0.0771917</td><td style=\"text-align: right;\">  0.199171 </td><td style=\"text-align: right;\"> -0.113603 </td><td style=\"text-align: right;\"> -0.0204171 </td><td style=\"text-align: right;\">  0.0603625 </td><td style=\"text-align: right;\">  0.00129327</td><td style=\"text-align: right;\"> -0.0190886 </td><td style=\"text-align: right;\">  0.021108 </td><td style=\"text-align: right;\"> -0.153672 </td><td style=\"text-align: right;\">  0.195392  </td><td style=\"text-align: right;\">  0.065823  </td><td style=\"text-align: right;\">  0.182397</td><td style=\"text-align: right;\">  0.221101  </td><td style=\"text-align: right;\">  0.0502726 </td><td style=\"text-align: right;\"> -0.0278748</td><td style=\"text-align: right;\">  0.0666464</td><td style=\"text-align: right;\"> -0.16796  </td><td style=\"text-align: right;\"> -0.0639937 </td><td style=\"text-align: right;\">  0.110325 </td><td style=\"text-align: right;\"> -0.146315 </td><td style=\"text-align: right;\"> -0.0370396</td><td style=\"text-align: right;\">  0.0369935</td><td style=\"text-align: right;\"> -0.0136186</td><td style=\"text-align: right;\">  0.00730649</td><td style=\"text-align: right;\"> -0.181719</td><td style=\"text-align: right;\">  0.0626666 </td><td style=\"text-align: right;\"> -0.220821</td><td style=\"text-align: right;\">  0.0412077 </td><td style=\"text-align: right;\"> -0.087644 </td><td style=\"text-align: right;\"> -0.091182 </td><td style=\"text-align: right;\"> -0.215788 </td><td style=\"text-align: right;\"> -0.0170467 </td><td style=\"text-align: right;\"> -0.0290061 </td><td style=\"text-align: right;\">  0.0100414 </td><td style=\"text-align: right;\"> -0.0559593</td><td style=\"text-align: right;\">  0.0566027</td><td style=\"text-align: right;\"> -0.000316831</td><td style=\"text-align: right;\"> -0.0209971 </td></tr>\n",
       "<tr><td style=\"text-align: right;\">nan        </td><td style=\"text-align: right;\">nan         </td><td style=\"text-align: right;\">nan        </td><td style=\"text-align: right;\">nan        </td><td style=\"text-align: right;\">nan         </td><td style=\"text-align: right;\">nan        </td><td style=\"text-align: right;\">nan        </td><td style=\"text-align: right;\">nan        </td><td style=\"text-align: right;\">nan        </td><td style=\"text-align: right;\">nan         </td><td style=\"text-align: right;\">nan         </td><td style=\"text-align: right;\">nan        </td><td style=\"text-align: right;\">nan         </td><td style=\"text-align: right;\">nan        </td><td style=\"text-align: right;\">nan          </td><td style=\"text-align: right;\">nan         </td><td style=\"text-align: right;\">nan       </td><td style=\"text-align: right;\">nan         </td><td style=\"text-align: right;\">nan        </td><td style=\"text-align: right;\">nan        </td><td style=\"text-align: right;\">nan        </td><td style=\"text-align: right;\">nan       </td><td style=\"text-align: right;\">nan        </td><td style=\"text-align: right;\">nan        </td><td style=\"text-align: right;\">nan       </td><td style=\"text-align: right;\">nan       </td><td style=\"text-align: right;\">nan       </td><td style=\"text-align: right;\">nan         </td><td style=\"text-align: right;\">nan         </td><td style=\"text-align: right;\">nan        </td><td style=\"text-align: right;\">nan        </td><td style=\"text-align: right;\">nan         </td><td style=\"text-align: right;\">nan        </td><td style=\"text-align: right;\">nan        </td><td style=\"text-align: right;\">nan        </td><td style=\"text-align: right;\">nan         </td><td style=\"text-align: right;\">nan         </td><td style=\"text-align: right;\">nan         </td><td style=\"text-align: right;\">nan         </td><td style=\"text-align: right;\">nan        </td><td style=\"text-align: right;\">nan        </td><td style=\"text-align: right;\">nan        </td><td style=\"text-align: right;\">nan        </td><td style=\"text-align: right;\">nan         </td><td style=\"text-align: right;\">nan        </td><td style=\"text-align: right;\">nan        </td><td style=\"text-align: right;\">nan       </td><td style=\"text-align: right;\">nan         </td><td style=\"text-align: right;\">nan        </td><td style=\"text-align: right;\">nan         </td><td style=\"text-align: right;\">nan        </td><td style=\"text-align: right;\">nan        </td><td style=\"text-align: right;\">nan        </td><td style=\"text-align: right;\">nan         </td><td style=\"text-align: right;\">nan         </td><td style=\"text-align: right;\">nan         </td><td style=\"text-align: right;\">nan         </td><td style=\"text-align: right;\">nan        </td><td style=\"text-align: right;\">nan         </td><td style=\"text-align: right;\">nan        </td><td style=\"text-align: right;\">nan        </td><td style=\"text-align: right;\">nan        </td><td style=\"text-align: right;\">nan        </td><td style=\"text-align: right;\">nan        </td><td style=\"text-align: right;\">nan        </td><td style=\"text-align: right;\">nan         </td><td style=\"text-align: right;\">nan         </td><td style=\"text-align: right;\">nan         </td><td style=\"text-align: right;\">nan         </td><td style=\"text-align: right;\">nan        </td><td style=\"text-align: right;\">nan        </td><td style=\"text-align: right;\">nan         </td><td style=\"text-align: right;\">nan         </td><td style=\"text-align: right;\">nan       </td><td style=\"text-align: right;\">nan         </td><td style=\"text-align: right;\">nan         </td><td style=\"text-align: right;\">nan        </td><td style=\"text-align: right;\">nan        </td><td style=\"text-align: right;\">nan        </td><td style=\"text-align: right;\">nan         </td><td style=\"text-align: right;\">nan        </td><td style=\"text-align: right;\">nan        </td><td style=\"text-align: right;\">nan        </td><td style=\"text-align: right;\">nan        </td><td style=\"text-align: right;\">nan        </td><td style=\"text-align: right;\">nan         </td><td style=\"text-align: right;\">nan       </td><td style=\"text-align: right;\">nan         </td><td style=\"text-align: right;\">nan       </td><td style=\"text-align: right;\">nan         </td><td style=\"text-align: right;\">nan        </td><td style=\"text-align: right;\">nan        </td><td style=\"text-align: right;\">nan        </td><td style=\"text-align: right;\">nan         </td><td style=\"text-align: right;\">nan         </td><td style=\"text-align: right;\">nan         </td><td style=\"text-align: right;\">nan        </td><td style=\"text-align: right;\">nan        </td><td style=\"text-align: right;\">nan          </td><td style=\"text-align: right;\">nan         </td></tr>\n",
       "<tr><td style=\"text-align: right;\">  0.0196599</td><td style=\"text-align: right;\">  0.0214039 </td><td style=\"text-align: right;\"> -0.162288 </td><td style=\"text-align: right;\">  0.19203  </td><td style=\"text-align: right;\"> -0.00126662</td><td style=\"text-align: right;\">  0.0462967</td><td style=\"text-align: right;\"> -0.0738191</td><td style=\"text-align: right;\">  0.108453 </td><td style=\"text-align: right;\">  0.182445 </td><td style=\"text-align: right;\"> -0.0132184 </td><td style=\"text-align: right;\">  0.160048  </td><td style=\"text-align: right;\"> -0.0729019</td><td style=\"text-align: right;\">  0.0095077 </td><td style=\"text-align: right;\">  0.0714731</td><td style=\"text-align: right;\"> -0.0268082  </td><td style=\"text-align: right;\"> -0.0911548 </td><td style=\"text-align: right;\"> -0.2772  </td><td style=\"text-align: right;\"> -0.183908  </td><td style=\"text-align: right;\"> -0.125871 </td><td style=\"text-align: right;\"> -0.127539 </td><td style=\"text-align: right;\">  0.0917576</td><td style=\"text-align: right;\">  0.134529</td><td style=\"text-align: right;\">  0.179292 </td><td style=\"text-align: right;\"> -0.0744776</td><td style=\"text-align: right;\">  0.33453 </td><td style=\"text-align: right;\">  0.305953</td><td style=\"text-align: right;\">  0.189333</td><td style=\"text-align: right;\"> -0.0672621 </td><td style=\"text-align: right;\">  0.0806774 </td><td style=\"text-align: right;\">  0.171507 </td><td style=\"text-align: right;\"> -0.0586837</td><td style=\"text-align: right;\"> -0.0118513 </td><td style=\"text-align: right;\"> -0.0518249</td><td style=\"text-align: right;\">  0.0575508</td><td style=\"text-align: right;\"> -0.0601481</td><td style=\"text-align: right;\"> -0.0693428 </td><td style=\"text-align: right;\"> -0.112479  </td><td style=\"text-align: right;\"> -0.00373643</td><td style=\"text-align: right;\">  0.01003   </td><td style=\"text-align: right;\">  0.113198 </td><td style=\"text-align: right;\"> -0.0916018</td><td style=\"text-align: right;\"> -0.0928527</td><td style=\"text-align: right;\"> -0.0986702</td><td style=\"text-align: right;\"> -0.0366643 </td><td style=\"text-align: right;\"> -0.0912099</td><td style=\"text-align: right;\">  0.210372 </td><td style=\"text-align: right;\"> -0.243285</td><td style=\"text-align: right;\"> -0.00886056</td><td style=\"text-align: right;\"> -0.053952 </td><td style=\"text-align: right;\"> -0.0819126 </td><td style=\"text-align: right;\">  0.203987 </td><td style=\"text-align: right;\"> -0.127095 </td><td style=\"text-align: right;\">  0.0382233</td><td style=\"text-align: right;\">  0.0395096 </td><td style=\"text-align: right;\"> -0.0173313 </td><td style=\"text-align: right;\">  0.0333918 </td><td style=\"text-align: right;\">  0.13854   </td><td style=\"text-align: right;\"> -0.194502 </td><td style=\"text-align: right;\">  0.0408186 </td><td style=\"text-align: right;\">  0.025206 </td><td style=\"text-align: right;\">  0.0295632</td><td style=\"text-align: right;\">  0.0954662</td><td style=\"text-align: right;\"> -0.0922118</td><td style=\"text-align: right;\">  0.137269 </td><td style=\"text-align: right;\"> -0.0294684</td><td style=\"text-align: right;\">  0.0281964 </td><td style=\"text-align: right;\"> -0.0117431 </td><td style=\"text-align: right;\"> -0.0943599 </td><td style=\"text-align: right;\"> -0.0166604 </td><td style=\"text-align: right;\">  0.0105653</td><td style=\"text-align: right;\"> -0.120914 </td><td style=\"text-align: right;\">  0.0696285 </td><td style=\"text-align: right;\"> -0.00697391</td><td style=\"text-align: right;\">  0.155543</td><td style=\"text-align: right;\">  0.105251  </td><td style=\"text-align: right;\"> -0.0132596 </td><td style=\"text-align: right;\"> -0.12528  </td><td style=\"text-align: right;\">  0.061235 </td><td style=\"text-align: right;\"> -0.0931401</td><td style=\"text-align: right;\"> -0.00849616</td><td style=\"text-align: right;\">  0.0161186</td><td style=\"text-align: right;\"> -0.158027 </td><td style=\"text-align: right;\"> -0.0163979</td><td style=\"text-align: right;\">  0.0249118</td><td style=\"text-align: right;\"> -0.0144112</td><td style=\"text-align: right;\"> -0.00283554</td><td style=\"text-align: right;\"> -0.178825</td><td style=\"text-align: right;\">  0.0310103 </td><td style=\"text-align: right;\"> -0.234285</td><td style=\"text-align: right;\">  0.00234691</td><td style=\"text-align: right;\">  0.0211383</td><td style=\"text-align: right;\">  0.078764 </td><td style=\"text-align: right;\"> -0.119552 </td><td style=\"text-align: right;\">  0.00489564</td><td style=\"text-align: right;\"> -0.0216497 </td><td style=\"text-align: right;\">  0.0909286 </td><td style=\"text-align: right;\"> -0.057966 </td><td style=\"text-align: right;\"> -0.0368875</td><td style=\"text-align: right;\">  0.0224652  </td><td style=\"text-align: right;\"> -0.0131596 </td></tr>\n",
       "<tr><td style=\"text-align: right;\">nan        </td><td style=\"text-align: right;\">nan         </td><td style=\"text-align: right;\">nan        </td><td style=\"text-align: right;\">nan        </td><td style=\"text-align: right;\">nan         </td><td style=\"text-align: right;\">nan        </td><td style=\"text-align: right;\">nan        </td><td style=\"text-align: right;\">nan        </td><td style=\"text-align: right;\">nan        </td><td style=\"text-align: right;\">nan         </td><td style=\"text-align: right;\">nan         </td><td style=\"text-align: right;\">nan        </td><td style=\"text-align: right;\">nan         </td><td style=\"text-align: right;\">nan        </td><td style=\"text-align: right;\">nan          </td><td style=\"text-align: right;\">nan         </td><td style=\"text-align: right;\">nan       </td><td style=\"text-align: right;\">nan         </td><td style=\"text-align: right;\">nan        </td><td style=\"text-align: right;\">nan        </td><td style=\"text-align: right;\">nan        </td><td style=\"text-align: right;\">nan       </td><td style=\"text-align: right;\">nan        </td><td style=\"text-align: right;\">nan        </td><td style=\"text-align: right;\">nan       </td><td style=\"text-align: right;\">nan       </td><td style=\"text-align: right;\">nan       </td><td style=\"text-align: right;\">nan         </td><td style=\"text-align: right;\">nan         </td><td style=\"text-align: right;\">nan        </td><td style=\"text-align: right;\">nan        </td><td style=\"text-align: right;\">nan         </td><td style=\"text-align: right;\">nan        </td><td style=\"text-align: right;\">nan        </td><td style=\"text-align: right;\">nan        </td><td style=\"text-align: right;\">nan         </td><td style=\"text-align: right;\">nan         </td><td style=\"text-align: right;\">nan         </td><td style=\"text-align: right;\">nan         </td><td style=\"text-align: right;\">nan        </td><td style=\"text-align: right;\">nan        </td><td style=\"text-align: right;\">nan        </td><td style=\"text-align: right;\">nan        </td><td style=\"text-align: right;\">nan         </td><td style=\"text-align: right;\">nan        </td><td style=\"text-align: right;\">nan        </td><td style=\"text-align: right;\">nan       </td><td style=\"text-align: right;\">nan         </td><td style=\"text-align: right;\">nan        </td><td style=\"text-align: right;\">nan         </td><td style=\"text-align: right;\">nan        </td><td style=\"text-align: right;\">nan        </td><td style=\"text-align: right;\">nan        </td><td style=\"text-align: right;\">nan         </td><td style=\"text-align: right;\">nan         </td><td style=\"text-align: right;\">nan         </td><td style=\"text-align: right;\">nan         </td><td style=\"text-align: right;\">nan        </td><td style=\"text-align: right;\">nan         </td><td style=\"text-align: right;\">nan        </td><td style=\"text-align: right;\">nan        </td><td style=\"text-align: right;\">nan        </td><td style=\"text-align: right;\">nan        </td><td style=\"text-align: right;\">nan        </td><td style=\"text-align: right;\">nan        </td><td style=\"text-align: right;\">nan         </td><td style=\"text-align: right;\">nan         </td><td style=\"text-align: right;\">nan         </td><td style=\"text-align: right;\">nan         </td><td style=\"text-align: right;\">nan        </td><td style=\"text-align: right;\">nan        </td><td style=\"text-align: right;\">nan         </td><td style=\"text-align: right;\">nan         </td><td style=\"text-align: right;\">nan       </td><td style=\"text-align: right;\">nan         </td><td style=\"text-align: right;\">nan         </td><td style=\"text-align: right;\">nan        </td><td style=\"text-align: right;\">nan        </td><td style=\"text-align: right;\">nan        </td><td style=\"text-align: right;\">nan         </td><td style=\"text-align: right;\">nan        </td><td style=\"text-align: right;\">nan        </td><td style=\"text-align: right;\">nan        </td><td style=\"text-align: right;\">nan        </td><td style=\"text-align: right;\">nan        </td><td style=\"text-align: right;\">nan         </td><td style=\"text-align: right;\">nan       </td><td style=\"text-align: right;\">nan         </td><td style=\"text-align: right;\">nan       </td><td style=\"text-align: right;\">nan         </td><td style=\"text-align: right;\">nan        </td><td style=\"text-align: right;\">nan        </td><td style=\"text-align: right;\">nan        </td><td style=\"text-align: right;\">nan         </td><td style=\"text-align: right;\">nan         </td><td style=\"text-align: right;\">nan         </td><td style=\"text-align: right;\">nan        </td><td style=\"text-align: right;\">nan        </td><td style=\"text-align: right;\">nan          </td><td style=\"text-align: right;\">nan         </td></tr>\n",
       "<tr><td style=\"text-align: right;\"> -0.201422 </td><td style=\"text-align: right;\"> -0.0830977 </td><td style=\"text-align: right;\"> -0.0576434</td><td style=\"text-align: right;\">  0.167336 </td><td style=\"text-align: right;\">  0.0941439 </td><td style=\"text-align: right;\"> -0.140875 </td><td style=\"text-align: right;\">  0.0233405</td><td style=\"text-align: right;\">  0.0939189</td><td style=\"text-align: right;\">  0.0928876</td><td style=\"text-align: right;\"> -0.0848974 </td><td style=\"text-align: right;\"> -0.0210981 </td><td style=\"text-align: right;\">  0.0377314</td><td style=\"text-align: right;\">  0.0727996 </td><td style=\"text-align: right;\">  0.0320491</td><td style=\"text-align: right;\">  0.0284029  </td><td style=\"text-align: right;\"> -0.0306635 </td><td style=\"text-align: right;\"> -0.26519 </td><td style=\"text-align: right;\">  0.00539402</td><td style=\"text-align: right;\"> -0.0517756</td><td style=\"text-align: right;\"> -0.0927261</td><td style=\"text-align: right;\">  0.0551857</td><td style=\"text-align: right;\">  0.189759</td><td style=\"text-align: right;\">  0.133907 </td><td style=\"text-align: right;\"> -0.0670354</td><td style=\"text-align: right;\">  0.299734</td><td style=\"text-align: right;\">  0.173437</td><td style=\"text-align: right;\">  0.242836</td><td style=\"text-align: right;\"> -0.125259  </td><td style=\"text-align: right;\">  0.00711534</td><td style=\"text-align: right;\">  0.189666 </td><td style=\"text-align: right;\"> -0.0404893</td><td style=\"text-align: right;\"> -0.00177055</td><td style=\"text-align: right;\"> -0.0952213</td><td style=\"text-align: right;\"> -0.0678539</td><td style=\"text-align: right;\"> -0.195255 </td><td style=\"text-align: right;\"> -0.0863195 </td><td style=\"text-align: right;\"> -0.00503298</td><td style=\"text-align: right;\"> -0.00237093</td><td style=\"text-align: right;\">  0.00153394</td><td style=\"text-align: right;\">  0.0817761</td><td style=\"text-align: right;\">  0.0424878</td><td style=\"text-align: right;\"> -0.0251964</td><td style=\"text-align: right;\"> -0.214416 </td><td style=\"text-align: right;\"> -0.286892  </td><td style=\"text-align: right;\">  0.0504789</td><td style=\"text-align: right;\">  0.233551 </td><td style=\"text-align: right;\"> -0.261835</td><td style=\"text-align: right;\"> -0.120112  </td><td style=\"text-align: right;\"> -0.0635286</td><td style=\"text-align: right;\"> -0.0633692 </td><td style=\"text-align: right;\">  0.0776141</td><td style=\"text-align: right;\"> -0.140472 </td><td style=\"text-align: right;\"> -0.0234738</td><td style=\"text-align: right;\"> -0.0468968 </td><td style=\"text-align: right;\">  0.0459335 </td><td style=\"text-align: right;\">  0.100143  </td><td style=\"text-align: right;\">  0.190783  </td><td style=\"text-align: right;\"> -0.0115631</td><td style=\"text-align: right;\">  0.0518952 </td><td style=\"text-align: right;\"> -0.196161 </td><td style=\"text-align: right;\"> -0.177522 </td><td style=\"text-align: right;\"> -0.0241444</td><td style=\"text-align: right;\">  0.045425 </td><td style=\"text-align: right;\">  0.0925017</td><td style=\"text-align: right;\"> -0.125516 </td><td style=\"text-align: right;\"> -0.0265426 </td><td style=\"text-align: right;\">  0.0432004 </td><td style=\"text-align: right;\"> -0.0261256 </td><td style=\"text-align: right;\"> -0.0152886 </td><td style=\"text-align: right;\"> -0.0515169</td><td style=\"text-align: right;\"> -0.0380574</td><td style=\"text-align: right;\">  0.0635473 </td><td style=\"text-align: right;\">  0.0510584 </td><td style=\"text-align: right;\">  0.150817</td><td style=\"text-align: right;\"> -0.00246545</td><td style=\"text-align: right;\">  0.0280483 </td><td style=\"text-align: right;\"> -0.0340933</td><td style=\"text-align: right;\">  0.0394115</td><td style=\"text-align: right;\"> -0.0528594</td><td style=\"text-align: right;\">  0.125823  </td><td style=\"text-align: right;\">  0.101546 </td><td style=\"text-align: right;\"> -0.0379352</td><td style=\"text-align: right;\"> -0.0945878</td><td style=\"text-align: right;\"> -0.0404562</td><td style=\"text-align: right;\"> -0.0183304</td><td style=\"text-align: right;\">  0.148197  </td><td style=\"text-align: right;\"> -0.188114</td><td style=\"text-align: right;\"> -0.0792636 </td><td style=\"text-align: right;\"> -0.115561</td><td style=\"text-align: right;\"> -0.00115529</td><td style=\"text-align: right;\"> -0.03139  </td><td style=\"text-align: right;\">  0.126201 </td><td style=\"text-align: right;\"> -0.12911  </td><td style=\"text-align: right;\"> -0.0873474 </td><td style=\"text-align: right;\">  0.140247  </td><td style=\"text-align: right;\">  0.0584434 </td><td style=\"text-align: right;\">  0.0136913</td><td style=\"text-align: right;\">  0.0625486</td><td style=\"text-align: right;\"> -0.0130918  </td><td style=\"text-align: right;\"> -0.00665467</td></tr>\n",
       "<tr><td style=\"text-align: right;\"> -0.0385956</td><td style=\"text-align: right;\"> -0.0633477 </td><td style=\"text-align: right;\"> -0.123444 </td><td style=\"text-align: right;\">  0.169659 </td><td style=\"text-align: right;\">  0.0810458 </td><td style=\"text-align: right;\">  0.0606099</td><td style=\"text-align: right;\"> -0.0407099</td><td style=\"text-align: right;\">  0.184323 </td><td style=\"text-align: right;\">  0.13105  </td><td style=\"text-align: right;\"> -0.0768655 </td><td style=\"text-align: right;\">  0.0812965 </td><td style=\"text-align: right;\"> -0.0428166</td><td style=\"text-align: right;\"> -0.0385498 </td><td style=\"text-align: right;\">  0.0261831</td><td style=\"text-align: right;\"> -0.000811161</td><td style=\"text-align: right;\">  0.0459248 </td><td style=\"text-align: right;\"> -0.262514</td><td style=\"text-align: right;\"> -0.141319  </td><td style=\"text-align: right;\"> -0.13048  </td><td style=\"text-align: right;\"> -0.109    </td><td style=\"text-align: right;\">  0.117503 </td><td style=\"text-align: right;\">  0.19077 </td><td style=\"text-align: right;\">  0.0824175</td><td style=\"text-align: right;\"> -0.0883837</td><td style=\"text-align: right;\">  0.309998</td><td style=\"text-align: right;\">  0.260767</td><td style=\"text-align: right;\">  0.207211</td><td style=\"text-align: right;\">  0.00884993</td><td style=\"text-align: right;\">  0.115174  </td><td style=\"text-align: right;\">  0.090376 </td><td style=\"text-align: right;\"> -0.115085 </td><td style=\"text-align: right;\">  0.016194  </td><td style=\"text-align: right;\"> -0.0733278</td><td style=\"text-align: right;\">  0.0547009</td><td style=\"text-align: right;\"> -0.0889872</td><td style=\"text-align: right;\"> -0.0795129 </td><td style=\"text-align: right;\"> -0.134319  </td><td style=\"text-align: right;\">  0.0206175 </td><td style=\"text-align: right;\">  0.0401    </td><td style=\"text-align: right;\">  0.147406 </td><td style=\"text-align: right;\"> -0.0357875</td><td style=\"text-align: right;\"> -0.102647 </td><td style=\"text-align: right;\"> -0.0781449</td><td style=\"text-align: right;\"> -0.110813  </td><td style=\"text-align: right;\">  0.0541013</td><td style=\"text-align: right;\">  0.0513347</td><td style=\"text-align: right;\"> -0.122604</td><td style=\"text-align: right;\"> -0.0305154 </td><td style=\"text-align: right;\"> -0.0688169</td><td style=\"text-align: right;\">  0.0215398 </td><td style=\"text-align: right;\">  0.130651 </td><td style=\"text-align: right;\"> -0.0291928</td><td style=\"text-align: right;\"> -0.0306711</td><td style=\"text-align: right;\"> -0.0220662 </td><td style=\"text-align: right;\">  0.00515929</td><td style=\"text-align: right;\">  0.0410166 </td><td style=\"text-align: right;\">  0.107381  </td><td style=\"text-align: right;\"> -0.16122  </td><td style=\"text-align: right;\">  0.00823739</td><td style=\"text-align: right;\"> -0.0373034</td><td style=\"text-align: right;\">  0.0129792</td><td style=\"text-align: right;\">  0.0699414</td><td style=\"text-align: right;\"> -0.0157309</td><td style=\"text-align: right;\">  0.197742 </td><td style=\"text-align: right;\"> -0.0394415</td><td style=\"text-align: right;\"> -0.00466178</td><td style=\"text-align: right;\"> -0.00162407</td><td style=\"text-align: right;\">  0.00212811</td><td style=\"text-align: right;\"> -0.00254175</td><td style=\"text-align: right;\">  0.0655126</td><td style=\"text-align: right;\"> -0.0574341</td><td style=\"text-align: right;\">  0.11682   </td><td style=\"text-align: right;\">  0.079608  </td><td style=\"text-align: right;\">  0.13493 </td><td style=\"text-align: right;\">  0.0245813 </td><td style=\"text-align: right;\"> -0.00206669</td><td style=\"text-align: right;\"> -0.100069 </td><td style=\"text-align: right;\">  0.0302698</td><td style=\"text-align: right;\"> -0.0730462</td><td style=\"text-align: right;\">  0.0238295 </td><td style=\"text-align: right;\">  0.128315 </td><td style=\"text-align: right;\"> -0.116451 </td><td style=\"text-align: right;\"> -0.0690383</td><td style=\"text-align: right;\">  0.0124907</td><td style=\"text-align: right;\">  0.0363089</td><td style=\"text-align: right;\">  0.0585581 </td><td style=\"text-align: right;\"> -0.194658</td><td style=\"text-align: right;\"> -0.00944014</td><td style=\"text-align: right;\"> -0.226881</td><td style=\"text-align: right;\">  0.0177047 </td><td style=\"text-align: right;\"> -0.0218317</td><td style=\"text-align: right;\">  0.0760092</td><td style=\"text-align: right;\"> -0.172055 </td><td style=\"text-align: right;\"> -0.0580798 </td><td style=\"text-align: right;\"> -0.00928019</td><td style=\"text-align: right;\"> -0.0211015 </td><td style=\"text-align: right;\">  0.0245652</td><td style=\"text-align: right;\"> -0.0116473</td><td style=\"text-align: right;\">  0.0659086  </td><td style=\"text-align: right;\">  0.0825875 </td></tr>\n",
       "<tr><td style=\"text-align: right;\">nan        </td><td style=\"text-align: right;\">nan         </td><td style=\"text-align: right;\">nan        </td><td style=\"text-align: right;\">nan        </td><td style=\"text-align: right;\">nan         </td><td style=\"text-align: right;\">nan        </td><td style=\"text-align: right;\">nan        </td><td style=\"text-align: right;\">nan        </td><td style=\"text-align: right;\">nan        </td><td style=\"text-align: right;\">nan         </td><td style=\"text-align: right;\">nan         </td><td style=\"text-align: right;\">nan        </td><td style=\"text-align: right;\">nan         </td><td style=\"text-align: right;\">nan        </td><td style=\"text-align: right;\">nan          </td><td style=\"text-align: right;\">nan         </td><td style=\"text-align: right;\">nan       </td><td style=\"text-align: right;\">nan         </td><td style=\"text-align: right;\">nan        </td><td style=\"text-align: right;\">nan        </td><td style=\"text-align: right;\">nan        </td><td style=\"text-align: right;\">nan       </td><td style=\"text-align: right;\">nan        </td><td style=\"text-align: right;\">nan        </td><td style=\"text-align: right;\">nan       </td><td style=\"text-align: right;\">nan       </td><td style=\"text-align: right;\">nan       </td><td style=\"text-align: right;\">nan         </td><td style=\"text-align: right;\">nan         </td><td style=\"text-align: right;\">nan        </td><td style=\"text-align: right;\">nan        </td><td style=\"text-align: right;\">nan         </td><td style=\"text-align: right;\">nan        </td><td style=\"text-align: right;\">nan        </td><td style=\"text-align: right;\">nan        </td><td style=\"text-align: right;\">nan         </td><td style=\"text-align: right;\">nan         </td><td style=\"text-align: right;\">nan         </td><td style=\"text-align: right;\">nan         </td><td style=\"text-align: right;\">nan        </td><td style=\"text-align: right;\">nan        </td><td style=\"text-align: right;\">nan        </td><td style=\"text-align: right;\">nan        </td><td style=\"text-align: right;\">nan         </td><td style=\"text-align: right;\">nan        </td><td style=\"text-align: right;\">nan        </td><td style=\"text-align: right;\">nan       </td><td style=\"text-align: right;\">nan         </td><td style=\"text-align: right;\">nan        </td><td style=\"text-align: right;\">nan         </td><td style=\"text-align: right;\">nan        </td><td style=\"text-align: right;\">nan        </td><td style=\"text-align: right;\">nan        </td><td style=\"text-align: right;\">nan         </td><td style=\"text-align: right;\">nan         </td><td style=\"text-align: right;\">nan         </td><td style=\"text-align: right;\">nan         </td><td style=\"text-align: right;\">nan        </td><td style=\"text-align: right;\">nan         </td><td style=\"text-align: right;\">nan        </td><td style=\"text-align: right;\">nan        </td><td style=\"text-align: right;\">nan        </td><td style=\"text-align: right;\">nan        </td><td style=\"text-align: right;\">nan        </td><td style=\"text-align: right;\">nan        </td><td style=\"text-align: right;\">nan         </td><td style=\"text-align: right;\">nan         </td><td style=\"text-align: right;\">nan         </td><td style=\"text-align: right;\">nan         </td><td style=\"text-align: right;\">nan        </td><td style=\"text-align: right;\">nan        </td><td style=\"text-align: right;\">nan         </td><td style=\"text-align: right;\">nan         </td><td style=\"text-align: right;\">nan       </td><td style=\"text-align: right;\">nan         </td><td style=\"text-align: right;\">nan         </td><td style=\"text-align: right;\">nan        </td><td style=\"text-align: right;\">nan        </td><td style=\"text-align: right;\">nan        </td><td style=\"text-align: right;\">nan         </td><td style=\"text-align: right;\">nan        </td><td style=\"text-align: right;\">nan        </td><td style=\"text-align: right;\">nan        </td><td style=\"text-align: right;\">nan        </td><td style=\"text-align: right;\">nan        </td><td style=\"text-align: right;\">nan         </td><td style=\"text-align: right;\">nan       </td><td style=\"text-align: right;\">nan         </td><td style=\"text-align: right;\">nan       </td><td style=\"text-align: right;\">nan         </td><td style=\"text-align: right;\">nan        </td><td style=\"text-align: right;\">nan        </td><td style=\"text-align: right;\">nan        </td><td style=\"text-align: right;\">nan         </td><td style=\"text-align: right;\">nan         </td><td style=\"text-align: right;\">nan         </td><td style=\"text-align: right;\">nan        </td><td style=\"text-align: right;\">nan        </td><td style=\"text-align: right;\">nan          </td><td style=\"text-align: right;\">nan         </td></tr>\n",
       "<tr><td style=\"text-align: right;\">nan        </td><td style=\"text-align: right;\">nan         </td><td style=\"text-align: right;\">nan        </td><td style=\"text-align: right;\">nan        </td><td style=\"text-align: right;\">nan         </td><td style=\"text-align: right;\">nan        </td><td style=\"text-align: right;\">nan        </td><td style=\"text-align: right;\">nan        </td><td style=\"text-align: right;\">nan        </td><td style=\"text-align: right;\">nan         </td><td style=\"text-align: right;\">nan         </td><td style=\"text-align: right;\">nan        </td><td style=\"text-align: right;\">nan         </td><td style=\"text-align: right;\">nan        </td><td style=\"text-align: right;\">nan          </td><td style=\"text-align: right;\">nan         </td><td style=\"text-align: right;\">nan       </td><td style=\"text-align: right;\">nan         </td><td style=\"text-align: right;\">nan        </td><td style=\"text-align: right;\">nan        </td><td style=\"text-align: right;\">nan        </td><td style=\"text-align: right;\">nan       </td><td style=\"text-align: right;\">nan        </td><td style=\"text-align: right;\">nan        </td><td style=\"text-align: right;\">nan       </td><td style=\"text-align: right;\">nan       </td><td style=\"text-align: right;\">nan       </td><td style=\"text-align: right;\">nan         </td><td style=\"text-align: right;\">nan         </td><td style=\"text-align: right;\">nan        </td><td style=\"text-align: right;\">nan        </td><td style=\"text-align: right;\">nan         </td><td style=\"text-align: right;\">nan        </td><td style=\"text-align: right;\">nan        </td><td style=\"text-align: right;\">nan        </td><td style=\"text-align: right;\">nan         </td><td style=\"text-align: right;\">nan         </td><td style=\"text-align: right;\">nan         </td><td style=\"text-align: right;\">nan         </td><td style=\"text-align: right;\">nan        </td><td style=\"text-align: right;\">nan        </td><td style=\"text-align: right;\">nan        </td><td style=\"text-align: right;\">nan        </td><td style=\"text-align: right;\">nan         </td><td style=\"text-align: right;\">nan        </td><td style=\"text-align: right;\">nan        </td><td style=\"text-align: right;\">nan       </td><td style=\"text-align: right;\">nan         </td><td style=\"text-align: right;\">nan        </td><td style=\"text-align: right;\">nan         </td><td style=\"text-align: right;\">nan        </td><td style=\"text-align: right;\">nan        </td><td style=\"text-align: right;\">nan        </td><td style=\"text-align: right;\">nan         </td><td style=\"text-align: right;\">nan         </td><td style=\"text-align: right;\">nan         </td><td style=\"text-align: right;\">nan         </td><td style=\"text-align: right;\">nan        </td><td style=\"text-align: right;\">nan         </td><td style=\"text-align: right;\">nan        </td><td style=\"text-align: right;\">nan        </td><td style=\"text-align: right;\">nan        </td><td style=\"text-align: right;\">nan        </td><td style=\"text-align: right;\">nan        </td><td style=\"text-align: right;\">nan        </td><td style=\"text-align: right;\">nan         </td><td style=\"text-align: right;\">nan         </td><td style=\"text-align: right;\">nan         </td><td style=\"text-align: right;\">nan         </td><td style=\"text-align: right;\">nan        </td><td style=\"text-align: right;\">nan        </td><td style=\"text-align: right;\">nan         </td><td style=\"text-align: right;\">nan         </td><td style=\"text-align: right;\">nan       </td><td style=\"text-align: right;\">nan         </td><td style=\"text-align: right;\">nan         </td><td style=\"text-align: right;\">nan        </td><td style=\"text-align: right;\">nan        </td><td style=\"text-align: right;\">nan        </td><td style=\"text-align: right;\">nan         </td><td style=\"text-align: right;\">nan        </td><td style=\"text-align: right;\">nan        </td><td style=\"text-align: right;\">nan        </td><td style=\"text-align: right;\">nan        </td><td style=\"text-align: right;\">nan        </td><td style=\"text-align: right;\">nan         </td><td style=\"text-align: right;\">nan       </td><td style=\"text-align: right;\">nan         </td><td style=\"text-align: right;\">nan       </td><td style=\"text-align: right;\">nan         </td><td style=\"text-align: right;\">nan        </td><td style=\"text-align: right;\">nan        </td><td style=\"text-align: right;\">nan        </td><td style=\"text-align: right;\">nan         </td><td style=\"text-align: right;\">nan         </td><td style=\"text-align: right;\">nan         </td><td style=\"text-align: right;\">nan        </td><td style=\"text-align: right;\">nan        </td><td style=\"text-align: right;\">nan          </td><td style=\"text-align: right;\">nan         </td></tr>\n",
       "</tbody>\n",
       "</table>"
      ]
     },
     "metadata": {},
     "output_type": "display_data"
    },
    {
     "data": {
      "text/plain": []
     },
     "execution_count": 30,
     "metadata": {},
     "output_type": "execute_result"
    }
   ],
   "source": [
    "train_desc_vecs"
   ]
  },
  {
   "cell_type": "code",
   "execution_count": 31,
   "metadata": {},
   "outputs": [],
   "source": [
    "# Add aggregated word embeddings \n",
    "ext_train = train.cbind(train_desc_vecs)"
   ]
  },
  {
   "cell_type": "markdown",
   "metadata": {},
   "source": [
    "The word embeddings have added 100 columns to our data."
   ]
  },
  {
   "cell_type": "code",
   "execution_count": 32,
   "metadata": {},
   "outputs": [
    {
     "name": "stdout",
     "output_type": "stream",
     "text": [
      "Number of columns in original data: 15\n",
      "Number of columns with word embeddings: 115\n"
     ]
    }
   ],
   "source": [
    "print(\"Number of columns in original data: \" + str(train.ncol))\n",
    "print(\"Number of columns with word embeddings: \" + str(ext_train.ncol))"
   ]
  },
  {
   "cell_type": "markdown",
   "metadata": {},
   "source": [
    "We will also add the word embeddings to our test data.  We have trained our Word2Vec model on the train data only.  This is not necessary since we are training an unsupervised learning model on the `desc` column only so there should be limited data leakage.  By building a Word2Vec model on the train data and applying this model to the test data, however, we are most closely mimicking how this process will be done in production."
   ]
  },
  {
   "cell_type": "code",
   "execution_count": 33,
   "metadata": {},
   "outputs": [],
   "source": [
    "test_desc = tokenize(test[\"desc\"].ascharacter())\n",
    "test_desc_vecs = w2v_model.transform(test_desc, aggregate_method=\"AVERAGE\")\n",
    "ext_test = test.cbind(test_desc_vecs)"
   ]
  },
  {
   "cell_type": "markdown",
   "metadata": {},
   "source": [
    "We will now train our model with word embeddings as new features in replace of `desc`."
   ]
  },
  {
   "cell_type": "code",
   "execution_count": 34,
   "metadata": {},
   "outputs": [
    {
     "name": "stdout",
     "output_type": "stream",
     "text": [
      "gbm Model Build progress: |███████████████████████████████████████████████| 100%\n"
     ]
    }
   ],
   "source": [
    "# Train GBM model with word embeddings\n",
    "\n",
    "predictors = list(set(ext_train.col_names) - set([target, \"desc\"]))\n",
    "\n",
    "gbm_word_embeddings = H2OGradientBoostingEstimator(seed = 1234, model_id = \"gbm_word-embeddings.hex\", \n",
    "                                                   ntrees = 500, \n",
    "                                                   stopping_rounds = 10, score_tree_interval = 5, # early stopping\n",
    "                                                   stopping_metric = \"AUC\", \n",
    "                                                   nfolds = 5 # 5-fold cross validation\n",
    "                                                  )\n",
    "gbm_word_embeddings.train(x = predictors, y = target, training_frame = ext_train)"
   ]
  },
  {
   "cell_type": "code",
   "execution_count": 35,
   "metadata": {},
   "outputs": [
    {
     "name": "stdout",
     "output_type": "stream",
     "text": [
      "AUC on CV - Baseline: 0.719\n",
      "AUC on CV - No Desc: 0.72077\n",
      "AUC on CV - Word Embeddings: 0.72064\n"
     ]
    }
   ],
   "source": [
    "print(\"AUC on CV - Baseline: \" + str(round(gbm_baseline.auc(xval = True), 4)))\n",
    "print(\"AUC on CV - No Desc: \" + str(round(gbm_no_desc.auc(xval = True), 5)))\n",
    "print(\"AUC on CV - Word Embeddings: \" + str(round(gbm_word_embeddings.auc(xval = True), 5)))"
   ]
  },
  {
   "cell_type": "markdown",
   "metadata": {},
   "source": [
    "By adding the word embeddings of `desc`, we have slightly better performance than removing `desc` all together.  The improvement is small, however, which could indicate that the description of the loan is not very informative in predicting whether or not a loan will be fully paid off.\n",
    "\n",
    "The variable importance plot shows us that the word embeddings do have some importance to the model."
   ]
  },
  {
   "cell_type": "code",
   "execution_count": 36,
   "metadata": {},
   "outputs": [
    {
     "data": {
      "image/png": "[encoded data removed]",
      "text/plain": [
       "<Figure size 1008x720 with 1 Axes>"
      ]
     },
     "metadata": {},
     "output_type": "display_data"
    }
   ],
   "source": [
    "gbm_word_embeddings.varimp_plot(num_of_features=20)"
   ]
  },
  {
   "cell_type": "markdown",
   "metadata": {},
   "source": [
    "## Step 4. Perform Target Encoding on Categorical Features\n",
    "\n",
    "From our original baseline model, we can see that the variable `addr_state` has very high importance. It is surprising that `addr_state` has such high variable importance. The high variable importance could be because our model is memorizing the training data through this high cardinality categorical column. See: [Best Practices - Categorical Predictors](https://github.com/h2oai/h2o-tutorials/tree/master/best-practices/categorical-predictors) for more information on why this occurs."
   ]
  },
  {
   "cell_type": "code",
   "execution_count": 37,
   "metadata": {},
   "outputs": [
    {
     "data": {
      "image/png": "[encoded data removed]",
      "text/plain": [
       "<Figure size 1008x720 with 1 Axes>"
      ]
     },
     "metadata": {},
     "output_type": "display_data"
    }
   ],
   "source": [
    "gbm_baseline.varimp_plot()"
   ]
  },
  {
   "cell_type": "markdown",
   "metadata": {},
   "source": [
    "If we train our same GBM model without `addr_state` we actually see an improvement in model performance on the holdout data. This indicates that we are indeed overfitting on the high cardinality column.  "
   ]
  },
  {
   "cell_type": "code",
   "execution_count": 38,
   "metadata": {},
   "outputs": [
    {
     "name": "stdout",
     "output_type": "stream",
     "text": [
      "gbm Model Build progress: |███████████████████████████████████████████████| 100%\n"
     ]
    }
   ],
   "source": [
    "# Train GBM model without state\n",
    "\n",
    "gbm_no_state = H2OGradientBoostingEstimator(seed = 1234, model_id = \"gbm_no-state.hex\", \n",
    "                                            ntrees = 500, \n",
    "                                            stopping_rounds = 10, score_tree_interval = 5, # early stopping\n",
    "                                            stopping_metric = \"AUC\", \n",
    "                                            nfolds = 5 # 5-fold cross validation\n",
    "                                           )\n",
    "gbm_no_state.train(x = list(set(predictors) - set([\"addr_state\"])), y = target, training_frame = ext_train)"
   ]
  },
  {
   "cell_type": "code",
   "execution_count": 39,
   "metadata": {},
   "outputs": [
    {
     "name": "stdout",
     "output_type": "stream",
     "text": [
      "AUC on CV - Word Embeddings: 0.721\n",
      "AUC on CV - No State: 0.725\n"
     ]
    }
   ],
   "source": [
    "print(\"AUC on CV - Word Embeddings: \" + str(round(gbm_word_embeddings.auc(xval = True), 3)))\n",
    "print(\"AUC on CV - No State: \" + str(round(gbm_no_state.auc(xval = True), 3)))"
   ]
  },
  {
   "cell_type": "markdown",
   "metadata": {},
   "source": [
    "To prevent this overfitting, we can perform target encoding on the `addr_state` column and use that in place of the original categorical column.  Target encoding is a powerful method of converting a categorical column to numeric.  Target Encoding is the practice of replacing a categorical value with the mean of the response.  For example, we can replace NY in our dataset with the probability of default for the loans originating in NY.  \n",
    "\n",
    "Note: Our `TargetEncoder` function includes many options to prevent overfitting.  We will use cross validation Target Encoding for this example.  For more information on Target Encoding, see our documentation: http://docs.h2o.ai/h2o/latest-stable/h2o-docs/data-munging/target-encoding.html"
   ]
  },
  {
   "cell_type": "code",
   "execution_count": 40,
   "metadata": {
    "collapsed": true
   },
   "outputs": [],
   "source": [
    "# Add Fold Column for Target Encoding\n",
    "ext_train[\"cv_fold_te\"] = ext_train.kfold_column(n_folds = 5, seed = 54321)"
   ]
  },
  {
   "cell_type": "code",
   "execution_count": 41,
   "metadata": {},
   "outputs": [
    {
     "data": {
      "text/plain": [
       "<h2o.expr.H2OCache at 0x1281cd320>"
      ]
     },
     "execution_count": 41,
     "metadata": {},
     "output_type": "execute_result"
    }
   ],
   "source": [
    "from h2o.targetencoder import TargetEncoder\n",
    "\n",
    "# Fit target encoding on training data\n",
    "targetEncoder = TargetEncoder(x= [\"addr_state\", \"purpose\"], y = \"bad_loan\", fold_column = \"cv_fold_te\")\n",
    "targetEncoder.fit(ext_train)"
   ]
  },
  {
   "cell_type": "code",
   "execution_count": 44,
   "metadata": {},
   "outputs": [],
   "source": [
    "# Apply to train and test data\n",
    "ext_train = targetEncoder.transform(frame=ext_train, \n",
    "                                    holdout_type=\"kfold\", \n",
    "                                    seed=54321, \n",
    "                                    noise = 0\n",
    "                                   )\n",
    "\n",
    "ext_test = targetEncoder.transform(frame=ext_test, \n",
    "                                   holdout_type=\"none\", # no need to do holdout because \n",
    "                                                        #target encoder was calculated on train\n",
    "                                   seed=54321, \n",
    "                                   noise = 0\n",
    "                                  )"
   ]
  },
  {
   "cell_type": "markdown",
   "metadata": {},
   "source": [
    "Now for each Fold ID and `addr_state` we have a numeric value.  We will use the target encoding representation of `addr_state` instead of the original column in our next model.  We have done the same step for `purpose` which is another categorical feature with a high number of categories."
   ]
  },
  {
   "cell_type": "code",
   "execution_count": 45,
   "metadata": {},
   "outputs": [
    {
     "data": {
      "text/html": [
       "<table>\n",
       "<thead>\n",
       "<tr><th style=\"text-align: right;\">  cv_fold_te</th><th>addr_state  </th><th style=\"text-align: right;\">  addr_state_te</th><th>purpose  </th><th style=\"text-align: right;\">  purpose_te</th></tr>\n",
       "</thead>\n",
       "<tbody>\n",
       "<tr><td style=\"text-align: right;\">           0</td><td>AK          </td><td style=\"text-align: right;\">       0.276596</td><td>car      </td><td style=\"text-align: right;\">    0.145078</td></tr>\n",
       "<tr><td style=\"text-align: right;\">           0</td><td>AL          </td><td style=\"text-align: right;\">       0.195572</td><td>car      </td><td style=\"text-align: right;\">    0.145078</td></tr>\n",
       "<tr><td style=\"text-align: right;\">           0</td><td>AR          </td><td style=\"text-align: right;\">       0.144828</td><td>car      </td><td style=\"text-align: right;\">    0.145078</td></tr>\n",
       "<tr><td style=\"text-align: right;\">           0</td><td>AZ          </td><td style=\"text-align: right;\">       0.197441</td><td>car      </td><td style=\"text-align: right;\">    0.145078</td></tr>\n",
       "<tr><td style=\"text-align: right;\">           0</td><td>AZ          </td><td style=\"text-align: right;\">       0.197441</td><td>car      </td><td style=\"text-align: right;\">    0.145078</td></tr>\n",
       "<tr><td style=\"text-align: right;\">           0</td><td>AZ          </td><td style=\"text-align: right;\">       0.197441</td><td>car      </td><td style=\"text-align: right;\">    0.145078</td></tr>\n",
       "<tr><td style=\"text-align: right;\">           0</td><td>AZ          </td><td style=\"text-align: right;\">       0.197441</td><td>car      </td><td style=\"text-align: right;\">    0.145078</td></tr>\n",
       "<tr><td style=\"text-align: right;\">           0</td><td>AZ          </td><td style=\"text-align: right;\">       0.197441</td><td>car      </td><td style=\"text-align: right;\">    0.145078</td></tr>\n",
       "<tr><td style=\"text-align: right;\">           0</td><td>CA          </td><td style=\"text-align: right;\">       0.20982 </td><td>car      </td><td style=\"text-align: right;\">    0.145078</td></tr>\n",
       "<tr><td style=\"text-align: right;\">           0</td><td>CA          </td><td style=\"text-align: right;\">       0.20982 </td><td>car      </td><td style=\"text-align: right;\">    0.145078</td></tr>\n",
       "</tbody>\n",
       "</table>"
      ]
     },
     "metadata": {},
     "output_type": "display_data"
    },
    {
     "data": {
      "text/plain": []
     },
     "execution_count": 45,
     "metadata": {},
     "output_type": "execute_result"
    }
   ],
   "source": [
    "ext_train[[\"cv_fold_te\", \"addr_state\", \"addr_state_te\", \"purpose\", \"purpose_te\"]]"
   ]
  },
  {
   "cell_type": "code",
   "execution_count": 46,
   "metadata": {},
   "outputs": [
    {
     "name": "stdout",
     "output_type": "stream",
     "text": [
      "gbm Model Build progress: |███████████████████████████████████████████████| 100%\n"
     ]
    }
   ],
   "source": [
    "# Train GBM model using target encoding instead of state and purpose\n",
    "\n",
    "predictors = list(set(ext_train.col_names) - set([\"cv_fold_te\", target, \"desc\", \"addr_state\", \"purpose\"]))\n",
    "\n",
    "gbm_te = H2OGradientBoostingEstimator(seed = 1234, model_id = \"gbm_target-encoding.hex\", \n",
    "                                      ntrees = 500, \n",
    "                                      stopping_rounds = 10, score_tree_interval = 5, # early stopping\n",
    "                                      stopping_metric = \"AUC\",\n",
    "                                      nfolds = 5 # 5-fold cross validation\n",
    "                                     )\n",
    "gbm_te.train(x = predictors, y = target, training_frame = ext_train)"
   ]
  },
  {
   "cell_type": "markdown",
   "metadata": {},
   "source": [
    "By adding the target encoding of `addr_state` and `purpose` and removing the original high cardinality features from the predictors, we have very similar performance to the model where we removed `addr_state` completely.  This could indicate that the state and purpose of the loan is not very informative in predicting whether or not a loan will be fully paid off."
   ]
  },
  {
   "cell_type": "code",
   "execution_count": 47,
   "metadata": {},
   "outputs": [
    {
     "name": "stdout",
     "output_type": "stream",
     "text": [
      "AUC on CV - Word Embeddings: 0.721\n",
      "AUC on CV - No State: 0.725\n",
      "AUC on CV - Target Encoding: 0.725\n"
     ]
    }
   ],
   "source": [
    "print(\"AUC on CV - Word Embeddings: \" + str(round(gbm_word_embeddings.auc(xval = True), 3)))\n",
    "print(\"AUC on CV - No State: \" + str(round(gbm_no_state.auc(xval = True), 3)))\n",
    "print(\"AUC on CV - Target Encoding: \" + str(round(gbm_te.auc(xval = True), 3)))"
   ]
  },
  {
   "cell_type": "markdown",
   "metadata": {},
   "source": [
    "The variable `addr_state_te` has much smaller variable importance than the original `addr_state`.  This indicates that the model is no longer overfitting on `addr_state` information."
   ]
  },
  {
   "cell_type": "code",
   "execution_count": 48,
   "metadata": {},
   "outputs": [
    {
     "data": {
      "image/png": "[encoded data removed]",
      "text/plain": [
       "<Figure size 1008x720 with 1 Axes>"
      ]
     },
     "metadata": {},
     "output_type": "display_data"
    }
   ],
   "source": [
    "gbm_te.varimp_plot()"
   ]
  },
  {
   "cell_type": "markdown",
   "metadata": {},
   "source": [
    "## Step 5. Add Anomaly Score\n",
    "\n",
    "We can also use unsupervised learning models to add interesting information about the data.  For example: \n",
    "\n",
    "* what are the natural segments found in the data\n",
    "* which records are strange\n",
    "\n",
    "In this step, we will use the Isolation Forest algorithm to add an anomaly score to each record.  We will see if this information improves the model performance."
   ]
  },
  {
   "cell_type": "code",
   "execution_count": 49,
   "metadata": {},
   "outputs": [
    {
     "name": "stdout",
     "output_type": "stream",
     "text": [
      "isolationforest Model Build progress: |███████████████████████████████████| 100%\n"
     ]
    }
   ],
   "source": [
    "# Train Isolation Forest\n",
    "\n",
    "from h2o.estimators import H2OIsolationForestEstimator\n",
    "\n",
    "isolation_forest = H2OIsolationForestEstimator(seed = 1234,\n",
    "                                               model_id = \"isolation_forest.hex\"\n",
    "                                              )\n",
    "isolation_forest.train(training_frame = ext_train, x = predictors)"
   ]
  },
  {
   "cell_type": "markdown",
   "metadata": {},
   "source": [
    "When you predict with isolation forest, the output is `predict` and `mean_length`.  The `mean_length` value is the average number of splits it takes to segment the record in a randomized tree.  The more splits it takes, the less likely the record is an anomaly.\n",
    "\n",
    "The `predict` value is the `mean_length` normalized between 0 and 1.  Note: there may be some values less than 0 or greater than 1.  This because the current implementation calculates the min and max for normalization on a sample of the records."
   ]
  },
  {
   "cell_type": "code",
   "execution_count": 50,
   "metadata": {},
   "outputs": [
    {
     "name": "stdout",
     "output_type": "stream",
     "text": [
      "isolationforest prediction progress: |████████████████████████████████████| 100%\n"
     ]
    },
    {
     "data": {
      "text/html": [
       "<table>\n",
       "<thead>\n",
       "<tr><th style=\"text-align: right;\">    predict</th><th style=\"text-align: right;\">  mean_length</th></tr>\n",
       "</thead>\n",
       "<tbody>\n",
       "<tr><td style=\"text-align: right;\">-0.0308642 </td><td style=\"text-align: right;\">         6.96</td></tr>\n",
       "<tr><td style=\"text-align: right;\">-0.037037  </td><td style=\"text-align: right;\">         6.98</td></tr>\n",
       "<tr><td style=\"text-align: right;\">-0.037037  </td><td style=\"text-align: right;\">         6.98</td></tr>\n",
       "<tr><td style=\"text-align: right;\"> 0.0123457 </td><td style=\"text-align: right;\">         6.82</td></tr>\n",
       "<tr><td style=\"text-align: right;\"> 0.160494  </td><td style=\"text-align: right;\">         6.34</td></tr>\n",
       "<tr><td style=\"text-align: right;\">-0.0308642 </td><td style=\"text-align: right;\">         6.96</td></tr>\n",
       "<tr><td style=\"text-align: right;\"> 0.0432099 </td><td style=\"text-align: right;\">         6.72</td></tr>\n",
       "<tr><td style=\"text-align: right;\"> 0.117284  </td><td style=\"text-align: right;\">         6.48</td></tr>\n",
       "<tr><td style=\"text-align: right;\"> 0.00617284</td><td style=\"text-align: right;\">         6.84</td></tr>\n",
       "<tr><td style=\"text-align: right;\"> 0         </td><td style=\"text-align: right;\">         6.86</td></tr>\n",
       "</tbody>\n",
       "</table>"
      ]
     },
     "metadata": {},
     "output_type": "display_data"
    },
    {
     "data": {
      "text/plain": []
     },
     "execution_count": 50,
     "metadata": {},
     "output_type": "execute_result"
    }
   ],
   "source": [
    "isolation_forest.predict(ext_train)"
   ]
  },
  {
   "cell_type": "markdown",
   "metadata": {},
   "source": [
    "We will add the normalized Isolation Forest prediction to our training and testing data."
   ]
  },
  {
   "cell_type": "code",
   "execution_count": 51,
   "metadata": {},
   "outputs": [
    {
     "name": "stdout",
     "output_type": "stream",
     "text": [
      "isolationforest prediction progress: |████████████████████████████████████| 100%\n"
     ]
    }
   ],
   "source": [
    "# Add Isolation Forest scores to train \n",
    "anomaly_scores_train = isolation_forest.predict(ext_train)[\"predict\"]\n",
    "anomaly_scores_train.col_names = [\"AnomalyScore\"]\n",
    "ext_train = ext_train.cbind(anomaly_scores_train)"
   ]
  },
  {
   "cell_type": "code",
   "execution_count": null,
   "metadata": {},
   "outputs": [
    {
     "name": "stdout",
     "output_type": "stream",
     "text": [
      "isolationforest prediction progress: |████████████████████████████████████| 100%\n"
     ]
    }
   ],
   "source": [
    "# Add Isolation Forest scores to test \n",
    "anomaly_scores_test = isolation_forest.predict(ext_test)[\"predict\"]\n",
    "anomaly_scores_test.col_names = [\"AnomalyScore\"]\n",
    "ext_test = ext_test.cbind(anomaly_scores_test)"
   ]
  },
  {
   "cell_type": "code",
   "execution_count": null,
   "metadata": {},
   "outputs": [
    {
     "name": "stdout",
     "output_type": "stream",
     "text": [
      "gbm Model Build progress: |██"
     ]
    }
   ],
   "source": [
    "# Train GBM model with anomaly score as new feature\n",
    "\n",
    "predictors = list(set(ext_train.col_names) - set([\"cv_fold_te\", target, \"desc\", \"addr_state\", \"purpose\", \n",
    "                                                 \"addr_state_te\", \"purpose_te\"]))\n",
    "\n",
    "gbm_anomaly_score = H2OGradientBoostingEstimator(seed = 1234, model_id = \"gbm_anomaly-scores.hex\", \n",
    "                                                 ntrees = 500, \n",
    "                                                 stopping_rounds = 10, score_tree_interval = 5, # early stopping\n",
    "                                                 stopping_metric = \"AUC\",\n",
    "                                                 nfolds = 5 # 5-fold cross validation\n",
    "                                                )\n",
    "gbm_anomaly_score.train(x = predictors, y = target, training_frame = ext_train)"
   ]
  },
  {
   "cell_type": "code",
   "execution_count": null,
   "metadata": {},
   "outputs": [],
   "source": [
    "print(\"AUC on CV - Baseline: \" + str(round(gbm_baseline.auc(xval = True), 3)))\n",
    "print(\"AUC on CV - Target Encoding: \" + str(round(gbm_te.auc(xval = True), 3)))\n",
    "print(\"AUC on CV - Anomaly Score: \" + str(round(gbm_anomaly_score.auc(xval = True), 3)))"
   ]
  },
  {
   "cell_type": "markdown",
   "metadata": {},
   "source": [
    "## Step 6. Evaluate Improvement to Model\n",
    "\n",
    "Now that we have completed our feature engineering, we will evaluate how the model performs on our test data."
   ]
  },
  {
   "cell_type": "code",
   "execution_count": null,
   "metadata": {},
   "outputs": [],
   "source": [
    "print(\"AUC on CV - Baseline: \" + str(round(gbm_baseline.auc(xval = True), 4)))\n",
    "print(\"AUC on CV - with Anomaly Score: \" + str(round(gbm_anomaly_score.auc(xval = True), 4)))"
   ]
  },
  {
   "cell_type": "code",
   "execution_count": null,
   "metadata": {},
   "outputs": [],
   "source": [
    "print(\"AUC on Test - Baseline: \" + str(round(gbm_baseline.model_performance(ext_test).auc(), 4)))\n",
    "print(\"AUC on Test - with Anomaly Score: \" + str(round(gbm_anomaly_score.model_performance(ext_test).auc(), 4)))"
   ]
  },
  {
   "cell_type": "markdown",
   "metadata": {},
   "source": [
    "Our final model does significantly better on the test data."
   ]
  },
  {
   "cell_type": "markdown",
   "metadata": {},
   "source": [
    "## Step 7. Analyze Final Model\n",
    "\n",
    "Our last step is to analyze our final model.\n",
    "\n",
    "The `issue_d` has the greatest importance.  We can use the partial dependency plot to understand the relationship between `issue_d` and the probability of default."
   ]
  },
  {
   "cell_type": "code",
   "execution_count": null,
   "metadata": {},
   "outputs": [],
   "source": [
    "gbm_anomaly_score.varimp_plot()"
   ]
  },
  {
   "cell_type": "code",
   "execution_count": null,
   "metadata": {},
   "outputs": [],
   "source": [
    "%matplotlib inline\n",
    "pdp = gbm_anomaly_score.partial_plot(data=ext_train, cols = [\"issue_d\"])"
   ]
  },
  {
   "cell_type": "markdown",
   "metadata": {},
   "source": [
    "The partial dependency plot for `issue_d` shows that there is a significant decrease in probability of loan default over time.  \n",
    "\n",
    "This variable is the most important feature.  The GBM model may extrapolate into the future so removing this variable should be considered."
   ]
  },
  {
   "cell_type": "code",
   "execution_count": null,
   "metadata": {},
   "outputs": [],
   "source": [
    "h2o.cluster().shutdown()"
   ]
  }
 ],
 "metadata": {
  "kernelspec": {
   "display_name": "Python 3",
   "language": "python",
   "name": "python3"
  },
  "language_info": {
   "codemirror_mode": {
    "name": "ipython",
    "version": 3
   },
   "file_extension": ".py",
   "mimetype": "text/x-python",
   "name": "python",
   "nbconvert_exporter": "python",
   "pygments_lexer": "ipython3",
   "version": "3.6.5"
  }
 },
 "nbformat": 4,
 "nbformat_minor": 2
}
