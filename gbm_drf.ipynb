{
 "cells": [
  {
   "cell_type": "markdown",
   "metadata": {},
   "source": [
    "# Categorical Predictors\n",
    "\n",
    "In this notebook, we will walk through the effects categorical columns have on algorithms like GBM and Random Forest, particularly categorical columns with high cardinality.  We will also walk through two methods for dealing with high cardinality columns: \n",
    "\n",
    "* comparing model performance after removing high cardinality columns\n",
    "* parameter tuning (specifically tuning `nbins_cats` and `categorical_encoding`)\n",
    "\n",
    "A common method for dealing with high cardinality categorical predictors is to perform categorical encoding such as: Target Encoding, Frequency Encoding, etc.  These methods are not evaluated in this notebook.\n",
    "\n",
    "The effects of categorical columns are similar for both the GBM and Random Forest model.  For this notebook, we will be using the GBM algorithm.\n",
    "\n",
    "## Train Model with Random Categorical Predictor\n",
    "\n",
    "We will start out by training a GBM model to predict the column `bad_loan` in our cleaned lending club data:  https://raw.githubusercontent.com/h2oai/app-consumer-loan/master/data/loan.csv.  We will add a random categorical predictor to the data to see how it impacts our model. The random categorical column will have 500 unique values. "
   ]
  },
  {
   "cell_type": "code",
   "execution_count": 1,
   "metadata": {},
   "outputs": [],
   "source": [
    "import h2o\n",
    "from h2o.automl import H2OAutoML\n",
    "import random, os, sys\n",
    "from datetime import datetime\n",
    "import pandas as pd\n",
    "import logging\n",
    "import csv\n",
    "import optparse\n",
    "import time\n",
    "import json\n",
    "from distutils.util import strtobool\n",
    "import psutil\n",
    "import numpy as np"
   ]
  },
  {
   "cell_type": "code",
   "execution_count": 2,
   "metadata": {},
   "outputs": [
    {
     "name": "stdout",
     "output_type": "stream",
     "text": [
      "3\n"
     ]
    }
   ],
   "source": [
    "pct_memory=0.5\n",
    "virtual_memory=psutil.virtual_memory()\n",
    "min_mem_size=int(round(int(pct_memory*virtual_memory.available)/1073741824,0))\n",
    "print(min_mem_size)"
   ]
  },
  {
   "cell_type": "code",
   "execution_count": 3,
   "metadata": {},
   "outputs": [
    {
     "name": "stdout",
     "output_type": "stream",
     "text": [
      "Checking whether there is an H2O instance running at http://localhost:13294..... not found.\n",
      "Attempting to start a local H2O server...\n",
      "  Java Version: openjdk version \"1.8.0_121\"; OpenJDK Runtime Environment (Zulu 8.20.0.5-macosx) (build 1.8.0_121-b15); OpenJDK 64-Bit Server VM (Zulu 8.20.0.5-macosx) (build 25.121-b15, mixed mode)\n",
      "  Starting server from /Users/bear/anaconda/lib/python3.6/site-packages/h2o/backend/bin/h2o.jar\n",
      "  Ice root: /var/folders/lh/42j8mfjx069d1bkc2wlf2pw40000gn/T/tmpioz3khcg\n",
      "  JVM stdout: /var/folders/lh/42j8mfjx069d1bkc2wlf2pw40000gn/T/tmpioz3khcg/h2o_bear_started_from_python.out\n",
      "  JVM stderr: /var/folders/lh/42j8mfjx069d1bkc2wlf2pw40000gn/T/tmpioz3khcg/h2o_bear_started_from_python.err\n",
      "  Server is running at http://127.0.0.1:13294\n",
      "Connecting to H2O server at http://127.0.0.1:13294... successful.\n"
     ]
    },
    {
     "data": {
      "text/html": [
       "<div style=\"overflow:auto\"><table style=\"width:50%\"><tr><td>H2O cluster uptime:</td>\n",
       "<td>02 secs</td></tr>\n",
       "<tr><td>H2O cluster timezone:</td>\n",
       "<td>America/New_York</td></tr>\n",
       "<tr><td>H2O data parsing timezone:</td>\n",
       "<td>UTC</td></tr>\n",
       "<tr><td>H2O cluster version:</td>\n",
       "<td>3.22.1.3</td></tr>\n",
       "<tr><td>H2O cluster version age:</td>\n",
       "<td>14 days, 19 hours and 17 minutes </td></tr>\n",
       "<tr><td>H2O cluster name:</td>\n",
       "<td>H2O_from_python_bear_4r4q8p</td></tr>\n",
       "<tr><td>H2O cluster total nodes:</td>\n",
       "<td>1</td></tr>\n",
       "<tr><td>H2O cluster free memory:</td>\n",
       "<td>3.556 Gb</td></tr>\n",
       "<tr><td>H2O cluster total cores:</td>\n",
       "<td>8</td></tr>\n",
       "<tr><td>H2O cluster allowed cores:</td>\n",
       "<td>8</td></tr>\n",
       "<tr><td>H2O cluster status:</td>\n",
       "<td>accepting new members, healthy</td></tr>\n",
       "<tr><td>H2O connection url:</td>\n",
       "<td>http://127.0.0.1:13294</td></tr>\n",
       "<tr><td>H2O connection proxy:</td>\n",
       "<td>None</td></tr>\n",
       "<tr><td>H2O internal security:</td>\n",
       "<td>False</td></tr>\n",
       "<tr><td>H2O API Extensions:</td>\n",
       "<td>XGBoost, Algos, AutoML, Core V3, Core V4</td></tr>\n",
       "<tr><td>Python version:</td>\n",
       "<td>3.6.5 final</td></tr></table></div>"
      ],
      "text/plain": [
       "--------------------------  ----------------------------------------\n",
       "H2O cluster uptime:         02 secs\n",
       "H2O cluster timezone:       America/New_York\n",
       "H2O data parsing timezone:  UTC\n",
       "H2O cluster version:        3.22.1.3\n",
       "H2O cluster version age:    14 days, 19 hours and 17 minutes\n",
       "H2O cluster name:           H2O_from_python_bear_4r4q8p\n",
       "H2O cluster total nodes:    1\n",
       "H2O cluster free memory:    3.556 Gb\n",
       "H2O cluster total cores:    8\n",
       "H2O cluster allowed cores:  8\n",
       "H2O cluster status:         accepting new members, healthy\n",
       "H2O connection url:         http://127.0.0.1:13294\n",
       "H2O connection proxy:\n",
       "H2O internal security:      False\n",
       "H2O API Extensions:         XGBoost, Algos, AutoML, Core V3, Core V4\n",
       "Python version:             3.6.5 final\n",
       "--------------------------  ----------------------------------------"
      ]
     },
     "metadata": {},
     "output_type": "display_data"
    }
   ],
   "source": [
    "# 65535 Highest port no\n",
    "port_no=random.randint(5555,55555)\n",
    "h2o.init(strict_version_check=False,min_mem_size_GB=min_mem_size,port=port_no) # start h2o\n"
   ]
  },
  {
   "cell_type": "code",
   "execution_count": 4,
   "metadata": {},
   "outputs": [
    {
     "name": "stdout",
     "output_type": "stream",
     "text": [
      "Parse progress: |█████████████████████████████████████████████████████████| 100%\n"
     ]
    }
   ],
   "source": [
    "# Import the data into H2O\n",
    "df = h2o.import_file(\"data/loan.csv\",\n",
    "                     col_types = {'bad_loan':\"enum\"}\n",
    "                    )"
   ]
  },
  {
   "cell_type": "code",
   "execution_count": 5,
   "metadata": {},
   "outputs": [
    {
     "name": "stdout",
     "output_type": "stream",
     "text": [
      "Create Frame progress: |██████████████████████████████████████████████████| 100%\n"
     ]
    }
   ],
   "source": [
    "# Add Random Categorical Column with 500 Unique Values\n",
    "random_cat = h2o.create_frame(rows = df.nrow, cols = 1, \n",
    "                              binary_fraction = 0, time_fraction = 0, integer_fraction = 0, string_fraction = 0,\n",
    "                              categorical_fraction = 1, factors = 500, # Random Categorical Column with 500 Values\n",
    "                              has_response = False, seed = 1234\n",
    "                             )"
   ]
  },
  {
   "cell_type": "code",
   "execution_count": 6,
   "metadata": {
    "collapsed": true
   },
   "outputs": [],
   "source": [
    "ext_df = df.cbind(random_cat)"
   ]
  },
  {
   "cell_type": "code",
   "execution_count": 7,
   "metadata": {
    "collapsed": true
   },
   "outputs": [],
   "source": [
    "# Split Frame into training and testing\n",
    "train, test = ext_df.split_frame(seed = 1234, destination_frames=[\"train.hex\", \"test.hex\"])"
   ]
  },
  {
   "cell_type": "code",
   "execution_count": 8,
   "metadata": {},
   "outputs": [
    {
     "name": "stdout",
     "output_type": "stream",
     "text": [
      "gbm Model Build progress: |███████████████████████████████████████████████| 100%\n"
     ]
    }
   ],
   "source": [
    "# Train GBM\n",
    "from h2o.estimators import H2OGradientBoostingEstimator\n",
    "\n",
    "response = \"bad_loan\"\n",
    "predictors = ['loan_amnt', 'int_rate', 'emp_length', 'annual_inc', 'dti', 'delinq_2yrs', 'revol_util', 'total_acc', \n",
    "              'longest_credit_length', 'verification_status', 'term', 'purpose', 'home_ownership', 'C1']\n",
    "\n",
    "gbm_v1 = H2OGradientBoostingEstimator(model_id = \"gbm_v1.hex\",\n",
    "                                      score_tree_interval = 10, ntrees = 500,\n",
    "                                      ## early stopping once the validation AUC doesn't improve by at least 0.1% \n",
    "                                      ## for 5 consecutive scoring events\n",
    "                                      stopping_rounds = 5, stopping_metric = \"AUC\", stopping_tolerance = 0.001\n",
    "                                     )\n",
    "gbm_v1.train(x = predictors, y = response, \n",
    "             training_frame = train, validation_frame = test)"
   ]
  },
  {
   "cell_type": "markdown",
   "metadata": {},
   "source": [
    "The training and validation logloss diverge very quickly in the scoring history. This is also visible by the large difference in training and validation AUC."
   ]
  },
  {
   "cell_type": "code",
   "execution_count": 9,
   "metadata": {},
   "outputs": [
    {
     "data": {
      "image/png": "[encoded data removed]",
      "text/plain": [
       "<Figure size 432x288 with 1 Axes>"
      ]
     },
     "metadata": {},
     "output_type": "display_data"
    }
   ],
   "source": [
    "gbm_v1.plot()"
   ]
  },
  {
   "cell_type": "code",
   "execution_count": 10,
   "metadata": {},
   "outputs": [
    {
     "name": "stdout",
     "output_type": "stream",
     "text": [
      "Training AUC: 0.85\n",
      "Validation AUC: 0.671\n"
     ]
    }
   ],
   "source": [
    "# Get AUC\n",
    "print(\"Training AUC: \" + str(round(gbm_v1.auc(train = True), 3)))\n",
    "print(\"Validation AUC: \" + str(round(gbm_v1.auc(valid = True), 3)))"
   ]
  },
  {
   "cell_type": "markdown",
   "metadata": {},
   "source": [
    "Our most important variable is the random categorical variable!!  This tells us that our model is memorizing the training data through this high cardinality categorical column."
   ]
  },
  {
   "cell_type": "code",
   "execution_count": 11,
   "metadata": {},
   "outputs": [
    {
     "data": {
      "image/png": "[encoded data removed]",
      "text/plain": [
       "<Figure size 1008x720 with 1 Axes>"
      ]
     },
     "metadata": {},
     "output_type": "display_data"
    }
   ],
   "source": [
    "# Plot Variable Importance\n",
    "\n",
    "gbm_v1.varimp_plot()"
   ]
  },
  {
   "cell_type": "markdown",
   "metadata": {},
   "source": [
    "### Tree Visualization\n",
    "\n",
    "Let's take a look at the trees in the GBM model to understand how they are using our `C1` variable.\n",
    "\n",
    "The code below will create an image of a chosen tree in the GBM model from the MOJO."
   ]
  },
  {
   "cell_type": "code",
   "execution_count": 12,
   "metadata": {
    "collapsed": true
   },
   "outputs": [],
   "source": [
    "import subprocess\n",
    "from IPython.display import Image\n",
    "\n",
    "def generateTree(h2o_jar_path, mojo_full_path, gv_file_path, image_file_path, tree_id = 0):\n",
    "    result = subprocess.call([\"java\",  \"-cp\", h2o_jar_path, \"hex.genmodel.tools.PrintMojo\", \"--tree\", str(tree_id), \"-i\",  mojo_full_path , \"-o\", gv_file_path ], shell=False)\n",
    "    result = subprocess.call([\"ls\",gv_file_path], shell = False)\n",
    "    if result is 0:\n",
    "        print(\"Success: Graphviz file \" + gv_file_path + \" is generated.\")\n",
    "    else:    \n",
    "        print(\"Error: Graphviz file \" + gv_file_path + \" could not be generated.\")\n",
    "        \n",
    "def displayTreeImage(gv_file_path, image_file_path):\n",
    "    result = subprocess.call([\"dot\", \"-Tpng\", gv_file_path, \"-o\", image_file_path], shell=False)\n",
    "    result = subprocess.call([\"ls\",image_file_path], shell = False)\n",
    "    if result is 0:\n",
    "        print(\"Success: Image File \" + image_file_path + \" is generated.\")\n",
    "        print(\"Now you can execute the follow line as-it-is to see the tree graph:\") \n",
    "        print(\"Image(filename='\" + image_file_path + \"\\')\")\n",
    "    else:\n",
    "        print(\"Error: Image file \" + image_file_path + \" could not be generated.\")"
   ]
  },
  {
   "cell_type": "code",
   "execution_count": 13,
   "metadata": {
    "collapsed": true
   },
   "outputs": [],
   "source": [
    "h2o_jar_path= '../../../../Downloads/h2o-3.16.0.4/h2o.jar'\n",
    "mojo_file_name = \"./gbm_v1.zip\"\n",
    "gv_file_path = \"./gbm_v1.gv\"\n",
    "image_file_path = \"./gbm_v1.png\""
   ]
  },
  {
   "cell_type": "code",
   "execution_count": 14,
   "metadata": {},
   "outputs": [
    {
     "name": "stdout",
     "output_type": "stream",
     "text": [
      "Error: Graphviz file ./gbm_v1.gv could not be generated.\n",
      "Error: Image file ./gbm_v1.png could not be generated.\n"
     ]
    },
    {
     "ename": "FileNotFoundError",
     "evalue": "[Errno 2] No such file or directory: './gbm_v1.png'",
     "output_type": "error",
     "traceback": [
      "\u001b[0;31m---------------------------------------------------------------------------\u001b[0m",
      "\u001b[0;31mFileNotFoundError\u001b[0m                         Traceback (most recent call last)",
      "\u001b[0;32m<ipython-input-14-78e722b37451>\u001b[0m in \u001b[0;36m<module>\u001b[0;34m()\u001b[0m\n\u001b[1;32m      2\u001b[0m \u001b[0mgenerateTree\u001b[0m\u001b[0;34m(\u001b[0m\u001b[0mh2o_jar_path\u001b[0m\u001b[0;34m,\u001b[0m \u001b[0mmojo_file_name\u001b[0m\u001b[0;34m,\u001b[0m \u001b[0mgv_file_path\u001b[0m\u001b[0;34m,\u001b[0m \u001b[0mimage_file_path\u001b[0m\u001b[0;34m,\u001b[0m \u001b[0;36m0\u001b[0m\u001b[0;34m)\u001b[0m\u001b[0;34m\u001b[0m\u001b[0m\n\u001b[1;32m      3\u001b[0m \u001b[0mdisplayTreeImage\u001b[0m\u001b[0;34m(\u001b[0m\u001b[0mgv_file_path\u001b[0m\u001b[0;34m,\u001b[0m \u001b[0mimage_file_path\u001b[0m\u001b[0;34m)\u001b[0m\u001b[0;34m\u001b[0m\u001b[0m\n\u001b[0;32m----> 4\u001b[0;31m \u001b[0mImage\u001b[0m\u001b[0;34m(\u001b[0m\u001b[0mfilename\u001b[0m\u001b[0;34m=\u001b[0m\u001b[0mimage_file_path\u001b[0m\u001b[0;34m)\u001b[0m\u001b[0;34m\u001b[0m\u001b[0m\n\u001b[0m",
      "\u001b[0;32m/Users/bear/anaconda/lib/python3.6/site-packages/IPython/core/display.py\u001b[0m in \u001b[0;36m__init__\u001b[0;34m(self, data, url, filename, format, embed, width, height, retina, unconfined, metadata)\u001b[0m\n\u001b[1;32m    756\u001b[0m         \u001b[0mself\u001b[0m\u001b[0;34m.\u001b[0m\u001b[0munconfined\u001b[0m \u001b[0;34m=\u001b[0m \u001b[0munconfined\u001b[0m\u001b[0;34m\u001b[0m\u001b[0m\n\u001b[1;32m    757\u001b[0m         \u001b[0mself\u001b[0m\u001b[0;34m.\u001b[0m\u001b[0mmetadata\u001b[0m \u001b[0;34m=\u001b[0m \u001b[0mmetadata\u001b[0m\u001b[0;34m\u001b[0m\u001b[0m\n\u001b[0;32m--> 758\u001b[0;31m         \u001b[0msuper\u001b[0m\u001b[0;34m(\u001b[0m\u001b[0mImage\u001b[0m\u001b[0;34m,\u001b[0m \u001b[0mself\u001b[0m\u001b[0;34m)\u001b[0m\u001b[0;34m.\u001b[0m\u001b[0m__init__\u001b[0m\u001b[0;34m(\u001b[0m\u001b[0mdata\u001b[0m\u001b[0;34m=\u001b[0m\u001b[0mdata\u001b[0m\u001b[0;34m,\u001b[0m \u001b[0murl\u001b[0m\u001b[0;34m=\u001b[0m\u001b[0murl\u001b[0m\u001b[0;34m,\u001b[0m \u001b[0mfilename\u001b[0m\u001b[0;34m=\u001b[0m\u001b[0mfilename\u001b[0m\u001b[0;34m)\u001b[0m\u001b[0;34m\u001b[0m\u001b[0m\n\u001b[0m\u001b[1;32m    759\u001b[0m \u001b[0;34m\u001b[0m\u001b[0m\n\u001b[1;32m    760\u001b[0m         \u001b[0;32mif\u001b[0m \u001b[0mretina\u001b[0m\u001b[0;34m:\u001b[0m\u001b[0;34m\u001b[0m\u001b[0m\n",
      "\u001b[0;32m/Users/bear/anaconda/lib/python3.6/site-packages/IPython/core/display.py\u001b[0m in \u001b[0;36m__init__\u001b[0;34m(self, data, url, filename)\u001b[0m\n\u001b[1;32m    392\u001b[0m         \u001b[0mself\u001b[0m\u001b[0;34m.\u001b[0m\u001b[0mfilename\u001b[0m \u001b[0;34m=\u001b[0m \u001b[0;32mNone\u001b[0m \u001b[0;32mif\u001b[0m \u001b[0mfilename\u001b[0m \u001b[0;32mis\u001b[0m \u001b[0;32mNone\u001b[0m \u001b[0;32melse\u001b[0m \u001b[0municode_type\u001b[0m\u001b[0;34m(\u001b[0m\u001b[0mfilename\u001b[0m\u001b[0;34m)\u001b[0m\u001b[0;34m\u001b[0m\u001b[0m\n\u001b[1;32m    393\u001b[0m \u001b[0;34m\u001b[0m\u001b[0m\n\u001b[0;32m--> 394\u001b[0;31m         \u001b[0mself\u001b[0m\u001b[0;34m.\u001b[0m\u001b[0mreload\u001b[0m\u001b[0;34m(\u001b[0m\u001b[0;34m)\u001b[0m\u001b[0;34m\u001b[0m\u001b[0m\n\u001b[0m\u001b[1;32m    395\u001b[0m         \u001b[0mself\u001b[0m\u001b[0;34m.\u001b[0m\u001b[0m_check_data\u001b[0m\u001b[0;34m(\u001b[0m\u001b[0;34m)\u001b[0m\u001b[0;34m\u001b[0m\u001b[0m\n\u001b[1;32m    396\u001b[0m \u001b[0;34m\u001b[0m\u001b[0m\n",
      "\u001b[0;32m/Users/bear/anaconda/lib/python3.6/site-packages/IPython/core/display.py\u001b[0m in \u001b[0;36mreload\u001b[0;34m(self)\u001b[0m\n\u001b[1;32m    778\u001b[0m         \u001b[0;34m\"\"\"Reload the raw data from file or URL.\"\"\"\u001b[0m\u001b[0;34m\u001b[0m\u001b[0m\n\u001b[1;32m    779\u001b[0m         \u001b[0;32mif\u001b[0m \u001b[0mself\u001b[0m\u001b[0;34m.\u001b[0m\u001b[0membed\u001b[0m\u001b[0;34m:\u001b[0m\u001b[0;34m\u001b[0m\u001b[0m\n\u001b[0;32m--> 780\u001b[0;31m             \u001b[0msuper\u001b[0m\u001b[0;34m(\u001b[0m\u001b[0mImage\u001b[0m\u001b[0;34m,\u001b[0m\u001b[0mself\u001b[0m\u001b[0;34m)\u001b[0m\u001b[0;34m.\u001b[0m\u001b[0mreload\u001b[0m\u001b[0;34m(\u001b[0m\u001b[0;34m)\u001b[0m\u001b[0;34m\u001b[0m\u001b[0m\n\u001b[0m\u001b[1;32m    781\u001b[0m             \u001b[0;32mif\u001b[0m \u001b[0mself\u001b[0m\u001b[0;34m.\u001b[0m\u001b[0mretina\u001b[0m\u001b[0;34m:\u001b[0m\u001b[0;34m\u001b[0m\u001b[0m\n\u001b[1;32m    782\u001b[0m                 \u001b[0mself\u001b[0m\u001b[0;34m.\u001b[0m\u001b[0m_retina_shape\u001b[0m\u001b[0;34m(\u001b[0m\u001b[0;34m)\u001b[0m\u001b[0;34m\u001b[0m\u001b[0m\n",
      "\u001b[0;32m/Users/bear/anaconda/lib/python3.6/site-packages/IPython/core/display.py\u001b[0m in \u001b[0;36mreload\u001b[0;34m(self)\u001b[0m\n\u001b[1;32m    410\u001b[0m         \u001b[0;34m\"\"\"Reload the raw data from file or URL.\"\"\"\u001b[0m\u001b[0;34m\u001b[0m\u001b[0m\n\u001b[1;32m    411\u001b[0m         \u001b[0;32mif\u001b[0m \u001b[0mself\u001b[0m\u001b[0;34m.\u001b[0m\u001b[0mfilename\u001b[0m \u001b[0;32mis\u001b[0m \u001b[0;32mnot\u001b[0m \u001b[0;32mNone\u001b[0m\u001b[0;34m:\u001b[0m\u001b[0;34m\u001b[0m\u001b[0m\n\u001b[0;32m--> 412\u001b[0;31m             \u001b[0;32mwith\u001b[0m \u001b[0mopen\u001b[0m\u001b[0;34m(\u001b[0m\u001b[0mself\u001b[0m\u001b[0;34m.\u001b[0m\u001b[0mfilename\u001b[0m\u001b[0;34m,\u001b[0m \u001b[0mself\u001b[0m\u001b[0;34m.\u001b[0m\u001b[0m_read_flags\u001b[0m\u001b[0;34m)\u001b[0m \u001b[0;32mas\u001b[0m \u001b[0mf\u001b[0m\u001b[0;34m:\u001b[0m\u001b[0;34m\u001b[0m\u001b[0m\n\u001b[0m\u001b[1;32m    413\u001b[0m                 \u001b[0mself\u001b[0m\u001b[0;34m.\u001b[0m\u001b[0mdata\u001b[0m \u001b[0;34m=\u001b[0m \u001b[0mf\u001b[0m\u001b[0;34m.\u001b[0m\u001b[0mread\u001b[0m\u001b[0;34m(\u001b[0m\u001b[0;34m)\u001b[0m\u001b[0;34m\u001b[0m\u001b[0m\n\u001b[1;32m    414\u001b[0m         \u001b[0;32melif\u001b[0m \u001b[0mself\u001b[0m\u001b[0;34m.\u001b[0m\u001b[0murl\u001b[0m \u001b[0;32mis\u001b[0m \u001b[0;32mnot\u001b[0m \u001b[0;32mNone\u001b[0m\u001b[0;34m:\u001b[0m\u001b[0;34m\u001b[0m\u001b[0m\n",
      "\u001b[0;31mFileNotFoundError\u001b[0m: [Errno 2] No such file or directory: './gbm_v1.png'"
     ]
    }
   ],
   "source": [
    "gbm_v1.download_mojo(mojo_file_name);\n",
    "generateTree(h2o_jar_path, mojo_file_name, gv_file_path, image_file_path, 0)\n",
    "displayTreeImage(gv_file_path, image_file_path)\n",
    "Image(filename=image_file_path)"
   ]
  },
  {
   "cell_type": "markdown",
   "metadata": {},
   "source": [
    "The tree shows us that the first split is on `int_rate` but throughout the tree it continually splits on `C1`.  It splits on `C1` a total of 13 times in the first tree. The tree only splits on the predictor `int_rate` (which is known to be correlated with `bad_loan`) 9 times."
   ]
  },
  {
   "cell_type": "markdown",
   "metadata": {},
   "source": [
    "## Train Model without Random Categorical Predictor\n",
    "\n",
    "We will train the same GBM model, this time without the random categorical column."
   ]
  },
  {
   "cell_type": "code",
   "execution_count": null,
   "metadata": {},
   "outputs": [],
   "source": [
    "# Train GBM without Random Categorical\n",
    "new_predictors = list(set(predictors) - set([\"C1\"]))\n",
    "\n",
    "gbm_v2 = H2OGradientBoostingEstimator(model_id = \"gbm_v2.hex\",\n",
    "                                      score_tree_interval = 10, ntrees = 500,\n",
    "                                      ## early stopping once the validation AUC doesn't improve by at least 0.1% \n",
    "                                      ## for 5 consecutive scoring events\n",
    "                                      stopping_rounds = 5, stopping_metric = \"AUC\", stopping_tolerance = 0.001\n",
    "                                     )\n",
    "gbm_v2.train(x = new_predictors, y = response, \n",
    "             training_frame = train, validation_frame = test)"
   ]
  },
  {
   "cell_type": "code",
   "execution_count": null,
   "metadata": {},
   "outputs": [],
   "source": [
    "# Get AUC\n",
    "print(\"V1 Validation AUC: \" + str(round(gbm_v1.auc(valid = True), 3)))\n",
    "print(\"V2 Validation AUC: \" + str(round(gbm_v2.auc(valid = True), 3)))"
   ]
  },
  {
   "cell_type": "markdown",
   "metadata": {},
   "source": [
    "Our AUC has jumped by 0.4 just by removing this column.\n",
    "\n",
    "Let's visualize the first tree of our new GBM model."
   ]
  },
  {
   "cell_type": "code",
   "execution_count": null,
   "metadata": {
    "collapsed": true
   },
   "outputs": [],
   "source": [
    "mojo_file_name = \"./gbm_v2.zip\"\n",
    "gv_file_path = \"./gbm_v2.gv\"\n",
    "image_file_path = \"./gbm_v2.png\""
   ]
  },
  {
   "cell_type": "code",
   "execution_count": null,
   "metadata": {},
   "outputs": [],
   "source": [
    "gbm_v2.download_mojo(mojo_file_name);\n",
    "generateTree(h2o_jar_path, mojo_file_name, gv_file_path, image_file_path, 0)\n",
    "displayTreeImage(gv_file_path, image_file_path)\n",
    "Image(filename=image_file_path)"
   ]
  },
  {
   "cell_type": "markdown",
   "metadata": {},
   "source": [
    "Now the predictors: `int_rate` and `annual_inc` dominate the tree.\n",
    "\n",
    "## Analyzing the Effect of Cardinality on Variable Importance\n",
    "\n",
    "We can hypothesize that our random categorical column had high variable importance because of the high number of levels (500).  The GBM model could have used this model to start memorizing the training data.  \n",
    "\n",
    "Below we will analyze the relative variable importance of random categorical columns with different cardinality."
   ]
  },
  {
   "cell_type": "code",
   "execution_count": null,
   "metadata": {
    "collapsed": true
   },
   "outputs": [],
   "source": [
    "def VarimpByCardinality(data, cardinality, response):\n",
    "    \n",
    "    random_cat = h2o.create_frame(rows = data.nrow, cols = 1, \n",
    "                                  binary_fraction = 0, time_fraction = 0, integer_fraction = 0, string_fraction = 0,\n",
    "                                  categorical_fraction = 1, factors = cardinality, \n",
    "                                  has_response = False, seed = 1234\n",
    "                             )\n",
    "    \n",
    "    data = data.cbind(random_cat)\n",
    "    \n",
    "    train, test = data.split_frame(seed = 1234)\n",
    "    \n",
    "    predictors = list(set(train.col_names) - set([response]))\n",
    "    \n",
    "    gbm = H2OGradientBoostingEstimator(model_id = \"gbm.hex\",\n",
    "                                       score_tree_interval = 10, ntrees = 500,\n",
    "                                       ## early stopping once the validation AUC doesn't improve by at least 0.1% \n",
    "                                       ## for 5 consecutive scoring events\n",
    "                                       stopping_rounds = 5, stopping_metric = \"AUC\", stopping_tolerance = 0.001\n",
    "                                      )\n",
    "    \n",
    "    gbm.train(x = predictors, y = response, training_frame = train, validation_frame = test)\n",
    "    \n",
    "    varimp = gbm.varimp(use_pandas = True)\n",
    "    random_varimp = varimp[varimp[\"variable\"] == \"C1\"][\"relative_importance\"].min()\n",
    "    \n",
    "    return random_varimp"
   ]
  },
  {
   "cell_type": "code",
   "execution_count": null,
   "metadata": {},
   "outputs": [],
   "source": [
    "cardinalities = [2, 5, 10, 20, 50, 100, 200, 300, 400, 500, 600, 700, 800, 900, 1000]\n",
    "varimp = []\n",
    "h2o.no_progress()\n",
    "\n",
    "for i in cardinalities:\n",
    "    varimp = varimp + [VarimpByCardinality(df, i, \"bad_loan\")]"
   ]
  },
  {
   "cell_type": "code",
   "execution_count": null,
   "metadata": {},
   "outputs": [],
   "source": [
    "import matplotlib.pyplot as plt\n",
    "\n",
    "plt.plot(cardinalities, varimp)\n",
    "plt.xlabel('cardinality') \n",
    "plt.ylabel('relative importance')\n",
    "plt.show()"
   ]
  },
  {
   "cell_type": "markdown",
   "metadata": {
    "collapsed": true
   },
   "source": [
    "The graph above shows us that the greater the cardinality of the random categorical column, the more important it becomes. This shows that the more unique values in the categorical column, the more times the GBM splits on it.\n",
    "\n",
    "## Grid Search \n",
    "\n",
    "We can use grid search to find the optimal parameters of our GBM model.  Two important parameters to tune when dealing with categorical columns are: \n",
    "\n",
    "* `categorical_encoding`: encoding scheme for categorical features\n",
    "    * http://docs.h2o.ai/h2o/latest-stable/h2o-docs/data-science/algo-params/categorical_encoding.html\n",
    "* `nbins_cats`: build a histogram of this many bins, then split at the best point\n",
    "    * http://docs.h2o.ai/h2o/latest-stable/h2o-docs/data-science/algo-params/nbins_cats.html\n",
    "    \n",
    "We will run a random grid search trying to find the optimal `nbins_cats` and `categorical_encoding`."
   ]
  },
  {
   "cell_type": "code",
   "execution_count": null,
   "metadata": {},
   "outputs": [],
   "source": [
    "from h2o.grid import H2OGridSearch\n",
    "\n",
    "hyper_params = hyper_params = {\n",
    "    ## search for the best categorical encoding\n",
    "    'categorical_encoding':[\"Enum\", \"OneHotExplicit\", \"Binary\", \"Eigen\", \"LabelEncoder\", \n",
    "                            \"SortByResponse\", \"EnumLimited\"],\n",
    "    \n",
    "    ## search a large space of the number of bins for split-finding for categorical columns\n",
    "    'nbins_cats':[16, 32, 64, 128]\n",
    "}\n",
    "\n",
    "search_criteria = {\n",
    "    ## Random grid search\n",
    "    'strategy':\"RandomDiscrete\",      \n",
    "    \n",
    "    ## limit the runtime to 60 minutes\n",
    "    'max_runtime_secs':3600,         \n",
    "    \n",
    "    ## build no more than 15 models for example purposes\n",
    "    'max_models':15,                  \n",
    "  \n",
    "    ## random number generator seed to make sampling of parameter combinations reproducible\n",
    "    'seed':1234,                        \n",
    "  \n",
    "    # early stopping once the leaderboard of the top 5 models is converged to 0.1% relative difference\n",
    "    'stopping_rounds':5, 'stopping_metric':\"AUC\", 'stopping_tolerance':1e-3\n",
    "}"
   ]
  },
  {
   "cell_type": "code",
   "execution_count": null,
   "metadata": {},
   "outputs": [],
   "source": [
    "gbm_model = H2OGradientBoostingEstimator(\n",
    "    ntrees = 500,              \n",
    "    \n",
    "    ## early stopping once the validation AUC doesn't improve by at least 0.1% for 5 consecutive scoring events\n",
    "    stopping_rounds = 5, stopping_tolerance = 0.001, stopping_metric = \"AUC\", \n",
    "  \n",
    "    ## score every 10 trees to make early stopping reproducible (it depends on the scoring interval)\n",
    "    score_tree_interval = 10,                                                \n",
    "  \n",
    "    ## base random number generator seed for each model (automatically gets incremented internally for each model)\n",
    "    seed = 1234     \n",
    ")\n",
    "\n",
    "gbm_grid = H2OGridSearch(grid_id=\"grid.hex\", hyper_params=hyper_params, \n",
    "                         model=gbm_model, search_criteria=search_criteria)\n",
    "\n",
    "gbm_grid.train(x = predictors, y = response, training_frame=train, validation_frame=test)"
   ]
  },
  {
   "cell_type": "code",
   "execution_count": null,
   "metadata": {},
   "outputs": [],
   "source": [
    "sorted_grid = gbm_grid.get_grid(sort_by=\"auc\", decreasing=True)\n",
    "sorted_grid"
   ]
  },
  {
   "cell_type": "markdown",
   "metadata": {},
   "source": [
    "The grid search summary shows us that the two models with the highest validation AUC were those with small `nbins_cats`.  The two best models have `nbins_cats` = 16 and where the `categorical_encoding` is Enum or EnumLimited. EnumLimited automatically reduces categorical levels to the most prevalent ones during training and only keep the `T` most frequent levels. \n",
    "\n",
    "The best grid search model has similar AUC to our GBM model trained without the random categorical.  When we examine the variable importance, we can see that `C1` is no longer in the top features."
   ]
  },
  {
   "cell_type": "code",
   "execution_count": null,
   "metadata": {},
   "outputs": [],
   "source": [
    "best_model = sorted_grid.models[0]\n",
    "\n",
    "print(\"V1 Validation AUC: \" + str(round(gbm_v1.auc(valid = True), 3)))\n",
    "print(\"V2 Validation AUC: \" + str(round(gbm_v2.auc(valid = True), 3)))\n",
    "print(\"Best Validation AUC Grid Search: \" + str(round(best_model.auc(valid = True), 3)))"
   ]
  },
  {
   "cell_type": "code",
   "execution_count": null,
   "metadata": {},
   "outputs": [],
   "source": [
    "best_model.varimp_plot()"
   ]
  },
  {
   "cell_type": "code",
   "execution_count": null,
   "metadata": {},
   "outputs": [],
   "source": [
    "h2o.cluster().shutdown()"
   ]
  }
 ],
 "metadata": {
  "kernelspec": {
   "display_name": "Python 3",
   "language": "python",
   "name": "python3"
  },
  "language_info": {
   "codemirror_mode": {
    "name": "ipython",
    "version": 3
   },
   "file_extension": ".py",
   "mimetype": "text/x-python",
   "name": "python",
   "nbconvert_exporter": "python",
   "pygments_lexer": "ipython3",
   "version": "3.6.5"
  }
 },
 "nbformat": 4,
 "nbformat_minor": 2
}
