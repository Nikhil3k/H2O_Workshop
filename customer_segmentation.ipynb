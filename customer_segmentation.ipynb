{
 "cells": [
  {
   "cell_type": "markdown",
   "metadata": {},
   "source": [
    "# Segmentation Best Practices\n",
    "\n",
    "In this notebook, we will walk through how to use H2O-3 to find natural segments in a dataset. We will walk through two methods for clustering:\n",
    "\n",
    "- using k-means to find natural segments in the data\n",
    "- using GLRM to create column and row archetypes\n",
    "- using GLRM to remove correlated columns and using k-means to cluster that data (this removes the effect of correlated variables in clustering)"
   ]
  },
  {
   "cell_type": "markdown",
   "metadata": {},
   "source": [
    "## Import and Explore Data\n",
    "\n",
    "We begin by importing our wholesale customer data.  This annual spending on different types of grocery products. The dataset description can be found here: https://archive.ics.uci.edu/ml/datasets/wholesale+customers"
   ]
  },
  {
   "cell_type": "code",
   "execution_count": 1,
   "metadata": {
    "collapsed": true
   },
   "outputs": [],
   "source": [
    "import h2o\n",
    "from h2o.automl import H2OAutoML\n",
    "import random, os, sys\n",
    "from datetime import datetime\n",
    "import pandas as pd\n",
    "import logging\n",
    "import csv\n",
    "import optparse\n",
    "import time\n",
    "import json\n",
    "from distutils.util import strtobool\n",
    "import psutil\n",
    "import numpy as np"
   ]
  },
  {
   "cell_type": "code",
   "execution_count": 2,
   "metadata": {},
   "outputs": [
    {
     "name": "stdout",
     "output_type": "stream",
     "text": [
      "3\n"
     ]
    }
   ],
   "source": [
    "pct_memory=0.5\n",
    "virtual_memory=psutil.virtual_memory()\n",
    "min_mem_size=int(round(int(pct_memory*virtual_memory.available)/1073741824,0))\n",
    "print(min_mem_size)"
   ]
  },
  {
   "cell_type": "code",
   "execution_count": 3,
   "metadata": {},
   "outputs": [
    {
     "name": "stdout",
     "output_type": "stream",
     "text": [
      "Checking whether there is an H2O instance running at http://localhost:32479..... not found.\n",
      "Attempting to start a local H2O server...\n",
      "  Java Version: openjdk version \"1.8.0_121\"; OpenJDK Runtime Environment (Zulu 8.20.0.5-macosx) (build 1.8.0_121-b15); OpenJDK 64-Bit Server VM (Zulu 8.20.0.5-macosx) (build 25.121-b15, mixed mode)\n",
      "  Starting server from /Users/bear/anaconda/lib/python3.6/site-packages/h2o/backend/bin/h2o.jar\n",
      "  Ice root: /var/folders/lh/42j8mfjx069d1bkc2wlf2pw40000gn/T/tmpa0ph7jeg\n",
      "  JVM stdout: /var/folders/lh/42j8mfjx069d1bkc2wlf2pw40000gn/T/tmpa0ph7jeg/h2o_bear_started_from_python.out\n",
      "  JVM stderr: /var/folders/lh/42j8mfjx069d1bkc2wlf2pw40000gn/T/tmpa0ph7jeg/h2o_bear_started_from_python.err\n",
      "  Server is running at http://127.0.0.1:32479\n",
      "Connecting to H2O server at http://127.0.0.1:32479... successful.\n"
     ]
    },
    {
     "data": {
      "text/html": [
       "<div style=\"overflow:auto\"><table style=\"width:50%\"><tr><td>H2O cluster uptime:</td>\n",
       "<td>01 secs</td></tr>\n",
       "<tr><td>H2O cluster timezone:</td>\n",
       "<td>America/New_York</td></tr>\n",
       "<tr><td>H2O data parsing timezone:</td>\n",
       "<td>UTC</td></tr>\n",
       "<tr><td>H2O cluster version:</td>\n",
       "<td>3.22.1.3</td></tr>\n",
       "<tr><td>H2O cluster version age:</td>\n",
       "<td>14 days, 4 hours and 18 minutes </td></tr>\n",
       "<tr><td>H2O cluster name:</td>\n",
       "<td>H2O_from_python_bear_e4cztd</td></tr>\n",
       "<tr><td>H2O cluster total nodes:</td>\n",
       "<td>1</td></tr>\n",
       "<tr><td>H2O cluster free memory:</td>\n",
       "<td>3.556 Gb</td></tr>\n",
       "<tr><td>H2O cluster total cores:</td>\n",
       "<td>8</td></tr>\n",
       "<tr><td>H2O cluster allowed cores:</td>\n",
       "<td>8</td></tr>\n",
       "<tr><td>H2O cluster status:</td>\n",
       "<td>accepting new members, healthy</td></tr>\n",
       "<tr><td>H2O connection url:</td>\n",
       "<td>http://127.0.0.1:32479</td></tr>\n",
       "<tr><td>H2O connection proxy:</td>\n",
       "<td>None</td></tr>\n",
       "<tr><td>H2O internal security:</td>\n",
       "<td>False</td></tr>\n",
       "<tr><td>H2O API Extensions:</td>\n",
       "<td>XGBoost, Algos, AutoML, Core V3, Core V4</td></tr>\n",
       "<tr><td>Python version:</td>\n",
       "<td>3.6.5 final</td></tr></table></div>"
      ],
      "text/plain": [
       "--------------------------  ----------------------------------------\n",
       "H2O cluster uptime:         01 secs\n",
       "H2O cluster timezone:       America/New_York\n",
       "H2O data parsing timezone:  UTC\n",
       "H2O cluster version:        3.22.1.3\n",
       "H2O cluster version age:    14 days, 4 hours and 18 minutes\n",
       "H2O cluster name:           H2O_from_python_bear_e4cztd\n",
       "H2O cluster total nodes:    1\n",
       "H2O cluster free memory:    3.556 Gb\n",
       "H2O cluster total cores:    8\n",
       "H2O cluster allowed cores:  8\n",
       "H2O cluster status:         accepting new members, healthy\n",
       "H2O connection url:         http://127.0.0.1:32479\n",
       "H2O connection proxy:\n",
       "H2O internal security:      False\n",
       "H2O API Extensions:         XGBoost, Algos, AutoML, Core V3, Core V4\n",
       "Python version:             3.6.5 final\n",
       "--------------------------  ----------------------------------------"
      ]
     },
     "metadata": {},
     "output_type": "display_data"
    }
   ],
   "source": [
    "# 65535 Highest port no\n",
    "port_no=random.randint(5555,55555)\n",
    "h2o.init(strict_version_check=False,min_mem_size_GB=min_mem_size,port=port_no) # start h2o\n"
   ]
  },
  {
   "cell_type": "code",
   "execution_count": 4,
   "metadata": {
    "scrolled": true
   },
   "outputs": [
    {
     "name": "stdout",
     "output_type": "stream",
     "text": [
      "Parse progress: |█████████████████████████████████████████████████████████| 100%\n"
     ]
    }
   ],
   "source": [
    "hf_customers = h2o.import_file(\"data/WholesaleCustomersData.csv\")"
   ]
  },
  {
   "cell_type": "code",
   "execution_count": 5,
   "metadata": {},
   "outputs": [
    {
     "name": "stdout",
     "output_type": "stream",
     "text": [
      "Rows:440\n",
      "Cols:8\n",
      "\n",
      "\n"
     ]
    },
    {
     "data": {
      "text/html": [
       "<table>\n",
       "<thead>\n",
       "<tr><th>       </th><th>Channel           </th><th>Region            </th><th>Fresh             </th><th>Milk             </th><th>Grocery          </th><th>Frozen           </th><th>Detergents_Paper  </th><th>Delicassen        </th></tr>\n",
       "</thead>\n",
       "<tbody>\n",
       "<tr><td>type   </td><td>int               </td><td>int               </td><td>int               </td><td>int              </td><td>int              </td><td>int              </td><td>int               </td><td>int               </td></tr>\n",
       "<tr><td>mins   </td><td>1.0               </td><td>1.0               </td><td>3.0               </td><td>55.0             </td><td>3.0              </td><td>25.0             </td><td>3.0               </td><td>3.0               </td></tr>\n",
       "<tr><td>mean   </td><td>1.3227272727272712</td><td>2.543181818181819 </td><td>12000.297727272731</td><td>5796.265909090916</td><td>7951.277272727275</td><td>3071.931818181817</td><td>2881.49318181818  </td><td>1524.8704545454532</td></tr>\n",
       "<tr><td>maxs   </td><td>2.0               </td><td>3.0               </td><td>112151.0          </td><td>73498.0          </td><td>92780.0          </td><td>60869.0          </td><td>40827.0           </td><td>47943.0           </td></tr>\n",
       "<tr><td>sigma  </td><td>0.4680515694791137</td><td>0.7742724492301002</td><td>12647.328865076885</td><td>7380.377174570845</td><td>9503.162828994346</td><td>4854.673332592367</td><td>4767.854447904201 </td><td>2820.1059373693965</td></tr>\n",
       "<tr><td>zeros  </td><td>0                 </td><td>0                 </td><td>0                 </td><td>0                </td><td>0                </td><td>0                </td><td>0                 </td><td>0                 </td></tr>\n",
       "<tr><td>missing</td><td>0                 </td><td>0                 </td><td>0                 </td><td>0                </td><td>0                </td><td>0                </td><td>0                 </td><td>0                 </td></tr>\n",
       "<tr><td>0      </td><td>2.0               </td><td>3.0               </td><td>12669.0           </td><td>9656.0           </td><td>7561.0           </td><td>214.0            </td><td>2674.0            </td><td>1338.0            </td></tr>\n",
       "<tr><td>1      </td><td>2.0               </td><td>3.0               </td><td>7057.0            </td><td>9810.0           </td><td>9568.0           </td><td>1762.0           </td><td>3293.0            </td><td>1776.0            </td></tr>\n",
       "<tr><td>2      </td><td>2.0               </td><td>3.0               </td><td>6353.0            </td><td>8808.0           </td><td>7684.0           </td><td>2405.0           </td><td>3516.0            </td><td>7844.0            </td></tr>\n",
       "<tr><td>3      </td><td>1.0               </td><td>3.0               </td><td>13265.0           </td><td>1196.0           </td><td>4221.0           </td><td>6404.0           </td><td>507.0             </td><td>1788.0            </td></tr>\n",
       "<tr><td>4      </td><td>2.0               </td><td>3.0               </td><td>22615.0           </td><td>5410.0           </td><td>7198.0           </td><td>3915.0           </td><td>1777.0            </td><td>5185.0            </td></tr>\n",
       "<tr><td>5      </td><td>2.0               </td><td>3.0               </td><td>9413.0            </td><td>8259.0           </td><td>5126.0           </td><td>666.0            </td><td>1795.0            </td><td>1451.0            </td></tr>\n",
       "<tr><td>6      </td><td>2.0               </td><td>3.0               </td><td>12126.0           </td><td>3199.0           </td><td>6975.0           </td><td>480.0            </td><td>3140.0            </td><td>545.0             </td></tr>\n",
       "<tr><td>7      </td><td>2.0               </td><td>3.0               </td><td>7579.0            </td><td>4956.0           </td><td>9426.0           </td><td>1669.0           </td><td>3321.0            </td><td>2566.0            </td></tr>\n",
       "<tr><td>8      </td><td>1.0               </td><td>3.0               </td><td>5963.0            </td><td>3648.0           </td><td>6192.0           </td><td>425.0            </td><td>1716.0            </td><td>750.0             </td></tr>\n",
       "<tr><td>9      </td><td>2.0               </td><td>3.0               </td><td>6006.0            </td><td>11093.0          </td><td>18881.0          </td><td>1159.0           </td><td>7425.0            </td><td>2098.0            </td></tr>\n",
       "</tbody>\n",
       "</table>"
      ]
     },
     "metadata": {},
     "output_type": "display_data"
    }
   ],
   "source": [
    "hf_customers.describe()"
   ]
  },
  {
   "cell_type": "markdown",
   "metadata": {},
   "source": [
    "The columns `Channel` and `Region` are encoded with ID's.  We will replace this with readable values."
   ]
  },
  {
   "cell_type": "code",
   "execution_count": 6,
   "metadata": {},
   "outputs": [],
   "source": [
    "# Replace Channel with values\n",
    "hf_customers[\"Channel\"] = (hf_customers[\"Channel\"] == 1).ifelse(\"Hotel/Restaurant\", \"Retail\")"
   ]
  },
  {
   "cell_type": "code",
   "execution_count": 7,
   "metadata": {},
   "outputs": [],
   "source": [
    "# Replace Region with values\n",
    "hf_customers[\"Region\"] = (hf_customers[\"Region\"] == 1).ifelse(\"Lisbon\", \n",
    "                                                              (hf_customers[\"Region\"] == 2).ifelse(\"Oporto\", \"Other\"))"
   ]
  },
  {
   "cell_type": "code",
   "execution_count": 8,
   "metadata": {},
   "outputs": [
    {
     "data": {
      "text/html": [
       "<table>\n",
       "<thead>\n",
       "<tr><th>Channel         </th><th>Region  </th><th style=\"text-align: right;\">  Fresh</th><th style=\"text-align: right;\">  Milk</th><th style=\"text-align: right;\">  Grocery</th><th style=\"text-align: right;\">  Frozen</th><th style=\"text-align: right;\">  Detergents_Paper</th><th style=\"text-align: right;\">  Delicassen</th></tr>\n",
       "</thead>\n",
       "<tbody>\n",
       "<tr><td>Retail          </td><td>Other   </td><td style=\"text-align: right;\">  12669</td><td style=\"text-align: right;\">  9656</td><td style=\"text-align: right;\">     7561</td><td style=\"text-align: right;\">     214</td><td style=\"text-align: right;\">              2674</td><td style=\"text-align: right;\">        1338</td></tr>\n",
       "<tr><td>Retail          </td><td>Other   </td><td style=\"text-align: right;\">   7057</td><td style=\"text-align: right;\">  9810</td><td style=\"text-align: right;\">     9568</td><td style=\"text-align: right;\">    1762</td><td style=\"text-align: right;\">              3293</td><td style=\"text-align: right;\">        1776</td></tr>\n",
       "<tr><td>Retail          </td><td>Other   </td><td style=\"text-align: right;\">   6353</td><td style=\"text-align: right;\">  8808</td><td style=\"text-align: right;\">     7684</td><td style=\"text-align: right;\">    2405</td><td style=\"text-align: right;\">              3516</td><td style=\"text-align: right;\">        7844</td></tr>\n",
       "<tr><td>Hotel/Restaurant</td><td>Other   </td><td style=\"text-align: right;\">  13265</td><td style=\"text-align: right;\">  1196</td><td style=\"text-align: right;\">     4221</td><td style=\"text-align: right;\">    6404</td><td style=\"text-align: right;\">               507</td><td style=\"text-align: right;\">        1788</td></tr>\n",
       "<tr><td>Retail          </td><td>Other   </td><td style=\"text-align: right;\">  22615</td><td style=\"text-align: right;\">  5410</td><td style=\"text-align: right;\">     7198</td><td style=\"text-align: right;\">    3915</td><td style=\"text-align: right;\">              1777</td><td style=\"text-align: right;\">        5185</td></tr>\n",
       "<tr><td>Retail          </td><td>Other   </td><td style=\"text-align: right;\">   9413</td><td style=\"text-align: right;\">  8259</td><td style=\"text-align: right;\">     5126</td><td style=\"text-align: right;\">     666</td><td style=\"text-align: right;\">              1795</td><td style=\"text-align: right;\">        1451</td></tr>\n",
       "<tr><td>Retail          </td><td>Other   </td><td style=\"text-align: right;\">  12126</td><td style=\"text-align: right;\">  3199</td><td style=\"text-align: right;\">     6975</td><td style=\"text-align: right;\">     480</td><td style=\"text-align: right;\">              3140</td><td style=\"text-align: right;\">         545</td></tr>\n",
       "<tr><td>Retail          </td><td>Other   </td><td style=\"text-align: right;\">   7579</td><td style=\"text-align: right;\">  4956</td><td style=\"text-align: right;\">     9426</td><td style=\"text-align: right;\">    1669</td><td style=\"text-align: right;\">              3321</td><td style=\"text-align: right;\">        2566</td></tr>\n",
       "<tr><td>Hotel/Restaurant</td><td>Other   </td><td style=\"text-align: right;\">   5963</td><td style=\"text-align: right;\">  3648</td><td style=\"text-align: right;\">     6192</td><td style=\"text-align: right;\">     425</td><td style=\"text-align: right;\">              1716</td><td style=\"text-align: right;\">         750</td></tr>\n",
       "<tr><td>Retail          </td><td>Other   </td><td style=\"text-align: right;\">   6006</td><td style=\"text-align: right;\"> 11093</td><td style=\"text-align: right;\">    18881</td><td style=\"text-align: right;\">    1159</td><td style=\"text-align: right;\">              7425</td><td style=\"text-align: right;\">        2098</td></tr>\n",
       "</tbody>\n",
       "</table>"
      ]
     },
     "metadata": {},
     "output_type": "display_data"
    },
    {
     "data": {
      "text/plain": []
     },
     "execution_count": 8,
     "metadata": {},
     "output_type": "execute_result"
    }
   ],
   "source": [
    "hf_customers.head()"
   ]
  },
  {
   "cell_type": "markdown",
   "metadata": {},
   "source": [
    "We can calculate the correlation of the data to get a better understanding of our customers."
   ]
  },
  {
   "cell_type": "code",
   "execution_count": 9,
   "metadata": {},
   "outputs": [
    {
     "name": "stdout",
     "output_type": "stream",
     "text": [
      "Parse progress: |█████████████████████████████████████████████████████████| 100%\n"
     ]
    },
    {
     "data": {
      "text/html": [
       "<table>\n",
       "<thead>\n",
       "<tr><th>C1              </th><th style=\"text-align: right;\">    Channel</th><th style=\"text-align: right;\">  Region</th><th style=\"text-align: right;\">      Fresh</th><th style=\"text-align: right;\">      Milk</th><th style=\"text-align: right;\">    Grocery</th><th style=\"text-align: right;\">     Frozen</th><th style=\"text-align: right;\">  Detergents_Paper</th><th style=\"text-align: right;\">  Delicassen</th></tr>\n",
       "</thead>\n",
       "<tbody>\n",
       "<tr><td>Channel         </td><td style=\"text-align: right;\">  1        </td><td style=\"text-align: right;\">     nan</td><td style=\"text-align: right;\">  0.169172 </td><td style=\"text-align: right;\"> -0.46072 </td><td style=\"text-align: right;\"> -0.608792 </td><td style=\"text-align: right;\">  0.202046 </td><td style=\"text-align: right;\">        -0.636026 </td><td style=\"text-align: right;\">  -0.0560114</td></tr>\n",
       "<tr><td>Region          </td><td style=\"text-align: right;\">nan        </td><td style=\"text-align: right;\">     nan</td><td style=\"text-align: right;\">nan        </td><td style=\"text-align: right;\">nan       </td><td style=\"text-align: right;\">nan        </td><td style=\"text-align: right;\">nan        </td><td style=\"text-align: right;\">       nan        </td><td style=\"text-align: right;\"> nan        </td></tr>\n",
       "<tr><td>Fresh           </td><td style=\"text-align: right;\">  0.169172 </td><td style=\"text-align: right;\">     nan</td><td style=\"text-align: right;\">  1        </td><td style=\"text-align: right;\">  0.10051 </td><td style=\"text-align: right;\"> -0.0118539</td><td style=\"text-align: right;\">  0.345881 </td><td style=\"text-align: right;\">        -0.101953 </td><td style=\"text-align: right;\">   0.24469  </td></tr>\n",
       "<tr><td>Milk            </td><td style=\"text-align: right;\"> -0.46072  </td><td style=\"text-align: right;\">     nan</td><td style=\"text-align: right;\">  0.10051  </td><td style=\"text-align: right;\">  1       </td><td style=\"text-align: right;\">  0.728335 </td><td style=\"text-align: right;\">  0.123994 </td><td style=\"text-align: right;\">         0.661816 </td><td style=\"text-align: right;\">   0.406368 </td></tr>\n",
       "<tr><td>Grocery         </td><td style=\"text-align: right;\"> -0.608792 </td><td style=\"text-align: right;\">     nan</td><td style=\"text-align: right;\"> -0.0118539</td><td style=\"text-align: right;\">  0.728335</td><td style=\"text-align: right;\">  1        </td><td style=\"text-align: right;\"> -0.0401927</td><td style=\"text-align: right;\">         0.924641 </td><td style=\"text-align: right;\">   0.205497 </td></tr>\n",
       "<tr><td>Frozen          </td><td style=\"text-align: right;\">  0.202046 </td><td style=\"text-align: right;\">     nan</td><td style=\"text-align: right;\">  0.345881 </td><td style=\"text-align: right;\">  0.123994</td><td style=\"text-align: right;\"> -0.0401927</td><td style=\"text-align: right;\">  1        </td><td style=\"text-align: right;\">        -0.131525 </td><td style=\"text-align: right;\">   0.390947 </td></tr>\n",
       "<tr><td>Detergents_Paper</td><td style=\"text-align: right;\"> -0.636026 </td><td style=\"text-align: right;\">     nan</td><td style=\"text-align: right;\"> -0.101953 </td><td style=\"text-align: right;\">  0.661816</td><td style=\"text-align: right;\">  0.924641 </td><td style=\"text-align: right;\"> -0.131525 </td><td style=\"text-align: right;\">         1        </td><td style=\"text-align: right;\">   0.0692913</td></tr>\n",
       "<tr><td>Delicassen      </td><td style=\"text-align: right;\"> -0.0560114</td><td style=\"text-align: right;\">     nan</td><td style=\"text-align: right;\">  0.24469  </td><td style=\"text-align: right;\">  0.406368</td><td style=\"text-align: right;\">  0.205497 </td><td style=\"text-align: right;\">  0.390947 </td><td style=\"text-align: right;\">         0.0692913</td><td style=\"text-align: right;\">   1        </td></tr>\n",
       "</tbody>\n",
       "</table>"
      ]
     },
     "metadata": {},
     "output_type": "display_data"
    },
    {
     "data": {
      "text/plain": []
     },
     "execution_count": 9,
     "metadata": {},
     "output_type": "execute_result"
    }
   ],
   "source": [
    "correlations = hf_customers.cor()\n",
    "correlations = h2o.H2OFrame(hf_customers.col_names).cbind(correlations)\n",
    "\n",
    "correlations"
   ]
  },
  {
   "cell_type": "code",
   "execution_count": 10,
   "metadata": {},
   "outputs": [
    {
     "data": {
      "text/html": [
       "<table>\n",
       "<thead>\n",
       "<tr><th>Channel         </th><th style=\"text-align: right;\">  mean_Grocery</th></tr>\n",
       "</thead>\n",
       "<tbody>\n",
       "<tr><td>Retail          </td><td style=\"text-align: right;\">      16322.9 </td></tr>\n",
       "<tr><td>Hotel/Restaurant</td><td style=\"text-align: right;\">       3962.14</td></tr>\n",
       "</tbody>\n",
       "</table>"
      ]
     },
     "metadata": {},
     "output_type": "display_data"
    },
    {
     "data": {
      "text/plain": []
     },
     "execution_count": 10,
     "metadata": {},
     "output_type": "execute_result"
    }
   ],
   "source": [
    "hf_customers.group_by(\"Channel\").mean(\"Grocery\").get_frame()"
   ]
  },
  {
   "cell_type": "markdown",
   "metadata": {},
   "source": [
    "The correlation matrix shows us that `Grocery`, `Milk`, and `Detergents_Paper` are all highly correlated.  We also see that there is a smaller correlation with purchasing `Fresh`, `Frozen`, and `Delicassen`.\n",
    "\n",
    "There is a 60% correlation between `Channel` and `Grocery` and a 63% correlation between `Channel` and `Detergents_Paper`.  The group-by below shows us that `Grocery` and `Detergents_Paper` are primarily purchased in the Retail channel and not in the Hotel/Restaurant channel."
   ]
  },
  {
   "cell_type": "code",
   "execution_count": 11,
   "metadata": {},
   "outputs": [
    {
     "data": {
      "text/html": [
       "<table>\n",
       "<thead>\n",
       "<tr><th>Channel         </th><th style=\"text-align: right;\">  mean_Grocery</th><th style=\"text-align: right;\">  mean_Detergents_Paper</th></tr>\n",
       "</thead>\n",
       "<tbody>\n",
       "<tr><td>Retail          </td><td style=\"text-align: right;\">      16322.9 </td><td style=\"text-align: right;\">                7269.51</td></tr>\n",
       "<tr><td>Hotel/Restaurant</td><td style=\"text-align: right;\">       3962.14</td><td style=\"text-align: right;\">                 790.56</td></tr>\n",
       "</tbody>\n",
       "</table>"
      ]
     },
     "metadata": {},
     "output_type": "display_data"
    },
    {
     "data": {
      "text/plain": []
     },
     "execution_count": 11,
     "metadata": {},
     "output_type": "execute_result"
    }
   ],
   "source": [
    "hf_customers.group_by(\"Channel\").mean(\"Grocery\").mean(\"Detergents_Paper\").get_frame()"
   ]
  },
  {
   "cell_type": "markdown",
   "metadata": {},
   "source": [
    "## Clustering with K-Means\n",
    "\n",
    "We will use K-Means to cluster the data.  We will let the K-Means model estimate the optimal number of clusters."
   ]
  },
  {
   "cell_type": "code",
   "execution_count": 12,
   "metadata": {},
   "outputs": [
    {
     "name": "stdout",
     "output_type": "stream",
     "text": [
      "kmeans Model Build progress: |████████████████████████████████████████████| 100%\n"
     ]
    }
   ],
   "source": [
    "from h2o.estimators.kmeans import H2OKMeansEstimator\n",
    "\n",
    "kmeans_default = H2OKMeansEstimator(estimate_k = True, # Let Kmeans chose the optimal number of clusters\n",
    "                                    k = 20, # Max number of clusters\n",
    "                                    model_id = \"kmeans_default.hex\")\n",
    "\n",
    "kmeans_default.train(training_frame = hf_customers)"
   ]
  },
  {
   "cell_type": "markdown",
   "metadata": {},
   "source": [
    "We have 8 clusters.  Most of the customers fall into the first 4 clusters."
   ]
  },
  {
   "cell_type": "code",
   "execution_count": 13,
   "metadata": {},
   "outputs": [
    {
     "name": "stdout",
     "output_type": "stream",
     "text": [
      "Centroid Statistics: \n"
     ]
    },
    {
     "data": {
      "text/html": [
       "<div style=\"overflow:auto\"><table style=\"width:50%\"><tr><td><b></b></td>\n",
       "<td><b>centroid</b></td>\n",
       "<td><b>size</b></td>\n",
       "<td><b>within_cluster_sum_of_squares</b></td></tr>\n",
       "<tr><td></td>\n",
       "<td>1.0</td>\n",
       "<td>220.0</td>\n",
       "<td>237.2697849</td></tr>\n",
       "<tr><td></td>\n",
       "<td>2.0</td>\n",
       "<td>109.0</td>\n",
       "<td>179.8460864</td></tr>\n",
       "<tr><td></td>\n",
       "<td>3.0</td>\n",
       "<td>29.0</td>\n",
       "<td>172.7302138</td></tr>\n",
       "<tr><td></td>\n",
       "<td>4.0</td>\n",
       "<td>71.0</td>\n",
       "<td>222.1209477</td></tr>\n",
       "<tr><td></td>\n",
       "<td>5.0</td>\n",
       "<td>1.0</td>\n",
       "<td>0.0000000</td></tr>\n",
       "<tr><td></td>\n",
       "<td>6.0</td>\n",
       "<td>4.0</td>\n",
       "<td>27.9634194</td></tr>\n",
       "<tr><td></td>\n",
       "<td>7.0</td>\n",
       "<td>4.0</td>\n",
       "<td>50.4986385</td></tr>\n",
       "<tr><td></td>\n",
       "<td>8.0</td>\n",
       "<td>2.0</td>\n",
       "<td>19.6456850</td></tr></table></div>"
      ],
      "text/plain": [
       "    centroid    size    within_cluster_sum_of_squares\n",
       "--  ----------  ------  -------------------------------\n",
       "    1           220     237.27\n",
       "    2           109     179.846\n",
       "    3           29      172.73\n",
       "    4           71      222.121\n",
       "    5           1       1.19884e-13\n",
       "    6           4       27.9634\n",
       "    7           4       50.4986\n",
       "    8           2       19.6457"
      ]
     },
     "metadata": {},
     "output_type": "display_data"
    },
    {
     "data": {
      "text/plain": []
     },
     "execution_count": 13,
     "metadata": {},
     "output_type": "execute_result"
    }
   ],
   "source": [
    "# View the centroids\n",
    "kmeans_default.centroid_stats()"
   ]
  },
  {
   "cell_type": "code",
   "execution_count": 14,
   "metadata": {},
   "outputs": [
    {
     "name": "stdout",
     "output_type": "stream",
     "text": [
      "kmeans prediction progress: |█████████████████████████████████████████████| 100%\n"
     ]
    }
   ],
   "source": [
    "# Add the cluster to the original frame\n",
    "cluster_id = kmeans_default.predict(hf_customers)\n",
    "cluster_id.col_names = [\"cluster_default\"]\n",
    "hf_customers_ext = hf_customers.cbind(cluster_id)"
   ]
  },
  {
   "cell_type": "code",
   "execution_count": 15,
   "metadata": {},
   "outputs": [
    {
     "data": {
      "text/html": [
       "<table>\n",
       "<thead>\n",
       "<tr><th>Channel         </th><th>Region  </th><th style=\"text-align: right;\">  Fresh</th><th style=\"text-align: right;\">  Milk</th><th style=\"text-align: right;\">  Grocery</th><th style=\"text-align: right;\">  Frozen</th><th style=\"text-align: right;\">  Detergents_Paper</th><th style=\"text-align: right;\">  Delicassen</th><th style=\"text-align: right;\">  cluster_default</th></tr>\n",
       "</thead>\n",
       "<tbody>\n",
       "<tr><td>Retail          </td><td>Other   </td><td style=\"text-align: right;\">  12669</td><td style=\"text-align: right;\">  9656</td><td style=\"text-align: right;\">     7561</td><td style=\"text-align: right;\">     214</td><td style=\"text-align: right;\">              2674</td><td style=\"text-align: right;\">        1338</td><td style=\"text-align: right;\">                1</td></tr>\n",
       "<tr><td>Retail          </td><td>Other   </td><td style=\"text-align: right;\">   7057</td><td style=\"text-align: right;\">  9810</td><td style=\"text-align: right;\">     9568</td><td style=\"text-align: right;\">    1762</td><td style=\"text-align: right;\">              3293</td><td style=\"text-align: right;\">        1776</td><td style=\"text-align: right;\">                1</td></tr>\n",
       "<tr><td>Retail          </td><td>Other   </td><td style=\"text-align: right;\">   6353</td><td style=\"text-align: right;\">  8808</td><td style=\"text-align: right;\">     7684</td><td style=\"text-align: right;\">    2405</td><td style=\"text-align: right;\">              3516</td><td style=\"text-align: right;\">        7844</td><td style=\"text-align: right;\">                1</td></tr>\n",
       "<tr><td>Hotel/Restaurant</td><td>Other   </td><td style=\"text-align: right;\">  13265</td><td style=\"text-align: right;\">  1196</td><td style=\"text-align: right;\">     4221</td><td style=\"text-align: right;\">    6404</td><td style=\"text-align: right;\">               507</td><td style=\"text-align: right;\">        1788</td><td style=\"text-align: right;\">                0</td></tr>\n",
       "<tr><td>Retail          </td><td>Other   </td><td style=\"text-align: right;\">  22615</td><td style=\"text-align: right;\">  5410</td><td style=\"text-align: right;\">     7198</td><td style=\"text-align: right;\">    3915</td><td style=\"text-align: right;\">              1777</td><td style=\"text-align: right;\">        5185</td><td style=\"text-align: right;\">                3</td></tr>\n",
       "<tr><td>Retail          </td><td>Other   </td><td style=\"text-align: right;\">   9413</td><td style=\"text-align: right;\">  8259</td><td style=\"text-align: right;\">     5126</td><td style=\"text-align: right;\">     666</td><td style=\"text-align: right;\">              1795</td><td style=\"text-align: right;\">        1451</td><td style=\"text-align: right;\">                1</td></tr>\n",
       "<tr><td>Retail          </td><td>Other   </td><td style=\"text-align: right;\">  12126</td><td style=\"text-align: right;\">  3199</td><td style=\"text-align: right;\">     6975</td><td style=\"text-align: right;\">     480</td><td style=\"text-align: right;\">              3140</td><td style=\"text-align: right;\">         545</td><td style=\"text-align: right;\">                1</td></tr>\n",
       "<tr><td>Retail          </td><td>Other   </td><td style=\"text-align: right;\">   7579</td><td style=\"text-align: right;\">  4956</td><td style=\"text-align: right;\">     9426</td><td style=\"text-align: right;\">    1669</td><td style=\"text-align: right;\">              3321</td><td style=\"text-align: right;\">        2566</td><td style=\"text-align: right;\">                1</td></tr>\n",
       "<tr><td>Hotel/Restaurant</td><td>Other   </td><td style=\"text-align: right;\">   5963</td><td style=\"text-align: right;\">  3648</td><td style=\"text-align: right;\">     6192</td><td style=\"text-align: right;\">     425</td><td style=\"text-align: right;\">              1716</td><td style=\"text-align: right;\">         750</td><td style=\"text-align: right;\">                0</td></tr>\n",
       "<tr><td>Retail          </td><td>Other   </td><td style=\"text-align: right;\">   6006</td><td style=\"text-align: right;\"> 11093</td><td style=\"text-align: right;\">    18881</td><td style=\"text-align: right;\">    1159</td><td style=\"text-align: right;\">              7425</td><td style=\"text-align: right;\">        2098</td><td style=\"text-align: right;\">                1</td></tr>\n",
       "</tbody>\n",
       "</table>"
      ]
     },
     "metadata": {},
     "output_type": "display_data"
    },
    {
     "data": {
      "text/plain": []
     },
     "execution_count": 15,
     "metadata": {},
     "output_type": "execute_result"
    }
   ],
   "source": [
    "hf_customers_ext.head()"
   ]
  },
  {
   "cell_type": "markdown",
   "metadata": {},
   "source": [
    "### Understanding the Clusters\n",
    "\n",
    "In order to understand the clusters, we can plot them by the different variables in our dataset."
   ]
  },
  {
   "cell_type": "code",
   "execution_count": 16,
   "metadata": {},
   "outputs": [],
   "source": [
    "# Convert H2O Frame to Pandas to use matplotlib\n",
    "customers_pd = hf_customers_ext.as_data_frame()"
   ]
  },
  {
   "cell_type": "code",
   "execution_count": 17,
   "metadata": {},
   "outputs": [
    {
     "data": {
      "text/plain": [
       "<matplotlib.legend.Legend at 0x11c47e978>"
      ]
     },
     "execution_count": 17,
     "metadata": {},
     "output_type": "execute_result"
    },
    {
     "data": {
      "image/png": "[encoded data removed]",
      "text/plain": [
       "<Figure size 432x288 with 1 Axes>"
      ]
     },
     "metadata": {},
     "output_type": "display_data"
    }
   ],
   "source": [
    "%matplotlib inline\n",
    "import matplotlib.pyplot as plt\n",
    "\n",
    "colors = ['blue', 'orange', 'green', 'red']\n",
    "\n",
    "for cluster, color in enumerate(colors):\n",
    "    cluster_data = customers_pd[customers_pd[\"cluster_default\"] == cluster]\n",
    "    plt.scatter(cluster_data[\"Grocery\"], cluster_data[\"Fresh\"], c=color, alpha = 0.5, label = cluster)\n",
    "\n",
    "plt.xlabel(\"Grocery\")\n",
    "plt.ylabel(\"Fresh\")\n",
    "plt.legend()"
   ]
  },
  {
   "cell_type": "markdown",
   "metadata": {},
   "source": [
    "From the graph, we can clearly identify the clusters from just two features: Grocery and Fresh.  \n",
    "\n",
    "| Cluster | Amount of Groceries | Amount of Fresh Products |\n",
    "|---------|---------------------|--------------------------|\n",
    "| 0 | Small | Small |\n",
    "| 1 | Medium | Small |\n",
    "| 2 | Large | Small |\n",
    "| 3 | Small | Large | \n",
    "\n",
    "\n",
    "Why is this happening even though we clustered on 8 columns? \n",
    "\n",
    "The reason is because `Grocery` is highly correlated with the other features like `Detergents_Paper`, `Milk`, and `Channel`.  If the amount of groceries someone buys is directly related to the amount of paper products and milk they purchase and the channel they purchase in, then it is almost like the `Grocery` feature has a weight of 4 in the clustering algorithm.  Now the amount of groceries a customer purchases is very important in the clusters.\n",
    "\n",
    "The box plot below shows the distribution of `Grocery` for each cluster.  The clusters are almost completely explainable by the one column."
   ]
  },
  {
   "cell_type": "code",
   "execution_count": 18,
   "metadata": {},
   "outputs": [
    {
     "name": "stderr",
     "output_type": "stream",
     "text": [
      "/Users/bear/anaconda/lib/python3.6/site-packages/numpy/core/fromnumeric.py:57: FutureWarning: reshape is deprecated and will raise in a subsequent release. Please use .values.reshape(...) instead\n",
      "  return getattr(obj, method)(*args, **kwds)\n"
     ]
    },
    {
     "data": {
      "text/plain": [
       "<matplotlib.axes._subplots.AxesSubplot at 0x11b91a518>"
      ]
     },
     "execution_count": 18,
     "metadata": {},
     "output_type": "execute_result"
    },
    {
     "data": {
      "image/png": "[encoded data removed]",
      "text/plain": [
       "<Figure size 432x288 with 1 Axes>"
      ]
     },
     "metadata": {},
     "output_type": "display_data"
    }
   ],
   "source": [
    "customers_pd.loc[customers_pd[\"cluster_default\"] < 4, [\"Grocery\", \"cluster_default\"]].boxplot(by='cluster_default')"
   ]
  },
  {
   "cell_type": "markdown",
   "metadata": {},
   "source": [
    "## Generalized Low Rank Modeling\n",
    "\n",
    "We can use low dimensionality techniques like Generalized Low Rank models to condense the features of the dataset and remove the correlations.  Below we will train a GLRM model on our customer data and reduce the number of dimensions to 2 so we can visualize the archetypes of the data in 2-dimensional graphs."
   ]
  },
  {
   "cell_type": "code",
   "execution_count": 19,
   "metadata": {},
   "outputs": [
    {
     "name": "stdout",
     "output_type": "stream",
     "text": [
      "glrm Model Build progress: |██████████████████████████████████████████████| 100%\n"
     ]
    }
   ],
   "source": [
    "from h2o.estimators.glrm import H2OGeneralizedLowRankEstimator\n",
    "\n",
    "# Run GLRM to reduce features to 2 attributes\n",
    "glrm_2_model = H2OGeneralizedLowRankEstimator(k = 2,\n",
    "                                             transform = \"STANDARDIZE\",\n",
    "                                             loss = \"Quadratic\",\n",
    "                                             regularization_x = \"L1\",\n",
    "                                             regularization_y = \"L1\",\n",
    "                                             gamma_x = 0.1,\n",
    "                                             gamma_y = 0.1,\n",
    "                                             seed = 1234,\n",
    "                                             model_id = \"glrm_2\")\n",
    "glrm_2_model.train(x = hf_customers.names, training_frame= hf_customers)"
   ]
  },
  {
   "cell_type": "markdown",
   "metadata": {},
   "source": [
    "### Interpreting Archetypes\n",
    "\n",
    "We will start by interpreting the feature archetypes.  Each feature is represented by a vector of length 2."
   ]
  },
  {
   "cell_type": "code",
   "execution_count": 20,
   "metadata": {},
   "outputs": [
    {
     "name": "stdout",
     "output_type": "stream",
     "text": [
      "Archetypes: \n"
     ]
    },
    {
     "data": {
      "text/html": [
       "<div style=\"overflow:auto\"><table style=\"width:50%\"><tr><td><b></b></td>\n",
       "<td><b>regionlisbon</b></td>\n",
       "<td><b>regionoporto</b></td>\n",
       "<td><b>regionother</b></td>\n",
       "<td><b>channelretail</b></td>\n",
       "<td><b>channelhotelrestaurant</b></td>\n",
       "<td><b>fresh</b></td>\n",
       "<td><b>milk</b></td>\n",
       "<td><b>grocery</b></td>\n",
       "<td><b>frozen</b></td>\n",
       "<td><b>detergents_paper</b></td>\n",
       "<td><b>delicassen</b></td></tr>\n",
       "<tr><td>Arch1</td>\n",
       "<td>-0.7161905</td>\n",
       "<td>-1.8101773</td>\n",
       "<td>0.7198309</td>\n",
       "<td>-3.4178960</td>\n",
       "<td>3.4178828</td>\n",
       "<td>0.1267454</td>\n",
       "<td>-1.5396457</td>\n",
       "<td>-1.7872226</td>\n",
       "<td>0.1510788</td>\n",
       "<td>-1.7840776</td>\n",
       "<td>-0.4684157</td></tr>\n",
       "<tr><td>Arch2</td>\n",
       "<td>-1.3290650</td>\n",
       "<td>-1.2798304</td>\n",
       "<td>1.3224241</td>\n",
       "<td>3.0791896</td>\n",
       "<td>-3.0792011</td>\n",
       "<td>0.0100947</td>\n",
       "<td>1.7342810</td>\n",
       "<td>1.9142572</td>\n",
       "<td>-0.0561190</td>\n",
       "<td>1.8675144</td>\n",
       "<td>0.6595436</td></tr></table></div>"
      ],
      "text/plain": [
       "       regionlisbon    regionoporto    regionother    channelretail    channelhotelrestaurant    fresh      milk      grocery    frozen     detergents_paper    delicassen\n",
       "-----  --------------  --------------  -------------  ---------------  ------------------------  ---------  --------  ---------  ---------  ------------------  ------------\n",
       "Arch1  -0.71619        -1.81018        0.719831       -3.4179          3.41788                   0.126745   -1.53965  -1.78722   0.151079   -1.78408            -0.468416\n",
       "Arch2  -1.32906        -1.27983        1.32242        3.07919          -3.0792                   0.0100947  1.73428   1.91426    -0.056119  1.86751             0.659544"
      ]
     },
     "metadata": {},
     "output_type": "display_data"
    },
    {
     "name": "stdout",
     "output_type": "stream",
     "text": [
      "\n"
     ]
    }
   ],
   "source": [
    "arch_feat_y = glrm_2_model._model_json[\"output\"][\"archetypes\"]\n",
    "print(arch_feat_y)"
   ]
  },
  {
   "cell_type": "code",
   "execution_count": 24,
   "metadata": {},
   "outputs": [
    {
     "name": "stdout",
     "output_type": "stream",
     "text": [
      "Archetypes: \n"
     ]
    },
    {
     "data": {
      "text/html": [
       "<div style=\"overflow:auto\"><table style=\"width:50%\"><tr><td><b></b></td>\n",
       "<td><b>regionlisbon</b></td>\n",
       "<td><b>regionoporto</b></td>\n",
       "<td><b>regionother</b></td>\n",
       "<td><b>channelretail</b></td>\n",
       "<td><b>channelhotelrestaurant</b></td>\n",
       "<td><b>fresh</b></td>\n",
       "<td><b>milk</b></td>\n",
       "<td><b>grocery</b></td>\n",
       "<td><b>frozen</b></td>\n",
       "<td><b>detergents_paper</b></td>\n",
       "<td><b>delicassen</b></td></tr>\n",
       "<tr><td>Arch1</td>\n",
       "<td>-0.7161905</td>\n",
       "<td>-1.8101773</td>\n",
       "<td>0.7198309</td>\n",
       "<td>-3.4178960</td>\n",
       "<td>3.4178828</td>\n",
       "<td>0.1267454</td>\n",
       "<td>-1.5396457</td>\n",
       "<td>-1.7872226</td>\n",
       "<td>0.1510788</td>\n",
       "<td>-1.7840776</td>\n",
       "<td>-0.4684157</td></tr>\n",
       "<tr><td>Arch2</td>\n",
       "<td>-1.3290650</td>\n",
       "<td>-1.2798304</td>\n",
       "<td>1.3224241</td>\n",
       "<td>3.0791896</td>\n",
       "<td>-3.0792011</td>\n",
       "<td>0.0100947</td>\n",
       "<td>1.7342810</td>\n",
       "<td>1.9142572</td>\n",
       "<td>-0.0561190</td>\n",
       "<td>1.8675144</td>\n",
       "<td>0.6595436</td></tr></table></div>"
      ],
      "text/plain": [
       "       regionlisbon    regionoporto    regionother    channelretail    channelhotelrestaurant    fresh      milk      grocery    frozen     detergents_paper    delicassen\n",
       "-----  --------------  --------------  -------------  ---------------  ------------------------  ---------  --------  ---------  ---------  ------------------  ------------\n",
       "Arch1  -0.71619        -1.81018        0.719831       -3.4179          3.41788                   0.126745   -1.53965  -1.78722   0.151079   -1.78408            -0.468416\n",
       "Arch2  -1.32906        -1.27983        1.32242        3.07919          -3.0792                   0.0100947  1.73428   1.91426    -0.056119  1.86751             0.659544"
      ]
     },
     "metadata": {},
     "output_type": "display_data"
    },
    {
     "name": "stdout",
     "output_type": "stream",
     "text": [
      "\n"
     ]
    }
   ],
   "source": [
    "print(arch_feat_y)"
   ]
  },
  {
   "cell_type": "markdown",
   "metadata": {},
   "source": [
    "The scatter plot below shows the two archetypes.  We can see that `grocery` and `detergents_paper` are very close together.  We can also see that the two channels are very far apart.  Depending on the channel, the customer will have a very different buying pattern.\n",
    "\n",
    "We can use the GLRM model to get a 2 dimensional representation of the original data."
   ]
  },
  {
   "cell_type": "code",
   "execution_count": 25,
   "metadata": {
    "scrolled": false
   },
   "outputs": [
    {
     "data": {
      "text/html": [
       "<table>\n",
       "<thead>\n",
       "<tr><th style=\"text-align: right;\">   Arch1</th><th style=\"text-align: right;\">   Arch2</th></tr>\n",
       "</thead>\n",
       "<tbody>\n",
       "<tr><td style=\"text-align: right;\">0.285449</td><td style=\"text-align: right;\">0.600976</td></tr>\n",
       "<tr><td style=\"text-align: right;\">0.260797</td><td style=\"text-align: right;\">0.614248</td></tr>\n",
       "<tr><td style=\"text-align: right;\">0.261014</td><td style=\"text-align: right;\">0.614426</td></tr>\n",
       "<tr><td style=\"text-align: right;\">0.686513</td><td style=\"text-align: right;\">0.382634</td></tr>\n",
       "<tr><td style=\"text-align: right;\">0.334414</td><td style=\"text-align: right;\">0.579385</td></tr>\n",
       "<tr><td style=\"text-align: right;\">0.353712</td><td style=\"text-align: right;\">0.563744</td></tr>\n",
       "<tr><td style=\"text-align: right;\">0.380212</td><td style=\"text-align: right;\">0.549291</td></tr>\n",
       "<tr><td style=\"text-align: right;\">0.297055</td><td style=\"text-align: right;\">0.594615</td></tr>\n",
       "<tr><td style=\"text-align: right;\">0.678479</td><td style=\"text-align: right;\">0.428223</td></tr>\n",
       "<tr><td style=\"text-align: right;\">0.184505</td><td style=\"text-align: right;\">0.670446</td></tr>\n",
       "</tbody>\n",
       "</table>"
      ]
     },
     "metadata": {},
     "output_type": "display_data"
    },
    {
     "data": {
      "text/plain": []
     },
     "execution_count": 25,
     "metadata": {},
     "output_type": "execute_result"
    }
   ],
   "source": [
    "# Get Low Dimensional Data\n",
    "glrm_arch_x = h2o.get_frame(glrm_2_model._model_json[\"output\"][\"representation_name\"])\n",
    "glrm_arch_x.head()"
   ]
  },
  {
   "cell_type": "markdown",
   "metadata": {},
   "source": [
    "Plotting the first two archetypes of the customers shows that there are two natural segments occurring."
   ]
  },
  {
   "cell_type": "code",
   "execution_count": 26,
   "metadata": {},
   "outputs": [
    {
     "data": {
      "text/plain": [
       "Text(0,0.5,'Arch2')"
      ]
     },
     "execution_count": 26,
     "metadata": {},
     "output_type": "execute_result"
    },
    {
     "data": {
      "image/png": "[encoded data removed]",
      "text/plain": [
       "<Figure size 432x288 with 1 Axes>"
      ]
     },
     "metadata": {},
     "output_type": "display_data"
    }
   ],
   "source": [
    "arch_pd = hf_customers.cbind(glrm_arch_x).as_data_frame()\n",
    "plt.scatter(arch_pd[\"Arch1\"], arch_pd[\"Arch2\"], alpha = 0.5)\n",
    "\n",
    "plt.xlabel(\"Arch1\")\n",
    "plt.ylabel(\"Arch2\")"
   ]
  },
  {
   "cell_type": "markdown",
   "metadata": {},
   "source": [
    "## Clustering with GLRM Data\n",
    "\n",
    "We can also use GLRM to remove correlated variables from the data.  This would prevent our k-means model from being overly weighted by correlated variables such as Grocery.\n",
    "\n",
    "If we run GLRM with no dimensionality reduction, we can see that the first 4 archetypes account for more than 90% of variance.  Therefore, we will reduce the size of our data to 4 archetypes."
   ]
  },
  {
   "cell_type": "code",
   "execution_count": 27,
   "metadata": {},
   "outputs": [
    {
     "name": "stdout",
     "output_type": "stream",
     "text": [
      "glrm Model Build progress: |██████████████████████████████████████████████| 100%\n"
     ]
    }
   ],
   "source": [
    "# Run GLRM without reduction\n",
    "glrm_model = H2OGeneralizedLowRankEstimator(k = 8,\n",
    "                                            transform = \"STANDARDIZE\",\n",
    "                                            loss = \"Quadratic\",\n",
    "                                            regularization_x = \"L1\",\n",
    "                                            regularization_y = \"L1\",\n",
    "                                            gamma_x = 0.1,\n",
    "                                            gamma_y = 0.1,\n",
    "                                            seed = 1234,\n",
    "                                            model_id = \"glrm_4\")\n",
    "glrm_model.train(x = hf_customers.names, training_frame= hf_customers)"
   ]
  },
  {
   "cell_type": "code",
   "execution_count": 28,
   "metadata": {},
   "outputs": [
    {
     "name": "stdout",
     "output_type": "stream",
     "text": [
      "Importance of components: \n"
     ]
    },
    {
     "data": {
      "text/html": [
       "<div style=\"overflow:auto\"><table style=\"width:50%\"><tr><td><b></b></td>\n",
       "<td><b>pc1</b></td>\n",
       "<td><b>pc2</b></td>\n",
       "<td><b>pc3</b></td>\n",
       "<td><b>pc4</b></td>\n",
       "<td><b>pc5</b></td>\n",
       "<td><b>pc6</b></td>\n",
       "<td><b>pc7</b></td>\n",
       "<td><b>pc8</b></td></tr>\n",
       "<tr><td>Standard deviation</td>\n",
       "<td>1.7224688</td>\n",
       "<td>1.6983412</td>\n",
       "<td>0.8586318</td>\n",
       "<td>0.8032225</td>\n",
       "<td>0.5225184</td>\n",
       "<td>0.4785542</td>\n",
       "<td>0.4257691</td>\n",
       "<td>0.2959058</td></tr>\n",
       "<tr><td>Proportion of Variance</td>\n",
       "<td>0.3706513</td>\n",
       "<td>0.3603402</td>\n",
       "<td>0.0921036</td>\n",
       "<td>0.0805999</td>\n",
       "<td>0.0341088</td>\n",
       "<td>0.0286105</td>\n",
       "<td>0.0226470</td>\n",
       "<td>0.0109388</td></tr>\n",
       "<tr><td>Cumulative Proportion</td>\n",
       "<td>0.3706513</td>\n",
       "<td>0.7309914</td>\n",
       "<td>0.8230950</td>\n",
       "<td>0.9036949</td>\n",
       "<td>0.9378037</td>\n",
       "<td>0.9664142</td>\n",
       "<td>0.9890612</td>\n",
       "<td>1.0000000</td></tr></table></div>"
      ],
      "text/plain": [
       "                        pc1       pc2       pc3        pc4        pc5        pc6        pc7       pc8\n",
       "----------------------  --------  --------  ---------  ---------  ---------  ---------  --------  ---------\n",
       "Standard deviation      1.72247   1.69834   0.858632   0.803222   0.522518   0.478554   0.425769  0.295906\n",
       "Proportion of Variance  0.370651  0.36034   0.0921036  0.0805999  0.0341088  0.0286105  0.022647  0.0109388\n",
       "Cumulative Proportion   0.370651  0.730991  0.823095   0.903695   0.937804   0.966414   0.989061  1"
      ]
     },
     "metadata": {},
     "output_type": "display_data"
    },
    {
     "data": {
      "text/plain": []
     },
     "execution_count": 28,
     "metadata": {},
     "output_type": "execute_result"
    }
   ],
   "source": [
    "glrm_model._model_json[\"output\"][\"importance\"]"
   ]
  },
  {
   "cell_type": "code",
   "execution_count": 29,
   "metadata": {},
   "outputs": [
    {
     "name": "stdout",
     "output_type": "stream",
     "text": [
      "glrm Model Build progress: |██████████████████████████████████████████████| 100%\n"
     ]
    }
   ],
   "source": [
    "# Run GLRM to reduce features to 4 attributes\n",
    "\n",
    "glrm_4_model = H2OGeneralizedLowRankEstimator(k = 4,\n",
    "                                              transform = \"STANDARDIZE\",\n",
    "                                              loss = \"Quadratic\",\n",
    "                                              regularization_x = \"L1\",\n",
    "                                              regularization_y = \"L1\",\n",
    "                                              gamma_x = 0.1,\n",
    "                                              gamma_y = 0.1,\n",
    "                                              seed = 1234,\n",
    "                                              model_id = \"glrm_4\")\n",
    "glrm_4_model.train(x = hf_customers.names, training_frame= hf_customers)"
   ]
  },
  {
   "cell_type": "code",
   "execution_count": 30,
   "metadata": {},
   "outputs": [
    {
     "data": {
      "text/html": [
       "<table>\n",
       "<thead>\n",
       "<tr><th style=\"text-align: right;\">     Arch1</th><th style=\"text-align: right;\">   Arch2</th><th style=\"text-align: right;\">     Arch3</th><th style=\"text-align: right;\">      Arch4</th></tr>\n",
       "</thead>\n",
       "<tbody>\n",
       "<tr><td style=\"text-align: right;\"> 0.0495125</td><td style=\"text-align: right;\">0.262456</td><td style=\"text-align: right;\">-0.0344763</td><td style=\"text-align: right;\">-0.0288137 </td></tr>\n",
       "<tr><td style=\"text-align: right;\"> 0.0697408</td><td style=\"text-align: right;\">0.269944</td><td style=\"text-align: right;\">-0.0147671</td><td style=\"text-align: right;\">-0.0590434 </td></tr>\n",
       "<tr><td style=\"text-align: right;\"> 0.125507 </td><td style=\"text-align: right;\">0.3013  </td><td style=\"text-align: right;\"> 0.10354  </td><td style=\"text-align: right;\">-0.133852  </td></tr>\n",
       "<tr><td style=\"text-align: right;\"> 0.60467  </td><td style=\"text-align: right;\">0.150048</td><td style=\"text-align: right;\">-0.0867186</td><td style=\"text-align: right;\"> 0.127563  </td></tr>\n",
       "<tr><td style=\"text-align: right;\"> 0.0490751</td><td style=\"text-align: right;\">0.300332</td><td style=\"text-align: right;\"> 0.0205804</td><td style=\"text-align: right;\"> 0.0468216 </td></tr>\n",
       "<tr><td style=\"text-align: right;\"> 0.0564371</td><td style=\"text-align: right;\">0.263664</td><td style=\"text-align: right;\">-0.0365405</td><td style=\"text-align: right;\">-0.0420525 </td></tr>\n",
       "<tr><td style=\"text-align: right;\"> 0.0427085</td><td style=\"text-align: right;\">0.266842</td><td style=\"text-align: right;\">-0.0745636</td><td style=\"text-align: right;\">-0.00779223</td></tr>\n",
       "<tr><td style=\"text-align: right;\"> 0.0677786</td><td style=\"text-align: right;\">0.269088</td><td style=\"text-align: right;\">-0.0170879</td><td style=\"text-align: right;\">-0.0561693 </td></tr>\n",
       "<tr><td style=\"text-align: right;\"> 0.460301 </td><td style=\"text-align: right;\">0.216133</td><td style=\"text-align: right;\">-0.0929497</td><td style=\"text-align: right;\">-0.0142577 </td></tr>\n",
       "<tr><td style=\"text-align: right;\">-0.0712903</td><td style=\"text-align: right;\">0.561966</td><td style=\"text-align: right;\">-0.0148183</td><td style=\"text-align: right;\">-0.109197  </td></tr>\n",
       "</tbody>\n",
       "</table>"
      ]
     },
     "metadata": {},
     "output_type": "display_data"
    },
    {
     "data": {
      "text/plain": []
     },
     "execution_count": 30,
     "metadata": {},
     "output_type": "execute_result"
    }
   ],
   "source": [
    "# Get low dimensionality data\n",
    "\n",
    "glrm_arch_x = h2o.get_frame(glrm_4_model._model_json[\"output\"][\"representation_name\"])\n",
    "\n",
    "glrm_arch_x.head()"
   ]
  },
  {
   "cell_type": "markdown",
   "metadata": {},
   "source": [
    "Now we can train k-means on our 4 column dataset.  The k-means model only finds 2 clusters."
   ]
  },
  {
   "cell_type": "code",
   "execution_count": 31,
   "metadata": {},
   "outputs": [
    {
     "name": "stdout",
     "output_type": "stream",
     "text": [
      "kmeans Model Build progress: |████████████████████████████████████████████| 100%\n",
      "Centroid Statistics: \n"
     ]
    },
    {
     "data": {
      "text/html": [
       "<div style=\"overflow:auto\"><table style=\"width:50%\"><tr><td><b></b></td>\n",
       "<td><b>centroid</b></td>\n",
       "<td><b>size</b></td>\n",
       "<td><b>within_cluster_sum_of_squares</b></td></tr>\n",
       "<tr><td></td>\n",
       "<td>1.0</td>\n",
       "<td>229.0</td>\n",
       "<td>332.4632398</td></tr>\n",
       "<tr><td></td>\n",
       "<td>2.0</td>\n",
       "<td>211.0</td>\n",
       "<td>890.3120529</td></tr></table></div>"
      ],
      "text/plain": [
       "    centroid    size    within_cluster_sum_of_squares\n",
       "--  ----------  ------  -------------------------------\n",
       "    1           229     332.463\n",
       "    2           211     890.312"
      ]
     },
     "metadata": {},
     "output_type": "display_data"
    },
    {
     "data": {
      "text/plain": []
     },
     "execution_count": 31,
     "metadata": {},
     "output_type": "execute_result"
    }
   ],
   "source": [
    "kmeans_glrm = H2OKMeansEstimator(estimate_k = True, # Let Kmeans chose the optimal number of clusters\n",
    "                                 k = 20, # Max number of clusters\n",
    "                                 model_id = \"kmeans_glrm.hex\")\n",
    "\n",
    "kmeans_glrm.train(training_frame = glrm_arch_x)\n",
    "\n",
    "kmeans_glrm.centroid_stats()"
   ]
  },
  {
   "cell_type": "code",
   "execution_count": 32,
   "metadata": {},
   "outputs": [
    {
     "name": "stdout",
     "output_type": "stream",
     "text": [
      "kmeans prediction progress: |█████████████████████████████████████████████| 100%\n"
     ]
    }
   ],
   "source": [
    "# Add the cluster to the original frame\n",
    "cluster_glrm_id = kmeans_glrm.predict(glrm_arch_x) + 1\n",
    "cluster_glrm_id.col_names = [\"cluster_glrm\"]\n",
    "\n",
    "hf_customers_ext = hf_customers_ext.cbind(glrm_arch_x)\n",
    "hf_customers_ext = hf_customers_ext.cbind(cluster_glrm_id)"
   ]
  },
  {
   "cell_type": "code",
   "execution_count": 33,
   "metadata": {},
   "outputs": [
    {
     "data": {
      "text/plain": [
       "<matplotlib.legend.Legend at 0x11c982a20>"
      ]
     },
     "execution_count": 33,
     "metadata": {},
     "output_type": "execute_result"
    },
    {
     "data": {
      "image/png": "[encoded data removed]",
      "text/plain": [
       "<Figure size 432x288 with 1 Axes>"
      ]
     },
     "metadata": {},
     "output_type": "display_data"
    }
   ],
   "source": [
    "# Convert H2O Frame to Pandas \n",
    "customers_pd = hf_customers_ext.as_data_frame()\n",
    "\n",
    "colors = ['blue', 'red']\n",
    "\n",
    "for cluster, color in enumerate(colors):\n",
    "    cluster_data = customers_pd[customers_pd[\"cluster_default\"] == cluster]\n",
    "    plt.scatter(cluster_data[\"Arch1\"], cluster_data[\"Arch2\"], c=color, alpha = 0.5, label = cluster)\n",
    "\n",
    "plt.xlabel(\"Arch1\")\n",
    "plt.ylabel(\"Arch2\")\n",
    "plt.legend()"
   ]
  },
  {
   "cell_type": "markdown",
   "metadata": {
    "collapsed": true
   },
   "source": [
    "We will again plot the clusters on the original features to better understand them."
   ]
  },
  {
   "cell_type": "code",
   "execution_count": 34,
   "metadata": {},
   "outputs": [
    {
     "data": {
      "text/plain": [
       "<matplotlib.legend.Legend at 0x11cceddd8>"
      ]
     },
     "execution_count": 34,
     "metadata": {},
     "output_type": "execute_result"
    },
    {
     "data": {
      "image/png": "[encoded data removed]",
      "text/plain": [
       "<Figure size 432x288 with 1 Axes>"
      ]
     },
     "metadata": {},
     "output_type": "display_data"
    }
   ],
   "source": [
    "for cluster, color in enumerate(colors):\n",
    "    cluster_data = customers_pd[customers_pd[\"cluster_default\"] == cluster]\n",
    "    plt.scatter(cluster_data[\"Grocery\"], cluster_data[\"Fresh\"], c=color, alpha = 0.5, label = cluster)\n",
    "\n",
    "plt.xlabel(\"Grocery\")\n",
    "plt.ylabel(\"Fresh\")\n",
    "plt.legend()"
   ]
  },
  {
   "cell_type": "markdown",
   "metadata": {},
   "source": [
    "Now the clusters are not easily explainable across just two dimensions.  Grocery and it's correlated features are no longer over weighted in the kmeans cluster because we have removed all correlations.  If we take a look at the cluster distribution by `Channel`, we can see that Retail customers are primarily in cluster 2.  Hotel/Restaurant customers are primarily in cluster 1."
   ]
  },
  {
   "cell_type": "code",
   "execution_count": 35,
   "metadata": {
    "scrolled": true
   },
   "outputs": [
    {
     "name": "stdout",
     "output_type": "stream",
     "text": [
      "Retail Channel\n"
     ]
    },
    {
     "data": {
      "text/html": [
       "<table>\n",
       "<thead>\n",
       "<tr><th style=\"text-align: right;\">  cluster_glrm</th><th style=\"text-align: right;\">  Count</th></tr>\n",
       "</thead>\n",
       "<tbody>\n",
       "<tr><td style=\"text-align: right;\">             1</td><td style=\"text-align: right;\">      5</td></tr>\n",
       "<tr><td style=\"text-align: right;\">             2</td><td style=\"text-align: right;\">    137</td></tr>\n",
       "</tbody>\n",
       "</table>"
      ]
     },
     "metadata": {},
     "output_type": "display_data"
    },
    {
     "name": "stdout",
     "output_type": "stream",
     "text": [
      "\n",
      "Hotel/Restaurant\n"
     ]
    },
    {
     "data": {
      "text/html": [
       "<table>\n",
       "<thead>\n",
       "<tr><th style=\"text-align: right;\">  cluster_glrm</th><th style=\"text-align: right;\">  Count</th></tr>\n",
       "</thead>\n",
       "<tbody>\n",
       "<tr><td style=\"text-align: right;\">             1</td><td style=\"text-align: right;\">    224</td></tr>\n",
       "<tr><td style=\"text-align: right;\">             2</td><td style=\"text-align: right;\">     74</td></tr>\n",
       "</tbody>\n",
       "</table>"
      ]
     },
     "metadata": {},
     "output_type": "display_data"
    },
    {
     "data": {
      "text/plain": []
     },
     "execution_count": 35,
     "metadata": {},
     "output_type": "execute_result"
    }
   ],
   "source": [
    "print(\"Retail Channel\")\n",
    "print(hf_customers_ext[hf_customers_ext[\"Channel\"] == \"Retail\", \"cluster_glrm\"].table())\n",
    "\n",
    "print(\"Hotel/Restaurant\")\n",
    "hf_customers_ext[hf_customers_ext[\"Channel\"] == \"Hotel/Restaurant\", \"cluster_glrm\"].table()"
   ]
  },
  {
   "cell_type": "markdown",
   "metadata": {},
   "source": [
    "We can also understand the clusters more by calculating the average of the annual purchasing per cluster:"
   ]
  },
  {
   "cell_type": "code",
   "execution_count": 36,
   "metadata": {},
   "outputs": [
    {
     "data": {
      "text/html": [
       "<table>\n",
       "<thead>\n",
       "<tr><th style=\"text-align: right;\">  cluster_glrm</th><th style=\"text-align: right;\">  mean_Fresh</th><th style=\"text-align: right;\">  mean_Milk</th><th style=\"text-align: right;\">  mean_Grocery</th><th style=\"text-align: right;\">  mean_Frozen</th><th style=\"text-align: right;\">  mean_Detergents_Paper</th><th style=\"text-align: right;\">  mean_Delicassen</th></tr>\n",
       "</thead>\n",
       "<tbody>\n",
       "<tr><td style=\"text-align: right;\">             1</td><td style=\"text-align: right;\">    15080.3 </td><td style=\"text-align: right;\">    3237.85</td><td style=\"text-align: right;\">       3777.99</td><td style=\"text-align: right;\">      3548.87</td><td style=\"text-align: right;\">                783.891</td><td style=\"text-align: right;\">          1230.52</td></tr>\n",
       "<tr><td style=\"text-align: right;\">             2</td><td style=\"text-align: right;\">     8657.54</td><td style=\"text-align: right;\">    8572.93</td><td style=\"text-align: right;\">      12480.6 </td><td style=\"text-align: right;\">      2554.31</td><td style=\"text-align: right;\">               5158.04 </td><td style=\"text-align: right;\">          1844.33</td></tr>\n",
       "</tbody>\n",
       "</table>"
      ]
     },
     "metadata": {},
     "output_type": "display_data"
    },
    {
     "data": {
      "text/plain": []
     },
     "execution_count": 36,
     "metadata": {},
     "output_type": "execute_result"
    }
   ],
   "source": [
    "hf_customers_ext.group_by(\"cluster_glrm\").mean(\"Fresh\").mean(\"Milk\").mean(\"Grocery\").mean(\"Frozen\").mean(\"Detergents_Paper\").mean(\"Delicassen\").get_frame()"
   ]
  },
  {
   "cell_type": "markdown",
   "metadata": {},
   "source": [
    " I would explain these clusters as: \n",
    "\n",
    "* Cluster 1: Restaurants/Hotels who buy a lot of Frozen and Fresh produce\n",
    "* Cluster 2: Retail customers who buy a lot of groceries and Detergents/Paper"
   ]
  },
  {
   "cell_type": "code",
   "execution_count": 37,
   "metadata": {},
   "outputs": [
    {
     "name": "stdout",
     "output_type": "stream",
     "text": [
      "H2O session _sid_a9ca closed.\n"
     ]
    }
   ],
   "source": [
    "h2o.cluster().shutdown()"
   ]
  }
 ],
 "metadata": {
  "kernelspec": {
   "display_name": "Python 3",
   "language": "python",
   "name": "python3"
  },
  "language_info": {
   "codemirror_mode": {
    "name": "ipython",
    "version": 3
   },
   "file_extension": ".py",
   "mimetype": "text/x-python",
   "name": "python",
   "nbconvert_exporter": "python",
   "pygments_lexer": "ipython3",
   "version": "3.6.5"
  }
 },
 "nbformat": 4,
 "nbformat_minor": 2
}
