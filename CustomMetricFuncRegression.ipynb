{
 "cells": [
  {
   "cell_type": "markdown",
   "metadata": {},
   "source": [
    "# Using Custom Metric Function\n",
    "\n",
    "In this notebook, we will show an example of how to calculate custom performance metrics on an H2O model. The notebook will go through the following steps:\n",
    "\n",
    "1. Train a GBM model in H2O\n",
    "2. Write a script to calculate Mean Absolute Percent Error (MAPE)\n",
    "3. Train a GBM model in H2O using MAPE as a [`custom_metric_func`](https://github.com/h2oai/h2o-3/blob/master/h2o-docs/src/dev/custom_functions.md)\n",
    "4. Train a Grid of GBMs and choose model based on MAPE\n",
    "\n",
    "\n",
    "## 1. Train a  GBM Model in H2O"
   ]
  },
  {
   "cell_type": "code",
   "execution_count": 1,
   "metadata": {
    "collapsed": true
   },
   "outputs": [],
   "source": [
    "import h2o\n",
    "from h2o.automl import H2OAutoML\n",
    "import random, os, sys\n",
    "from datetime import datetime\n",
    "import pandas as pd\n",
    "import logging\n",
    "import csv\n",
    "import optparse\n",
    "import time\n",
    "import json\n",
    "from distutils.util import strtobool\n",
    "import psutil\n",
    "import numpy as np"
   ]
  },
  {
   "cell_type": "code",
   "execution_count": 2,
   "metadata": {},
   "outputs": [
    {
     "name": "stdout",
     "output_type": "stream",
     "text": [
      "3\n"
     ]
    }
   ],
   "source": [
    "pct_memory=0.5\n",
    "virtual_memory=psutil.virtual_memory()\n",
    "min_mem_size=int(round(int(pct_memory*virtual_memory.available)/1073741824,0))\n",
    "print(min_mem_size)"
   ]
  },
  {
   "cell_type": "code",
   "execution_count": 3,
   "metadata": {},
   "outputs": [
    {
     "name": "stdout",
     "output_type": "stream",
     "text": [
      "Checking whether there is an H2O instance running at http://localhost:7235..... not found.\n",
      "Attempting to start a local H2O server...\n",
      "  Java Version: openjdk version \"1.8.0_121\"; OpenJDK Runtime Environment (Zulu 8.20.0.5-macosx) (build 1.8.0_121-b15); OpenJDK 64-Bit Server VM (Zulu 8.20.0.5-macosx) (build 25.121-b15, mixed mode)\n",
      "  Starting server from /Users/bear/anaconda/lib/python3.6/site-packages/h2o/backend/bin/h2o.jar\n",
      "  Ice root: /var/folders/lh/42j8mfjx069d1bkc2wlf2pw40000gn/T/tmpptr4zi7o\n",
      "  JVM stdout: /var/folders/lh/42j8mfjx069d1bkc2wlf2pw40000gn/T/tmpptr4zi7o/h2o_bear_started_from_python.out\n",
      "  JVM stderr: /var/folders/lh/42j8mfjx069d1bkc2wlf2pw40000gn/T/tmpptr4zi7o/h2o_bear_started_from_python.err\n",
      "  Server is running at http://127.0.0.1:7235\n",
      "Connecting to H2O server at http://127.0.0.1:7235... successful.\n"
     ]
    },
    {
     "data": {
      "text/html": [
       "<div style=\"overflow:auto\"><table style=\"width:50%\"><tr><td>H2O cluster uptime:</td>\n",
       "<td>01 secs</td></tr>\n",
       "<tr><td>H2O cluster timezone:</td>\n",
       "<td>America/New_York</td></tr>\n",
       "<tr><td>H2O data parsing timezone:</td>\n",
       "<td>UTC</td></tr>\n",
       "<tr><td>H2O cluster version:</td>\n",
       "<td>3.22.1.3</td></tr>\n",
       "<tr><td>H2O cluster version age:</td>\n",
       "<td>14 days, 4 hours and 31 minutes </td></tr>\n",
       "<tr><td>H2O cluster name:</td>\n",
       "<td>H2O_from_python_bear_xhvtoz</td></tr>\n",
       "<tr><td>H2O cluster total nodes:</td>\n",
       "<td>1</td></tr>\n",
       "<tr><td>H2O cluster free memory:</td>\n",
       "<td>3.556 Gb</td></tr>\n",
       "<tr><td>H2O cluster total cores:</td>\n",
       "<td>8</td></tr>\n",
       "<tr><td>H2O cluster allowed cores:</td>\n",
       "<td>8</td></tr>\n",
       "<tr><td>H2O cluster status:</td>\n",
       "<td>accepting new members, healthy</td></tr>\n",
       "<tr><td>H2O connection url:</td>\n",
       "<td>http://127.0.0.1:7235</td></tr>\n",
       "<tr><td>H2O connection proxy:</td>\n",
       "<td>None</td></tr>\n",
       "<tr><td>H2O internal security:</td>\n",
       "<td>False</td></tr>\n",
       "<tr><td>H2O API Extensions:</td>\n",
       "<td>XGBoost, Algos, AutoML, Core V3, Core V4</td></tr>\n",
       "<tr><td>Python version:</td>\n",
       "<td>3.6.5 final</td></tr></table></div>"
      ],
      "text/plain": [
       "--------------------------  ----------------------------------------\n",
       "H2O cluster uptime:         01 secs\n",
       "H2O cluster timezone:       America/New_York\n",
       "H2O data parsing timezone:  UTC\n",
       "H2O cluster version:        3.22.1.3\n",
       "H2O cluster version age:    14 days, 4 hours and 31 minutes\n",
       "H2O cluster name:           H2O_from_python_bear_xhvtoz\n",
       "H2O cluster total nodes:    1\n",
       "H2O cluster free memory:    3.556 Gb\n",
       "H2O cluster total cores:    8\n",
       "H2O cluster allowed cores:  8\n",
       "H2O cluster status:         accepting new members, healthy\n",
       "H2O connection url:         http://127.0.0.1:7235\n",
       "H2O connection proxy:\n",
       "H2O internal security:      False\n",
       "H2O API Extensions:         XGBoost, Algos, AutoML, Core V3, Core V4\n",
       "Python version:             3.6.5 final\n",
       "--------------------------  ----------------------------------------"
      ]
     },
     "metadata": {},
     "output_type": "display_data"
    }
   ],
   "source": [
    "# 65535 Highest port no\n",
    "port_no=random.randint(5555,55555)\n",
    "h2o.init(strict_version_check=False,min_mem_size_GB=min_mem_size,port=port_no) # start h2o"
   ]
  },
  {
   "cell_type": "code",
   "execution_count": 4,
   "metadata": {},
   "outputs": [
    {
     "name": "stdout",
     "output_type": "stream",
     "text": [
      "Parse progress: |█████████████████████████████████████████████████████████| 100%\n"
     ]
    }
   ],
   "source": [
    "# Import Data\n",
    "train_path = \"data/loan.csv\"\n",
    "train = h2o.import_file(train_path, destination_frame = \"loan_train\")"
   ]
  },
  {
   "cell_type": "code",
   "execution_count": 5,
   "metadata": {
    "collapsed": true
   },
   "outputs": [],
   "source": [
    "# Set target and predictor variables\n",
    "y = \"int_rate\"\n",
    "x = train.col_names\n",
    "x.remove(y)\n",
    "x.remove(\"bad_loan\")"
   ]
  },
  {
   "cell_type": "code",
   "execution_count": 6,
   "metadata": {},
   "outputs": [
    {
     "name": "stdout",
     "output_type": "stream",
     "text": [
      "gbm Model Build progress: |███████████████████████████████████████████████| 100%\n"
     ]
    }
   ],
   "source": [
    "# Train GBM Model\n",
    "from h2o.estimators import H2OGradientBoostingEstimator\n",
    "\n",
    "gbm_v1 = H2OGradientBoostingEstimator(model_id = \"gbm_v1.hex\")\n",
    "\n",
    "gbm_v1.train(y = y, x = x, training_frame = train)"
   ]
  },
  {
   "cell_type": "code",
   "execution_count": 7,
   "metadata": {},
   "outputs": [
    {
     "name": "stdout",
     "output_type": "stream",
     "text": [
      "Model Details\n",
      "=============\n",
      "H2OGradientBoostingEstimator :  Gradient Boosting Machine\n",
      "Model Key:  gbm_v1.hex\n",
      "\n",
      "\n",
      "ModelMetricsRegression: gbm\n",
      "** Reported on train data. **\n",
      "\n",
      "MSE: 10.889553004292022\n",
      "RMSE: 3.2999322726825806\n",
      "MAE: 2.6385683124779997\n",
      "RMSLE: 0.23820098598547484\n",
      "Mean Residual Deviance: 10.889553004292022\n",
      "Scoring History: \n"
     ]
    },
    {
     "data": {
      "text/html": [
       "<div style=\"overflow:auto\"><table style=\"width:50%\"><tr><td><b></b></td>\n",
       "<td><b>timestamp</b></td>\n",
       "<td><b>duration</b></td>\n",
       "<td><b>number_of_trees</b></td>\n",
       "<td><b>training_rmse</b></td>\n",
       "<td><b>training_mae</b></td>\n",
       "<td><b>training_deviance</b></td></tr>\n",
       "<tr><td></td>\n",
       "<td>2019-02-09 00:20:50</td>\n",
       "<td> 0.023 sec</td>\n",
       "<td>0.0</td>\n",
       "<td>4.3919265</td>\n",
       "<td>3.5248550</td>\n",
       "<td>19.2890183</td></tr>\n",
       "<tr><td></td>\n",
       "<td>2019-02-09 00:20:50</td>\n",
       "<td> 0.694 sec</td>\n",
       "<td>1.0</td>\n",
       "<td>4.2431782</td>\n",
       "<td>3.4077985</td>\n",
       "<td>18.0045609</td></tr>\n",
       "<tr><td></td>\n",
       "<td>2019-02-09 00:20:50</td>\n",
       "<td> 0.892 sec</td>\n",
       "<td>2.0</td>\n",
       "<td>4.1176423</td>\n",
       "<td>3.3086766</td>\n",
       "<td>16.9549780</td></tr>\n",
       "<tr><td></td>\n",
       "<td>2019-02-09 00:20:51</td>\n",
       "<td> 1.036 sec</td>\n",
       "<td>3.0</td>\n",
       "<td>4.0115703</td>\n",
       "<td>3.2245441</td>\n",
       "<td>16.0926965</td></tr>\n",
       "<tr><td></td>\n",
       "<td>2019-02-09 00:20:51</td>\n",
       "<td> 1.225 sec</td>\n",
       "<td>4.0</td>\n",
       "<td>3.9217182</td>\n",
       "<td>3.1531439</td>\n",
       "<td>15.3798737</td></tr>\n",
       "<tr><td>---</td>\n",
       "<td>---</td>\n",
       "<td>---</td>\n",
       "<td>---</td>\n",
       "<td>---</td>\n",
       "<td>---</td>\n",
       "<td>---</td></tr>\n",
       "<tr><td></td>\n",
       "<td>2019-02-09 00:20:52</td>\n",
       "<td> 2.885 sec</td>\n",
       "<td>16.0</td>\n",
       "<td>3.4798396</td>\n",
       "<td>2.8014681</td>\n",
       "<td>12.1092835</td></tr>\n",
       "<tr><td></td>\n",
       "<td>2019-02-09 00:20:53</td>\n",
       "<td> 3.038 sec</td>\n",
       "<td>17.0</td>\n",
       "<td>3.4659556</td>\n",
       "<td>2.7895055</td>\n",
       "<td>12.0128484</td></tr>\n",
       "<tr><td></td>\n",
       "<td>2019-02-09 00:20:53</td>\n",
       "<td> 3.191 sec</td>\n",
       "<td>18.0</td>\n",
       "<td>3.4536410</td>\n",
       "<td>2.7790570</td>\n",
       "<td>11.9276360</td></tr>\n",
       "<tr><td></td>\n",
       "<td>2019-02-09 00:20:53</td>\n",
       "<td> 3.467 sec</td>\n",
       "<td>19.0</td>\n",
       "<td>3.4418346</td>\n",
       "<td>2.7687771</td>\n",
       "<td>11.8462251</td></tr>\n",
       "<tr><td></td>\n",
       "<td>2019-02-09 00:20:56</td>\n",
       "<td> 6.017 sec</td>\n",
       "<td>50.0</td>\n",
       "<td>3.2999323</td>\n",
       "<td>2.6385683</td>\n",
       "<td>10.8895530</td></tr></table></div>"
      ],
      "text/plain": [
       "     timestamp            duration    number_of_trees    training_rmse       training_mae        training_deviance\n",
       "---  -------------------  ----------  -----------------  ------------------  ------------------  -------------------\n",
       "     2019-02-09 00:20:50  0.023 sec   0.0                4.391926495898687   3.5248550394224876  19.28901834537692\n",
       "     2019-02-09 00:20:50  0.694 sec   1.0                4.2431781564136415  3.4077984864111293  18.004560867065873\n",
       "     2019-02-09 00:20:50  0.892 sec   2.0                4.117642288375301   3.308676625572864   16.954978015016586\n",
       "     2019-02-09 00:20:51  1.036 sec   3.0                4.011570329216773   3.224544091914307   16.09269650625237\n",
       "     2019-02-09 00:20:51  1.225 sec   4.0                3.921718207377296   3.153143911163326   15.379873698074592\n",
       "---  ---                  ---         ---                ---                 ---                 ---\n",
       "     2019-02-09 00:20:52  2.885 sec   16.0               3.4798395777021023  2.8014680547404325  12.109283486541946\n",
       "     2019-02-09 00:20:53  3.038 sec   17.0               3.4659556303038794  2.789505477311785   12.012848431235161\n",
       "     2019-02-09 00:20:53  3.191 sec   18.0               3.453640975639488   2.779056959286503   11.927635988616073\n",
       "     2019-02-09 00:20:53  3.467 sec   19.0               3.441834561106901   2.7687770999310213  11.846225146029935\n",
       "     2019-02-09 00:20:56  6.017 sec   50.0               3.2999322726825806  2.6385683124779997  10.889553004292022"
      ]
     },
     "metadata": {},
     "output_type": "display_data"
    },
    {
     "name": "stdout",
     "output_type": "stream",
     "text": [
      "\n",
      "See the whole table with table.as_data_frame()\n",
      "Variable Importances: \n"
     ]
    },
    {
     "data": {
      "text/html": [
       "<div style=\"overflow:auto\"><table style=\"width:50%\"><tr><td><b>variable</b></td>\n",
       "<td><b>relative_importance</b></td>\n",
       "<td><b>scaled_importance</b></td>\n",
       "<td><b>percentage</b></td></tr>\n",
       "<tr><td>term</td>\n",
       "<td>3314836.2500000</td>\n",
       "<td>1.0</td>\n",
       "<td>0.4574651</td></tr>\n",
       "<tr><td>revol_util</td>\n",
       "<td>2051101.2500000</td>\n",
       "<td>0.6187640</td>\n",
       "<td>0.2830629</td></tr>\n",
       "<tr><td>purpose</td>\n",
       "<td>387989.8750000</td>\n",
       "<td>0.1170465</td>\n",
       "<td>0.0535447</td></tr>\n",
       "<tr><td>delinq_2yrs</td>\n",
       "<td>317014.2812500</td>\n",
       "<td>0.0956350</td>\n",
       "<td>0.0437497</td></tr>\n",
       "<tr><td>loan_amnt</td>\n",
       "<td>274672.9375000</td>\n",
       "<td>0.0828617</td>\n",
       "<td>0.0379063</td></tr>\n",
       "<tr><td>longest_credit_length</td>\n",
       "<td>191578.5468750</td>\n",
       "<td>0.0577943</td>\n",
       "<td>0.0264389</td></tr>\n",
       "<tr><td>verification_status</td>\n",
       "<td>174609.3906250</td>\n",
       "<td>0.0526751</td>\n",
       "<td>0.0240970</td></tr>\n",
       "<tr><td>home_ownership</td>\n",
       "<td>155358.8125000</td>\n",
       "<td>0.0468677</td>\n",
       "<td>0.0214403</td></tr>\n",
       "<tr><td>dti</td>\n",
       "<td>117325.0937500</td>\n",
       "<td>0.0353939</td>\n",
       "<td>0.0161915</td></tr>\n",
       "<tr><td>annual_inc</td>\n",
       "<td>113351.8281250</td>\n",
       "<td>0.0341953</td>\n",
       "<td>0.0156432</td></tr>\n",
       "<tr><td>addr_state</td>\n",
       "<td>90450.8281250</td>\n",
       "<td>0.0272867</td>\n",
       "<td>0.0124827</td></tr>\n",
       "<tr><td>total_acc</td>\n",
       "<td>41374.9296875</td>\n",
       "<td>0.0124817</td>\n",
       "<td>0.0057100</td></tr>\n",
       "<tr><td>emp_length</td>\n",
       "<td>16431.9746094</td>\n",
       "<td>0.0049571</td>\n",
       "<td>0.0022677</td></tr></table></div>"
      ],
      "text/plain": [
       "variable               relative_importance    scaled_importance    percentage\n",
       "---------------------  ---------------------  -------------------  ------------\n",
       "term                   3.31484e+06            1                    0.457465\n",
       "revol_util             2.0511e+06             0.618764             0.283063\n",
       "purpose                387990                 0.117046             0.0535447\n",
       "delinq_2yrs            317014                 0.095635             0.0437497\n",
       "loan_amnt              274673                 0.0828617            0.0379063\n",
       "longest_credit_length  191579                 0.0577943            0.0264389\n",
       "verification_status    174609                 0.0526751            0.024097\n",
       "home_ownership         155359                 0.0468677            0.0214403\n",
       "dti                    117325                 0.0353939            0.0161915\n",
       "annual_inc             113352                 0.0341953            0.0156432\n",
       "addr_state             90450.8                0.0272867            0.0124827\n",
       "total_acc              41374.9                0.0124817            0.00570996\n",
       "emp_length             16432                  0.0049571            0.0022677"
      ]
     },
     "metadata": {},
     "output_type": "display_data"
    },
    {
     "name": "stdout",
     "output_type": "stream",
     "text": [
      "\n"
     ]
    }
   ],
   "source": [
    "print(gbm_v1)"
   ]
  },
  {
   "cell_type": "markdown",
   "metadata": {},
   "source": [
    "## 2. Write Script to Calculate Mean Absolute Percent Error (MAPE)\n",
    "\n",
    "### Function to Calculate MAPE in H2O"
   ]
  },
  {
   "cell_type": "code",
   "execution_count": 8,
   "metadata": {
    "collapsed": true
   },
   "outputs": [],
   "source": [
    "def MAPE(actual, predict):\n",
    "    abs_pct_error = abs((actual - predict) / actual)\n",
    "    mape = abs_pct_error.mean()[0]\n",
    "    return mape"
   ]
  },
  {
   "cell_type": "code",
   "execution_count": 9,
   "metadata": {},
   "outputs": [
    {
     "name": "stdout",
     "output_type": "stream",
     "text": [
      "gbm prediction progress: |████████████████████████████████████████████████| 100%\n",
      "MAPE: 0.2195\n"
     ]
    }
   ],
   "source": [
    "mape_v1 = MAPE(train[y], gbm_v1.predict(train))\n",
    "print(\"MAPE: \" + str(round(mape_v1, 4)))"
   ]
  },
  {
   "cell_type": "markdown",
   "metadata": {},
   "source": [
    "### Python Script to calculate MAPE in custom_metric_func\n",
    "\n",
    "The MAPE metric is defined in a class stored in utils_model_metrics.py. This class contains three methods `map`, `reduce`, and `metric`. The `map` method takes 5 arguments `predicted`, `actual`, `weight`, `offset` and `model`.\n",
    "\n",
    "```\n",
    "class MapeMetric:\n",
    "    def map(self, predicted, actual, weight, offset, model):\n",
    "        return [weight * abs((actual[0] - predicted[0]) / actual[0]), weight]\n",
    "\n",
    "    def reduce(self, left, right):\n",
    "        return [left[0] + right[0], left[1] + right[1]]\n",
    "\n",
    "    def metric(self, last):\n",
    "        return last[0] / last[1]\n",
    "```\n",
    "\n",
    "This class definition is uploaded to the H2O cluster using [`h2o.upload_custom_metric`](http://docs.h2o.ai/h2o/latest-stable/h2o-py/docs/h2o.html?highlight=custom_metric#h2o.upload_custom_metric)."
   ]
  },
  {
   "cell_type": "code",
   "execution_count": 10,
   "metadata": {
    "collapsed": true
   },
   "outputs": [],
   "source": [
    "from utils_model_metrics import MapeMetric\n",
    "\n",
    "mape_func = h2o.upload_custom_metric(MapeMetric, func_name = \"MAPE\", func_file = \"mape.py\")"
   ]
  },
  {
   "cell_type": "code",
   "execution_count": 11,
   "metadata": {},
   "outputs": [
    {
     "data": {
      "text/plain": [
       "str"
      ]
     },
     "execution_count": 11,
     "metadata": {},
     "output_type": "execute_result"
    }
   ],
   "source": [
    "type(mape_func)"
   ]
  },
  {
   "cell_type": "code",
   "execution_count": 12,
   "metadata": {},
   "outputs": [
    {
     "name": "stdout",
     "output_type": "stream",
     "text": [
      "python:MAPE=mape.MapeMetricWrapper\n"
     ]
    }
   ],
   "source": [
    "print(mape_func)"
   ]
  },
  {
   "cell_type": "markdown",
   "metadata": {},
   "source": [
    "## 3. Train a GBM Model using custom_metric_func to calculate MAPE\n",
    "\n",
    "The [`H2OGeneralizedLinearEstimator`](http://docs.h2o.ai/h2o/latest-stable/h2o-py/docs/modeling.html?highlight=automl#h2ogeneralizedlinearestimator),\n",
    "[`H2ORandomForestEstimator`](http://docs.h2o.ai/h2o/latest-stable/h2o-py/docs/modeling.html?highlight=automl#h2orandomforestestimator), and\n",
    "[`H2OGradientBoostingEstimator`](http://docs.h2o.ai/h2o/latest-stable/h2o-py/docs/modeling.html?highlight=automl#h2ogradientboostingestimator) models accept a `custom_metric_func` argument."
   ]
  },
  {
   "cell_type": "code",
   "execution_count": 13,
   "metadata": {},
   "outputs": [
    {
     "name": "stdout",
     "output_type": "stream",
     "text": [
      "gbm Model Build progress: |███████████████████████████████████████████████| 100%\n"
     ]
    }
   ],
   "source": [
    "# Train GBM Model with custom_metric_function\n",
    "gbm_v2 = H2OGradientBoostingEstimator(model_id = \"gbm_v2.hex\",\n",
    "                                      custom_metric_func = mape_func)\n",
    "\n",
    "gbm_v2.train(y = y, x = x, training_frame = train)"
   ]
  },
  {
   "cell_type": "code",
   "execution_count": 14,
   "metadata": {},
   "outputs": [
    {
     "name": "stdout",
     "output_type": "stream",
     "text": [
      "\n",
      "ModelMetricsRegression: gbm\n",
      "** Reported on train data. **\n",
      "\n",
      "MSE: 10.889553004292022\n",
      "RMSE: 3.2999322726825806\n",
      "MAE: 2.6385683124779997\n",
      "RMSLE: 0.23820098598547484\n",
      "Mean Residual Deviance: 10.889553004292022\n",
      "MAPE: 0.21950013462414486\n"
     ]
    },
    {
     "data": {
      "text/plain": []
     },
     "execution_count": 14,
     "metadata": {},
     "output_type": "execute_result"
    }
   ],
   "source": [
    "perf = gbm_v2.model_performance()\n",
    "perf"
   ]
  },
  {
   "cell_type": "code",
   "execution_count": 15,
   "metadata": {},
   "outputs": [
    {
     "data": {
      "text/plain": [
       "'MAPE'"
      ]
     },
     "execution_count": 15,
     "metadata": {},
     "output_type": "execute_result"
    }
   ],
   "source": [
    "perf.custom_metric_name()"
   ]
  },
  {
   "cell_type": "code",
   "execution_count": 16,
   "metadata": {},
   "outputs": [
    {
     "data": {
      "text/plain": [
       "0.21950013462414486"
      ]
     },
     "execution_count": 16,
     "metadata": {},
     "output_type": "execute_result"
    }
   ],
   "source": [
    "perf.custom_metric_value()"
   ]
  },
  {
   "cell_type": "markdown",
   "metadata": {
    "collapsed": true
   },
   "source": [
    "We can see that our custom mae function is in the model performance metrics labeled `mae`.  This value matches the MAE calculated in our original GBM model."
   ]
  },
  {
   "cell_type": "code",
   "execution_count": null,
   "metadata": {},
   "outputs": [
    {
     "name": "stdout",
     "output_type": "stream",
     "text": [
      "MAPE V1: 0.2195\n",
      "MAPE V2: 0.2195\n"
     ]
    }
   ],
   "source": [
    "print(\"MAPE V1: \" + str(round(mape_v1, 4)))\n",
    "print(\"MAPE V2: \" + str(round(gbm_v2.model_performance().custom_metric_value(), 4)))"
   ]
  },
  {
   "cell_type": "markdown",
   "metadata": {},
   "source": [
    "## 4. Train a Grid of GBMs and choose model based on MAPE"
   ]
  },
  {
   "cell_type": "code",
   "execution_count": null,
   "metadata": {},
   "outputs": [
    {
     "name": "stdout",
     "output_type": "stream",
     "text": [
      "gbm Grid Build progress: |█████████████████████████████████████████"
     ]
    }
   ],
   "source": [
    "from h2o.grid.grid_search import H2OGridSearch\n",
    "gbm_hyper_parameters = {'max_depth': [7, 8, 9]}\n",
    "gbm_grid = H2OGridSearch(H2OGradientBoostingEstimator(custom_metric_func = mape_func,\n",
    "                                                      nfolds = 5),\n",
    "                           gbm_hyper_parameters)\n",
    "gbm_grid.train(x = x, y = y, training_frame = train, grid_id = \"gbm_grid\")"
   ]
  },
  {
   "cell_type": "code",
   "execution_count": null,
   "metadata": {
    "collapsed": true
   },
   "outputs": [],
   "source": [
    "sorted([[h2o.get_model(x).model_performance(xval = True).custom_metric_value(), x] for x in gbm_grid.model_ids])"
   ]
  },
  {
   "cell_type": "markdown",
   "metadata": {},
   "source": [
    "## Shutdown H2O Cluster"
   ]
  },
  {
   "cell_type": "code",
   "execution_count": null,
   "metadata": {
    "collapsed": true
   },
   "outputs": [],
   "source": [
    "h2o.cluster().shutdown()"
   ]
  }
 ],
 "metadata": {
  "kernelspec": {
   "display_name": "Python 3",
   "language": "python",
   "name": "python3"
  },
  "language_info": {
   "codemirror_mode": {
    "name": "ipython",
    "version": 3
   },
   "file_extension": ".py",
   "mimetype": "text/x-python",
   "name": "python",
   "nbconvert_exporter": "python",
   "pygments_lexer": "ipython3",
   "version": "3.6.5"
  }
 },
 "nbformat": 4,
 "nbformat_minor": 2
}
